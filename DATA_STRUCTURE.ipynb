{
  "nbformat": 4,
  "nbformat_minor": 0,
  "metadata": {
    "colab": {
      "provenance": [],
      "collapsed_sections": [],
      "authorship_tag": "ABX9TyOwULluNQHXjPE5MHcNvsXo",
      "include_colab_link": true
    },
    "kernelspec": {
      "name": "python3",
      "display_name": "Python 3"
    },
    "language_info": {
      "name": "python"
    }
  },
  "cells": [
    {
      "cell_type": "markdown",
      "metadata": {
        "id": "view-in-github",
        "colab_type": "text"
      },
      "source": [
        "<a href=\"https://colab.research.google.com/github/shubhkhatwase/Exploratory-data-analysis-/blob/main/DATA_STRUCTURE.ipynb\" target=\"_parent\"><img src=\"https://colab.research.google.com/assets/colab-badge.svg\" alt=\"Open In Colab\"/></a>"
      ]
    },
    {
      "cell_type": "code",
      "execution_count": null,
      "metadata": {
        "id": "FfBucBEXYpgl"
      },
      "outputs": [],
      "source": [
        "queue=[]\n",
        "queue.append(78)\n",
        "queue.append(55)\n",
        "queue.append(45)\n",
        "queue\n",
        "not queue\n",
        "queue.pop()\n",
        "queue.pop()\n",
        "queue.pop()"
      ]
    },
    {
      "cell_type": "code",
      "source": [
        "queue = []\n",
        "queue.insert(0,10)\n",
        "queue.insert(1,20)\n",
        "queue.insert(2,50)\n",
        "queue"
      ],
      "metadata": {
        "id": "xxSiVzVtZAQz"
      },
      "execution_count": null,
      "outputs": []
    },
    {
      "cell_type": "code",
      "source": [
        "queue.pop()"
      ],
      "metadata": {
        "id": "t8gW4UUHafYr"
      },
      "execution_count": null,
      "outputs": []
    },
    {
      "cell_type": "code",
      "source": [
        "not queue"
      ],
      "metadata": {
        "id": "XNulirZWalZ1"
      },
      "execution_count": null,
      "outputs": []
    },
    {
      "cell_type": "code",
      "source": [
        "queue = []\n",
        "def enqueue():\n",
        "  element = input(\"Enter Your Element: \")\n",
        "  queue.append(element)\n",
        "  print(element,\"added to queue\")\n",
        "def dequeue():\n",
        "  if not queue:\n",
        "    print(\"queue is Empty\")\n",
        "  else:\n",
        "     d = queue.pop(0)\n",
        "     print(\"removed\",d)\n",
        "def disply():\n",
        "  print(queue)\n",
        "while True:\n",
        "  print(\"Select choice 1.add 2.remove 3.display 4.quit\")\n",
        "  choice = int(input(\"Enter Element: \"))\n",
        "  if choice == 1:\n",
        "    enqueue()\n",
        "  elif choice == 2:\n",
        "    dequeue()\n",
        "  elif choice == 3:\n",
        "    display()\n",
        "  elif choice == 4:\n",
        "    break\n",
        "  else:\n",
        "    print(\"Choice item not Exist\")"
      ],
      "metadata": {
        "colab": {
          "base_uri": "https://localhost:8080/"
        },
        "id": "tw9-3jsNapNT",
        "outputId": "415066f5-2b1c-4af4-c923-253ddd09448c"
      },
      "execution_count": null,
      "outputs": [
        {
          "name": "stdout",
          "output_type": "stream",
          "text": [
            "Select choice 1.add 2.remove 3.display 4.quit\n",
            "25 added to queue\n",
            "Select choice 1.add 2.remove 3.display 4.quit\n",
            "52 added to queue\n",
            "Select choice 1.add 2.remove 3.display 4.quit\n",
            "Enter Element: 4\n"
          ]
        }
      ]
    },
    {
      "cell_type": "code",
      "source": [
        "queue = []\n",
        "def enqueue():\n",
        "  element = input(\"First customer name: \")\n",
        "  queue.insert(0,element)\n",
        "  print(element,\"added to queue\")\n",
        "def dequeue():\n",
        "  if not queue:\n",
        "    print(\"queue is Empty\")\n",
        "  else:\n",
        "     d = queue.pop()\n",
        "     print(\"removed\",d)\n",
        "def disply():\n",
        "  print(queue)\n",
        "while True:\n",
        "  print(\"Select choice 1.add 2.remove 3.display 4.quit\")\n",
        "  choice = int(input(\"Which movie do you like: \"))\n",
        "  if choice == 1:\n",
        "    enqueue()\n",
        "  elif choice == 2:\n",
        "    dequeue()\n",
        "  elif choice == 3:\n",
        "    display()\n",
        "  elif choice == 4:\n",
        "    break\n",
        "  else:\n",
        "    print(\"Choice item not Exist\")"
      ],
      "metadata": {
        "id": "XuoJcaFRe_7Q",
        "colab": {
          "base_uri": "https://localhost:8080/"
        },
        "outputId": "306a5b60-302a-4ec2-8012-e16b61062816"
      },
      "execution_count": null,
      "outputs": [
        {
          "name": "stdout",
          "output_type": "stream",
          "text": [
            "Select choice 1.add 2.remove 3.display 4.quit\n",
            "Enter Element: 1\n",
            "Enter Your Element: 26\n",
            "26 added to queue\n",
            "Select choice 1.add 2.remove 3.display 4.quit\n",
            "Enter Element: 1\n",
            "Enter Your Element: 65\n",
            "65 added to queue\n",
            "Select choice 1.add 2.remove 3.display 4.quit\n",
            "Enter Element: 1\n",
            "Enter Your Element: 65\n",
            "65 added to queue\n",
            "Select choice 1.add 2.remove 3.display 4.quit\n",
            "Enter Element: 3\n",
            "Select choice 1.add 2.remove 3.display 4.quit\n",
            "Enter Element: 3\n",
            "Select choice 1.add 2.remove 3.display 4.quit\n",
            "Enter Element: 4\n"
          ]
        }
      ]
    },
    {
      "cell_type": "code",
      "source": [
        "queue = []\n",
        "def enqueue():\n",
        "  element = input(\"Enter Your Element: \")\n",
        "  queue.append(element)\n",
        "  print(element,\"added to queue\")\n",
        "def dequeue():\n",
        "  if not queue:\n",
        "    print(\"queue is Empty\")\n",
        "  else:\n",
        "     d = queue.pop(0)\n",
        "     print(\"removed\",d)\n",
        "def disply():\n",
        "  print(queue)\n",
        "while True:\n",
        "  print(\"Select choice 1.add 2.remove 3.display 4.quit\")\n",
        "  choice = int(input(\"Enter Element: \"))\n",
        "  if choice == 1:\n",
        "    enqueue()\n",
        "  elif choice == 2:\n",
        "    dequeue()\n",
        "  elif choice == 3:\n",
        "    display()\n",
        "  elif choice == 4:\n",
        "    break\n",
        "  else:\n",
        "    print(\"Choice item not Exist\")"
      ],
      "metadata": {
        "id": "wrSTWeR3gIgH"
      },
      "execution_count": null,
      "outputs": []
    },
    {
      "cell_type": "code",
      "source": [
        "class Node():\n",
        "  def __init__(self, val = None):\n",
        "    self.data = val\n",
        "    self.next = None\n",
        "class LinkedList: \n",
        "  def __init__(self):\n",
        "    self.head = None\n",
        "  def append(self, val):\n",
        "    if self.head == None:\n",
        "      self.head = Node(val)\n",
        "    else:\n",
        "      temp = self.head\n",
        "      while temp.next != None:\n",
        "        temp = temp.next\n",
        "      temp.next = Node(val)\n",
        "  def show(self):\n",
        "    temp = self.head\n",
        "    while temp != None:\n",
        "      print(temp.data, end = \" \")\n",
        "      temp = temp.next\n",
        "    print()\n",
        "  def search(self, val):\n",
        "    temp= self.head\n",
        "    flage = False\n",
        "    while temp != None:\n",
        "      if temp.data == val:\n",
        "        print(\"Node found\")\n",
        "        flage = True\n",
        "        break\n",
        "      temp = temp.next\n",
        "    if flage == False:\n",
        "      print(\"Node Not found\")\n",
        "  def insertAt(self, val, index):\n",
        "     temp = self.head\n",
        "     if index ==0:\n",
        "        newNode = Node(val)\n",
        "        newNode.next = temp\n",
        "        self.head = newNode\n",
        "     else:\n",
        "         for i in range (index -1):\n",
        "             temp = temp.next\n",
        "             if temp == None:\n",
        "                break \n",
        "     if temp != None:\n",
        "        newNode = Node(val)\n",
        "        newNode.next = temp.next\n",
        "        temp.next = newNode\n",
        "     else:\n",
        "         print(\"index not found to insert a node\")\n",
        "  def delete(self,val):\n",
        "      temp = self.head\n",
        "      prev = None\n",
        "      Flag = False\n",
        "      while temp != None:\n",
        "        if temp.data == val :\n",
        "            Flag = True\n",
        "            if temp == self.head:\n",
        "               self.head = self.head.next\n",
        "               break\n",
        "            else:\n",
        "               prev.next = temp.next\n",
        "               break\n",
        "        prev = temp\n",
        "        temp = temp.next\n",
        "      if Flag == False:\n",
        "        print(\"Node not found to delete\")\n",
        "if __name__=='__main__':\n",
        "  list = LinkedList()\n",
        "  list.append(10)\n",
        "  list.append(20)\n",
        "  list.append(30)\n",
        "  print(\"List Values: \")\n",
        "  list.show()\n",
        "  print(\"Search of Node 50\")\n",
        "  list.search(50)\n",
        "  list.insertAt(50,0)\n",
        "  print(\"After inserting node 50: \")\n",
        "  list.show()\n",
        "  list.delete(40)\n",
        "  list.show()\n",
        "    "
      ],
      "metadata": {
        "id": "IIE_SeVIAsen",
        "colab": {
          "base_uri": "https://localhost:8080/"
        },
        "outputId": "14326bc1-99bc-45f5-955f-67536ed9a9b2"
      },
      "execution_count": null,
      "outputs": [
        {
          "output_type": "stream",
          "name": "stdout",
          "text": [
            "List Values: \n",
            "10 20 30 \n",
            "Search of Node 50\n",
            "Node Not found\n",
            "After inserting node 50: \n",
            "50 10 50 20 30 \n",
            "Node not found to delete\n",
            "50 10 50 20 30 \n"
          ]
        }
      ]
    },
    {
      "cell_type": "code",
      "source": [
        "class Node():\n",
        "  def __init__(self, val = None):\n",
        "    self.data = val\n",
        "    self.next = None\n",
        "    self.previous = None\n",
        "\n",
        "class DoublyLinkedList: \n",
        "  def __init__(self):\n",
        "    self.head = None\n",
        "\n",
        "  def append(self, val):\n",
        "    if self.head == None:\n",
        "      self.head = Node(val)\n",
        "    else:\n",
        "      temp = self.head\n",
        "      while temp.next != None:\n",
        "        temp = temp.next\n",
        "      temp.next = Node(val)\n",
        "      temp.next.previous = temp\n",
        "\n",
        "  def show(self):\n",
        "    temp = self.head\n",
        "    while temp != None:\n",
        "      print(temp.data, end = \" \")\n",
        "      temp = temp.next\n",
        "    print()\n",
        "\n",
        "  def search(self, val):\n",
        "    temp= self.head\n",
        "    flage = False\n",
        "    while temp != None:\n",
        "      if temp.data == val:\n",
        "        print(\"Node found\")\n",
        "        flage = True\n",
        "        break\n",
        "      temp = temp.next\n",
        "\n",
        "    if flage == False:\n",
        "      print(\"Node Not found\")\n",
        "\n",
        "  def insertAt(self, val, index):\n",
        "     temp = self.head\n",
        "\n",
        "     if index ==0:\n",
        "        newNode = Node(val)\n",
        "        newNode.next = temp\n",
        "        temp.previous = newNode\n",
        "        self.head = newNode\n",
        "     else:\n",
        "         for i in range (index -1):\n",
        "             temp = temp.next\n",
        "             if temp == None:\n",
        "                break \n",
        "     if temp != None:\n",
        "\n",
        "        newNode = Node(val)\n",
        "        newNode.next = temp.next\n",
        "        newNode.previous = temp\n",
        "        temp.next.previous = newNode\n",
        "        temp.next = newNode\n",
        "        \n",
        "     else:\n",
        "         print(\"index not found to insert a node\")\n",
        "\n",
        "  def delete(self,val):\n",
        "      temp = self.head\n",
        "      prev = None\n",
        "      Flag = False\n",
        "      while temp != None:\n",
        "        if temp.data == val :\n",
        "            Flag = True\n",
        "            if temp == self.head:\n",
        "               self.head = self.head.next\n",
        "               self.head.previous = Node\n",
        "               break\n",
        "            else:\n",
        "               prev.next = temp.next\n",
        "               temp.next.previous = prev\n",
        "               break\n",
        "        prev = temp\n",
        "        temp = temp.next\n",
        "      if Flag == False:\n",
        "        print(\"Node not found to delete\")\n",
        "if __name__=='__main__':\n",
        "  list = DoublyLinkedList()\n",
        "  list.append(10)\n",
        "  list.append(20)\n",
        "  list.append(30)\n",
        "  print(\"List Values: \")\n",
        "  list.show()\n",
        "  print(\"Search of Node 50\")\n",
        "  list.search(50)\n",
        "  list.insertAt(50,0)\n",
        "  print(\"After inserting node 50 at index 0: \")\n",
        "  list.show()\n",
        "  list.delete(40)\n",
        "  print(\"After deleting 20:\")\n",
        "  list.show()\n",
        "    "
      ],
      "metadata": {
        "colab": {
          "base_uri": "https://localhost:8080/"
        },
        "id": "THVZilxUDsX8",
        "outputId": "25ac422a-35d7-4414-8577-60ed19f38666"
      },
      "execution_count": null,
      "outputs": [
        {
          "output_type": "stream",
          "name": "stdout",
          "text": [
            "List Values: \n",
            "10 20 30 \n",
            "Search of Node 50\n",
            "Node Not found\n",
            "After inserting node 50 at index 0: \n",
            "50 10 50 20 30 \n",
            "Node not found to delete\n",
            "After deleting 20:\n",
            "50 10 50 20 30 \n"
          ]
        }
      ]
    },
    {
      "cell_type": "code",
      "source": [],
      "metadata": {
        "id": "UHT4gL0wHh9B"
      },
      "execution_count": null,
      "outputs": []
    }
  ]
}