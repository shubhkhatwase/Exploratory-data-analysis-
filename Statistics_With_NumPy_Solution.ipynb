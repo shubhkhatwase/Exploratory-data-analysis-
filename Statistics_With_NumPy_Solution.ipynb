{
  "cells": [
    {
      "cell_type": "markdown",
      "metadata": {
        "id": "view-in-github",
        "colab_type": "text"
      },
      "source": [
        "<a href=\"https://colab.research.google.com/github/shubhkhatwase/Exploratory-data-analysis-/blob/main/Statistics_With_NumPy_Solution.ipynb\" target=\"_parent\"><img src=\"https://colab.research.google.com/assets/colab-badge.svg\" alt=\"Open In Colab\"/></a>"
      ]
    },
    {
      "cell_type": "markdown",
      "metadata": {
        "id": "X4y3GCiwxuKQ"
      },
      "source": [
        "# Statistsics w/ NumPy"
      ]
    },
    {
      "cell_type": "markdown",
      "metadata": {
        "id": "9APbAb_vxuKb"
      },
      "source": [
        "### 1. Run the following cells:"
      ]
    },
    {
      "cell_type": "code",
      "execution_count": null,
      "metadata": {
        "id": "hRMPICeQxuKf"
      },
      "outputs": [],
      "source": [
        "import numpy as np"
      ]
    },
    {
      "cell_type": "code",
      "execution_count": null,
      "metadata": {
        "id": "6U0b347_xuKl"
      },
      "outputs": [],
      "source": [
        "np.set_printoptions(suppress = True, linewidth = 150, precision = 2)"
      ]
    },
    {
      "cell_type": "code",
      "execution_count": null,
      "metadata": {
        "id": "yDHcAwGtxuKm",
        "outputId": "d2655260-2d16-4ad4-f13d-5e1e45c1bc42"
      },
      "outputs": [
        {
          "data": {
            "text/plain": [
              "array([10, 11, 12, 13, 14])"
            ]
          },
          "execution_count": 3,
          "metadata": {},
          "output_type": "execute_result"
        }
      ],
      "source": [
        "array_1D = np.array([10,11,12,13,14])\n",
        "array_1D"
      ]
    },
    {
      "cell_type": "code",
      "execution_count": null,
      "metadata": {
        "id": "T6UE2qR_xuKr",
        "outputId": "0b829cac-44ab-470f-b403-872b7ebf3e80"
      },
      "outputs": [
        {
          "data": {
            "text/plain": [
              "array([[20, 30, 40, 50, 60],\n",
              "       [43, 54, 65, 76, 87],\n",
              "       [11, 22, 33, 44, 55]])"
            ]
          },
          "execution_count": 4,
          "metadata": {},
          "output_type": "execute_result"
        }
      ],
      "source": [
        "array_2D = np.array([[20,30,40,50,60], [43,54,65,76,87], [11,22,33,44,55]])\n",
        "array_2D"
      ]
    },
    {
      "cell_type": "code",
      "execution_count": null,
      "metadata": {
        "id": "2SoUGzB9xuKs",
        "outputId": "b6d66865-40d6-4cb9-a059-6881134a19da"
      },
      "outputs": [
        {
          "data": {
            "text/plain": [
              "array([[[ 1,  2,  3,  4,  5],\n",
              "        [11, 21, 31, 41, 51]],\n",
              "\n",
              "       [[11, 12, 13, 14, 15],\n",
              "        [51, 52, 53, 54,  5]]])"
            ]
          },
          "execution_count": 5,
          "metadata": {},
          "output_type": "execute_result"
        }
      ],
      "source": [
        "array_3D = np.array([[[1,2,3,4,5], [11,21,31,41,51]], [[11,12,13,14,15], [51,52,53,54,5]]])\n",
        "array_3D"
      ]
    },
    {
      "cell_type": "markdown",
      "metadata": {
        "id": "A8EIcLXbxuKt"
      },
      "source": [
        "### 2. For each of the 3 arrays we defined above, do the following:\n",
        "    A) Call the np.max() or np.amax() function and plug in the array as an input. \n",
        "    B) Call the np.max() or np.amax() function along an axis of your choice and plug in the array as an input.\n",
        "    C) Call the np.maximum.reduce() function and plug in the array as an input. \n"
      ]
    },
    {
      "cell_type": "code",
      "execution_count": null,
      "metadata": {
        "id": "pNRnQ9b6xuKu",
        "outputId": "90ae8e67-5405-4bbe-a723-f4e148359aa3"
      },
      "outputs": [
        {
          "data": {
            "text/plain": [
              "14"
            ]
          },
          "execution_count": 6,
          "metadata": {},
          "output_type": "execute_result"
        }
      ],
      "source": [
        "np.max(array_1D)"
      ]
    },
    {
      "cell_type": "code",
      "execution_count": null,
      "metadata": {
        "id": "DIrAY_LMxuKv",
        "outputId": "f2a58961-a451-4f4d-acda-708a1ba2c76c"
      },
      "outputs": [
        {
          "data": {
            "text/plain": [
              "87"
            ]
          },
          "execution_count": 7,
          "metadata": {},
          "output_type": "execute_result"
        }
      ],
      "source": [
        "np.amax(array_2D)"
      ]
    },
    {
      "cell_type": "code",
      "execution_count": null,
      "metadata": {
        "id": "1vSclXZHxuKw",
        "outputId": "edf8f6b8-90cb-4992-dc68-fab515ea60f1"
      },
      "outputs": [
        {
          "data": {
            "text/plain": [
              "54"
            ]
          },
          "execution_count": 8,
          "metadata": {},
          "output_type": "execute_result"
        }
      ],
      "source": [
        "np.amax(array_3D)"
      ]
    },
    {
      "cell_type": "code",
      "execution_count": null,
      "metadata": {
        "id": "-XX3pt5-xuKx",
        "outputId": "1bfd6f7f-7785-4c4c-f596-ee6bb1a7ba06"
      },
      "outputs": [
        {
          "data": {
            "text/plain": [
              "14"
            ]
          },
          "execution_count": 9,
          "metadata": {},
          "output_type": "execute_result"
        }
      ],
      "source": [
        "np.amax(array_1D, axis = 0)"
      ]
    },
    {
      "cell_type": "code",
      "execution_count": null,
      "metadata": {
        "id": "PAO4Kh1txuKy",
        "outputId": "295eee52-e45f-4a01-8b5e-0c6ce2dd7c56"
      },
      "outputs": [
        {
          "data": {
            "text/plain": [
              "array([60, 87, 55])"
            ]
          },
          "execution_count": 10,
          "metadata": {},
          "output_type": "execute_result"
        }
      ],
      "source": [
        "np.amax(array_2D, axis = 1)"
      ]
    },
    {
      "cell_type": "code",
      "execution_count": null,
      "metadata": {
        "id": "_8bSMNc7xuKz",
        "outputId": "0d326054-0a37-4041-ca6b-af2cde3415a1"
      },
      "outputs": [
        {
          "data": {
            "text/plain": [
              "array([[ 5, 51],\n",
              "       [15, 54]])"
            ]
          },
          "execution_count": 11,
          "metadata": {},
          "output_type": "execute_result"
        }
      ],
      "source": [
        "np.amax(array_3D, axis = 2)"
      ]
    },
    {
      "cell_type": "code",
      "execution_count": null,
      "metadata": {
        "id": "NGfi_eLtxuK0",
        "outputId": "0e2034ff-8956-4a23-813d-8f112a273014"
      },
      "outputs": [
        {
          "data": {
            "text/plain": [
              "14"
            ]
          },
          "execution_count": 12,
          "metadata": {},
          "output_type": "execute_result"
        }
      ],
      "source": [
        "np.maximum.reduce(array_1D)"
      ]
    },
    {
      "cell_type": "code",
      "execution_count": null,
      "metadata": {
        "id": "rUlDa3VCxuK1",
        "outputId": "6c625675-c284-4992-b0a4-f7ab461e32dc"
      },
      "outputs": [
        {
          "data": {
            "text/plain": [
              "array([43, 54, 65, 76, 87])"
            ]
          },
          "execution_count": 13,
          "metadata": {},
          "output_type": "execute_result"
        }
      ],
      "source": [
        "np.maximum.reduce(array_2D)"
      ]
    },
    {
      "cell_type": "code",
      "execution_count": null,
      "metadata": {
        "id": "CZLTyH2axuK2",
        "outputId": "214a770f-b7c2-4eba-fd3e-956227317206"
      },
      "outputs": [
        {
          "data": {
            "text/plain": [
              "array([[11, 12, 13, 14, 15],\n",
              "       [51, 52, 53, 54, 51]])"
            ]
          },
          "execution_count": 14,
          "metadata": {},
          "output_type": "execute_result"
        }
      ],
      "source": [
        "np.maximum.reduce(array_3D)"
      ]
    },
    {
      "cell_type": "markdown",
      "metadata": {
        "id": "Jn-BBAyJxuK4"
      },
      "source": [
        "### 3. For each array find the difference between its maximum and minimum. \n",
        "   <b>Note:</b> Use the <i>np.ptp() </i> function"
      ]
    },
    {
      "cell_type": "code",
      "execution_count": null,
      "metadata": {
        "id": "y9CObX8DxuK5",
        "outputId": "0cda8894-9fd5-4f65-86b7-e3a454fb199d"
      },
      "outputs": [
        {
          "data": {
            "text/plain": [
              "4"
            ]
          },
          "execution_count": 15,
          "metadata": {},
          "output_type": "execute_result"
        }
      ],
      "source": [
        "np.ptp(array_1D)"
      ]
    },
    {
      "cell_type": "code",
      "execution_count": null,
      "metadata": {
        "id": "HnOOufA7xuK6",
        "outputId": "397a714f-2b8b-459f-fca9-f0cbaf2bd564"
      },
      "outputs": [
        {
          "data": {
            "text/plain": [
              "76"
            ]
          },
          "execution_count": 16,
          "metadata": {},
          "output_type": "execute_result"
        }
      ],
      "source": [
        "np.ptp(array_2D)"
      ]
    },
    {
      "cell_type": "code",
      "execution_count": null,
      "metadata": {
        "id": "EWvf60vTxuK8",
        "outputId": "283afbe3-b6ee-473a-88b2-313a460e215a"
      },
      "outputs": [
        {
          "data": {
            "text/plain": [
              "53"
            ]
          },
          "execution_count": 17,
          "metadata": {},
          "output_type": "execute_result"
        }
      ],
      "source": [
        "np.ptp(array_3D)"
      ]
    },
    {
      "cell_type": "markdown",
      "metadata": {
        "id": "chQYbMpXxuK9"
      },
      "source": [
        "### 4. For the 2-D and 3-D arrays find the difference between the maximum and minimum, for every row."
      ]
    },
    {
      "cell_type": "code",
      "execution_count": null,
      "metadata": {
        "id": "o_yegGi4xuK-",
        "outputId": "8ce4c516-4599-438c-ad1f-438bac8c1dbf"
      },
      "outputs": [
        {
          "data": {
            "text/plain": [
              "array([40, 44, 44])"
            ]
          },
          "execution_count": 18,
          "metadata": {},
          "output_type": "execute_result"
        }
      ],
      "source": [
        "np.ptp(array_2D, axis = 1)"
      ]
    },
    {
      "cell_type": "code",
      "execution_count": null,
      "metadata": {
        "id": "GBmoMzUXxuK_",
        "outputId": "ef97ab69-3669-4e95-d389-846380660296"
      },
      "outputs": [
        {
          "data": {
            "text/plain": [
              "array([[ 4, 40],\n",
              "       [ 4, 49]])"
            ]
          },
          "execution_count": 19,
          "metadata": {},
          "output_type": "execute_result"
        }
      ],
      "source": [
        "np.ptp(array_3D, axis = 2)"
      ]
    },
    {
      "cell_type": "markdown",
      "metadata": {
        "id": "Knt_8kI-xuLA"
      },
      "source": [
        "### 5. For all 3 arrays we defined, use the<i> np.percentile() </i>and <i>np.quantile()</i> functions to find the following: \n",
        "    A) The 30-th percentile (or 0.3-th quantile). \n",
        "    B) The 66-th percentile (or 0.66-th qunatile). \n",
        "    C) The median. \n",
        "   (<b>Hint</b>: The median value is equivalent to the 50-th percentile)"
      ]
    },
    {
      "cell_type": "markdown",
      "metadata": {
        "id": "vEg78aQVxuLA"
      },
      "source": [
        "#### 1D array:"
      ]
    },
    {
      "cell_type": "code",
      "execution_count": null,
      "metadata": {
        "id": "mHELgeNJxuLB",
        "outputId": "db6a5e82-5bf3-4a6e-cc5a-ecc6e0178db6"
      },
      "outputs": [
        {
          "data": {
            "text/plain": [
              "array([10, 11, 12, 13, 14])"
            ]
          },
          "execution_count": 20,
          "metadata": {},
          "output_type": "execute_result"
        }
      ],
      "source": [
        "np.sort(array_1D)\n",
        "\n",
        "# We're also providing a sorted version of the inputs, so that the outputs are more easy to understand."
      ]
    },
    {
      "cell_type": "code",
      "execution_count": null,
      "metadata": {
        "id": "gpUTO7PyxuLC",
        "outputId": "0e8e89e8-ce73-4749-bef0-ba3d5acda336"
      },
      "outputs": [
        {
          "data": {
            "text/plain": [
              "11.2"
            ]
          },
          "execution_count": 21,
          "metadata": {},
          "output_type": "execute_result"
        }
      ],
      "source": [
        "np.percentile(array_1D, 30)"
      ]
    },
    {
      "cell_type": "code",
      "execution_count": null,
      "metadata": {
        "id": "Sh8DlSvixuLD",
        "outputId": "c599cf4c-a726-48fb-c584-54c11287d926"
      },
      "outputs": [
        {
          "data": {
            "text/plain": [
              "12.64"
            ]
          },
          "execution_count": 22,
          "metadata": {},
          "output_type": "execute_result"
        }
      ],
      "source": [
        "np.quantile(array_1D, 0.66)"
      ]
    },
    {
      "cell_type": "code",
      "execution_count": null,
      "metadata": {
        "id": "BQIPkoOqxuLD",
        "outputId": "d054b03f-268e-4c1a-cb2d-c29358193b86"
      },
      "outputs": [
        {
          "data": {
            "text/plain": [
              "12.0"
            ]
          },
          "execution_count": 23,
          "metadata": {},
          "output_type": "execute_result"
        }
      ],
      "source": [
        "np.quantile(array_1D, 0.5)"
      ]
    },
    {
      "cell_type": "markdown",
      "metadata": {
        "id": "z8djZ1wixuLE"
      },
      "source": [
        "#### 2D array:"
      ]
    },
    {
      "cell_type": "code",
      "execution_count": null,
      "metadata": {
        "id": "ixY42biwxuLF",
        "outputId": "0100e140-782c-4240-b7ec-047bfb3653e9"
      },
      "outputs": [
        {
          "data": {
            "text/plain": [
              "array([11, 20, 22, 30, 33, 40, 43, 44, 50, 54, 55, 60, 65, 76, 87])"
            ]
          },
          "execution_count": 24,
          "metadata": {},
          "output_type": "execute_result"
        }
      ],
      "source": [
        "np.sort(array_2D, axis = None)\n",
        "\n",
        "# We're also providing a sorted version of the inputs, so that the outputs are more easy to understand."
      ]
    },
    {
      "cell_type": "code",
      "execution_count": null,
      "metadata": {
        "id": "Q7B2uyIbxuLG",
        "outputId": "f1f4f327-f4ab-4e1f-c3c5-87ebe2956d68"
      },
      "outputs": [
        {
          "data": {
            "text/plain": [
              "34.400000000000006"
            ]
          },
          "execution_count": 25,
          "metadata": {},
          "output_type": "execute_result"
        }
      ],
      "source": [
        "np.percentile(array_2D, 30)"
      ]
    },
    {
      "cell_type": "code",
      "execution_count": null,
      "metadata": {
        "id": "E8MQFseCxuLH",
        "outputId": "1b6932c5-0142-4618-9ea3-86d332b20027"
      },
      "outputs": [
        {
          "data": {
            "text/plain": [
              "54.24"
            ]
          },
          "execution_count": 26,
          "metadata": {},
          "output_type": "execute_result"
        }
      ],
      "source": [
        "np.quantile(array_2D, 0.66)"
      ]
    },
    {
      "cell_type": "code",
      "execution_count": null,
      "metadata": {
        "id": "2e1O2yu7xuLI",
        "outputId": "aa806cef-3f92-4fbf-f0a7-dccb4172276e"
      },
      "outputs": [
        {
          "data": {
            "text/plain": [
              "44.0"
            ]
          },
          "execution_count": 27,
          "metadata": {},
          "output_type": "execute_result"
        }
      ],
      "source": [
        "np.quantile(array_2D, 0.5)"
      ]
    },
    {
      "cell_type": "markdown",
      "metadata": {
        "id": "MeTZeRxjxuLJ"
      },
      "source": [
        "#### 3D array"
      ]
    },
    {
      "cell_type": "code",
      "execution_count": null,
      "metadata": {
        "id": "cXjsNsraxuLK",
        "outputId": "1505cf61-9b29-4d0d-da3b-817f91bc48df"
      },
      "outputs": [
        {
          "data": {
            "text/plain": [
              "array([ 1,  2,  3,  4,  5,  5, 11, 11, 12, 13, 14, 15, 21, 31, 41, 51, 51, 52, 53, 54])"
            ]
          },
          "execution_count": 28,
          "metadata": {},
          "output_type": "execute_result"
        }
      ],
      "source": [
        "np.sort(array_3D, axis = None)\n",
        "\n",
        "# We're also providing a sorted version of the inputs, so that the outputs are more easy to understand."
      ]
    },
    {
      "cell_type": "code",
      "execution_count": null,
      "metadata": {
        "id": "VNc9vHIvxuLL",
        "outputId": "aca1984b-baa4-4b37-f387-650a78a55029"
      },
      "outputs": [
        {
          "data": {
            "text/plain": [
              "9.200000000000001"
            ]
          },
          "execution_count": 29,
          "metadata": {},
          "output_type": "execute_result"
        }
      ],
      "source": [
        "np.percentile(array_3D, 30)"
      ]
    },
    {
      "cell_type": "code",
      "execution_count": null,
      "metadata": {
        "id": "a-pij754xuLM",
        "outputId": "9be36548-5e82-491d-a71b-cc3d3c2d528d"
      },
      "outputs": [
        {
          "data": {
            "text/plain": [
              "26.400000000000013"
            ]
          },
          "execution_count": 30,
          "metadata": {},
          "output_type": "execute_result"
        }
      ],
      "source": [
        "np.quantile(array_3D, 0.66)"
      ]
    },
    {
      "cell_type": "code",
      "execution_count": null,
      "metadata": {
        "id": "5wdvLdU_xuLM",
        "outputId": "df162783-5741-4a78-fedb-28fd322d8c57"
      },
      "outputs": [
        {
          "data": {
            "text/plain": [
              "13.5"
            ]
          },
          "execution_count": 31,
          "metadata": {},
          "output_type": "execute_result"
        }
      ],
      "source": [
        "np.quantile(array_3D, 0.5)"
      ]
    },
    {
      "cell_type": "markdown",
      "metadata": {
        "id": "7r2MZQL9xuLN"
      },
      "source": [
        "### 6. For the 3 arrays:\n",
        "    A) Find the mean.\n",
        "    B) Find the median.\n",
        "    C) Find the mean along the columns."
      ]
    },
    {
      "cell_type": "markdown",
      "metadata": {
        "id": "UKBQu3-6xuLO"
      },
      "source": [
        "#### 1D array:"
      ]
    },
    {
      "cell_type": "code",
      "execution_count": null,
      "metadata": {
        "id": "DeeOkr3zxuLO",
        "outputId": "2f7cdbf8-5bf1-4706-eb4f-5a9d7fc522be"
      },
      "outputs": [
        {
          "name": "stdout",
          "output_type": "stream",
          "text": [
            "12.0\n",
            "12.0\n",
            "12.0\n"
          ]
        }
      ],
      "source": [
        "print(np.mean(array_1D))\n",
        "print(np.median(array_1D))\n",
        "print(np.median(array_1D, axis = 0))"
      ]
    },
    {
      "cell_type": "markdown",
      "metadata": {
        "id": "cLrsV9mqxuLP"
      },
      "source": [
        "#### 2D array:"
      ]
    },
    {
      "cell_type": "code",
      "execution_count": null,
      "metadata": {
        "id": "kbZNEd3NxuLP",
        "outputId": "492f417d-689e-4c8c-cbae-531e994b9109"
      },
      "outputs": [
        {
          "name": "stdout",
          "output_type": "stream",
          "text": [
            "46.0\n",
            "44.0\n",
            "[20. 30. 40. 50. 60.]\n"
          ]
        }
      ],
      "source": [
        "print(np.mean(array_2D))\n",
        "print(np.median(array_2D))\n",
        "print(np.median(array_2D, axis = 0))"
      ]
    },
    {
      "cell_type": "markdown",
      "metadata": {
        "id": "9EU0iqWSxuLQ"
      },
      "source": [
        "#### 3D array:"
      ]
    },
    {
      "cell_type": "code",
      "execution_count": null,
      "metadata": {
        "id": "6OWCA6vMxuLQ",
        "outputId": "72607111-85a1-4469-e568-e1695716e930"
      },
      "outputs": [
        {
          "name": "stdout",
          "output_type": "stream",
          "text": [
            "22.5\n",
            "13.5\n",
            "[[ 6.   7.   8.   9.  10. ]\n",
            " [31.  36.5 42.  47.5 28. ]]\n"
          ]
        }
      ],
      "source": [
        "print(np.mean(array_3D))\n",
        "print(np.median(array_3D))\n",
        "print(np.median(array_3D, axis = 0))"
      ]
    },
    {
      "cell_type": "markdown",
      "metadata": {
        "id": "T4_aC9YUxuLR"
      },
      "source": [
        "### 7. For the 2D array:\n",
        "    A) Find the variance. \n",
        "    B) Find the standard deviation. \n",
        "    C) Find the covariance. \n",
        "    D) Find the correlation. "
      ]
    },
    {
      "cell_type": "code",
      "execution_count": null,
      "metadata": {
        "id": "Xgd6ab1axuLS",
        "outputId": "bfcc3a53-1ab7-4382-8930-1d123d172cd3"
      },
      "outputs": [
        {
          "data": {
            "text/plain": [
              "416.6666666666667"
            ]
          },
          "execution_count": 35,
          "metadata": {},
          "output_type": "execute_result"
        }
      ],
      "source": [
        "np.var(array_2D)"
      ]
    },
    {
      "cell_type": "code",
      "execution_count": null,
      "metadata": {
        "id": "I29Pj9mZxuLS",
        "outputId": "1ec59279-2fec-44e8-9457-ddb81c19f079"
      },
      "outputs": [
        {
          "data": {
            "text/plain": [
              "20.412414523193153"
            ]
          },
          "execution_count": 36,
          "metadata": {},
          "output_type": "execute_result"
        }
      ],
      "source": [
        "np.std(array_2D)"
      ]
    },
    {
      "cell_type": "code",
      "execution_count": null,
      "metadata": {
        "id": "BlYKLwnZxuLT",
        "outputId": "b25835a4-d639-49f2-d46f-1479027df9d4"
      },
      "outputs": [
        {
          "data": {
            "text/plain": [
              "array([[250. , 275. , 275. ],\n",
              "       [275. , 302.5, 302.5],\n",
              "       [275. , 302.5, 302.5]])"
            ]
          },
          "execution_count": 37,
          "metadata": {},
          "output_type": "execute_result"
        }
      ],
      "source": [
        "np.cov(array_2D)"
      ]
    },
    {
      "cell_type": "code",
      "execution_count": null,
      "metadata": {
        "id": "Yb-2aBbExuLU",
        "outputId": "a30ee271-17b5-44ca-f268-de8c0d53fadd"
      },
      "outputs": [
        {
          "data": {
            "text/plain": [
              "array([[1., 1., 1.],\n",
              "       [1., 1., 1.],\n",
              "       [1., 1., 1.]])"
            ]
          },
          "execution_count": 38,
          "metadata": {},
          "output_type": "execute_result"
        }
      ],
      "source": [
        "np.corrcoef(array_2D)"
      ]
    },
    {
      "cell_type": "markdown",
      "metadata": {
        "id": "xGKMojCgxuLV"
      },
      "source": [
        "### 8. For the 2D array:\n",
        "    A) Find the \"default \"bin edges for a histogram (don't specify any arguments)\n",
        "    B) Set the number of bins to 6\n",
        "    C) Define a range\n",
        "    D) With the help of the matplotlib package, plot the 3 histograms"
      ]
    },
    {
      "cell_type": "code",
      "execution_count": null,
      "metadata": {
        "id": "osJyVeZixuLV",
        "outputId": "81608914-f54a-433c-a0aa-01eefafbec24"
      },
      "outputs": [
        {
          "data": {
            "text/plain": [
              "(array([1, 2, 2, 1, 2, 3, 1, 1, 1, 1], dtype=int64),\n",
              " array([11. , 18.6, 26.2, 33.8, 41.4, 49. , 56.6, 64.2, 71.8, 79.4, 87. ]))"
            ]
          },
          "execution_count": 39,
          "metadata": {},
          "output_type": "execute_result"
        }
      ],
      "source": [
        "np.histogram(array_2D)"
      ]
    },
    {
      "cell_type": "code",
      "execution_count": null,
      "metadata": {
        "id": "JQeqX8XvxuLW",
        "outputId": "13a35b2d-b312-4cbe-d990-d0ba72b5c54b"
      },
      "outputs": [
        {
          "data": {
            "text/plain": [
              "(array([3, 2, 3, 4, 1, 2], dtype=int64),\n",
              " array([11.  , 23.67, 36.33, 49.  , 61.67, 74.33, 87.  ]))"
            ]
          },
          "execution_count": 40,
          "metadata": {},
          "output_type": "execute_result"
        }
      ],
      "source": [
        "np.histogram(array_2D, bins = 6)"
      ]
    },
    {
      "cell_type": "code",
      "execution_count": null,
      "metadata": {
        "id": "qdDQnvflxuLX",
        "outputId": "84cc4d93-8488-4be2-cbf0-cdbeff498a85"
      },
      "outputs": [
        {
          "data": {
            "text/plain": [
              "(array([1, 0, 2, 0, 2, 1], dtype=int64),\n",
              " array([10., 15., 20., 25., 30., 35., 40.]))"
            ]
          },
          "execution_count": 41,
          "metadata": {},
          "output_type": "execute_result"
        }
      ],
      "source": [
        "np.histogram(array_2D, bins = 6, range = (10,40))"
      ]
    },
    {
      "cell_type": "code",
      "execution_count": null,
      "metadata": {
        "id": "ACY1hYqrxuLX",
        "outputId": "a60f9ee7-6d15-4d48-d824-99b4d8a3fbb5"
      },
      "outputs": [
        {
          "data": {
            "image/png": "[encoded data removed]",
            "text/plain": [
              "<Figure size 432x288 with 1 Axes>"
            ]
          },
          "metadata": {
            "needs_background": "light"
          },
          "output_type": "display_data"
        }
      ],
      "source": [
        "import matplotlib.pyplot as plt\n",
        "#plt.hist(array_3D.flat, bins = np.histogram(array_3D)[1])\n",
        "#plt.hist(array_3D.flat, bins = np.histogram(array_2D, bins = 6)[1])\n",
        "plt.hist(array_3D.flat, bins = np.histogram(array_2D, bins = 6, range = (10,40))[1])\n",
        "plt.show()"
      ]
    },
    {
      "cell_type": "markdown",
      "metadata": {
        "id": "DmU4mr1AxuLY"
      },
      "source": [
        "### 9. For the 3-D array:\n",
        "    A) Take the first two rows, and compute their 2-D histogram, with 4 bins    .\n",
        "    B) Take the entire 2-D array and find its 3-D histogram with 4 bins. \n",
        "   (<b>Hint</b>: You'll need to plug in the <b>transpose</b> for B to work) \n",
        "   "
      ]
    },
    {
      "cell_type": "code",
      "execution_count": null,
      "metadata": {
        "id": "RXKsSMkExuLa",
        "outputId": "9e6e86f1-bf20-4831-822e-f0381563fd71"
      },
      "outputs": [
        {
          "data": {
            "text/plain": [
              "(array([[1., 0., 0., 0.],\n",
              "        [0., 1., 0., 0.],\n",
              "        [0., 0., 1., 0.],\n",
              "        [0., 0., 0., 2.]]),\n",
              " array([20., 30., 40., 50., 60.]),\n",
              " array([43., 54., 65., 76., 87.]))"
            ]
          },
          "execution_count": 43,
          "metadata": {},
          "output_type": "execute_result"
        }
      ],
      "source": [
        "np.histogram2d(array_2D[0],array_2D[1], bins = 4)"
      ]
    },
    {
      "cell_type": "code",
      "execution_count": null,
      "metadata": {
        "id": "TdRRSExtxuLb",
        "outputId": "a8b3ce38-4e56-4bd6-9aa5-9ed3fb517572"
      },
      "outputs": [
        {
          "data": {
            "text/plain": [
              "(array([[[1., 0., 0., 0.],\n",
              "         [0., 0., 0., 0.],\n",
              "         [0., 0., 0., 0.],\n",
              "         [0., 0., 0., 0.]],\n",
              " \n",
              "        [[0., 0., 0., 0.],\n",
              "         [0., 1., 0., 0.],\n",
              "         [0., 0., 0., 0.],\n",
              "         [0., 0., 0., 0.]],\n",
              " \n",
              "        [[0., 0., 0., 0.],\n",
              "         [0., 0., 0., 0.],\n",
              "         [0., 0., 1., 0.],\n",
              "         [0., 0., 0., 0.]],\n",
              " \n",
              "        [[0., 0., 0., 0.],\n",
              "         [0., 0., 0., 0.],\n",
              "         [0., 0., 0., 0.],\n",
              "         [0., 0., 0., 2.]]]),\n",
              " [array([20., 30., 40., 50., 60.]),\n",
              "  array([43., 54., 65., 76., 87.]),\n",
              "  array([11., 22., 33., 44., 55.])])"
            ]
          },
          "execution_count": 44,
          "metadata": {},
          "output_type": "execute_result"
        }
      ],
      "source": [
        "np.histogramdd(array_2D.transpose(), bins = 4)"
      ]
    },
    {
      "cell_type": "markdown",
      "metadata": {
        "id": "XHctuFxzxuLc"
      },
      "source": [
        "### 10. Run the following cell, and then compute the following:\n",
        "    A) The mean, using the np.mean() function.\n",
        "    B) The mean, using the np.nanmean() function.\n",
        "    C) The variance, using the np.var() function. \n",
        "    D) The variance, using the np.nanvar() funcion. "
      ]
    },
    {
      "cell_type": "code",
      "execution_count": null,
      "metadata": {
        "id": "EokBPugjxuLd",
        "outputId": "3ef563e7-2ae9-4ae9-9eef-af169ef49357"
      },
      "outputs": [
        {
          "data": {
            "text/plain": [
              "array([[20., nan, 40., 50., 60.],\n",
              "       [nan, 54., 65., nan, 87.],\n",
              "       [11., 22., 33., 44., nan]])"
            ]
          },
          "execution_count": 45,
          "metadata": {},
          "output_type": "execute_result"
        }
      ],
      "source": [
        "array_nan = np.array([[20,np.nan,40,50,60], [np.nan,54,65,np.nan,87], [11,22,33,44,np.nan]])\n",
        "array_nan"
      ]
    },
    {
      "cell_type": "code",
      "execution_count": null,
      "metadata": {
        "id": "ZiJ4UsruxuLd",
        "outputId": "77f39fec-fceb-45b0-b844-c12a712cda57"
      },
      "outputs": [
        {
          "data": {
            "text/plain": [
              "nan"
            ]
          },
          "execution_count": 46,
          "metadata": {},
          "output_type": "execute_result"
        }
      ],
      "source": [
        "np.mean(array_nan)"
      ]
    },
    {
      "cell_type": "code",
      "execution_count": null,
      "metadata": {
        "id": "Zd_3PTaHxuLe",
        "outputId": "a44dff6c-651f-44d4-a4d8-f96fd7e9db7d"
      },
      "outputs": [
        {
          "data": {
            "text/plain": [
              "44.18181818181818"
            ]
          },
          "execution_count": 47,
          "metadata": {},
          "output_type": "execute_result"
        }
      ],
      "source": [
        "np.nanmean(array_nan)"
      ]
    },
    {
      "cell_type": "code",
      "execution_count": null,
      "metadata": {
        "id": "z7NJ4dr2xuLf",
        "outputId": "38cd3279-345f-42bb-e02a-73d56697bc99"
      },
      "outputs": [
        {
          "data": {
            "text/plain": [
              "nan"
            ]
          },
          "execution_count": 48,
          "metadata": {},
          "output_type": "execute_result"
        }
      ],
      "source": [
        "np.var(array_nan)"
      ]
    },
    {
      "cell_type": "code",
      "execution_count": null,
      "metadata": {
        "id": "myg6883pxuLg",
        "outputId": "c983086a-4385-4f36-be5c-0e25225de991"
      },
      "outputs": [
        {
          "data": {
            "text/plain": [
              "451.6033057851239"
            ]
          },
          "execution_count": 49,
          "metadata": {},
          "output_type": "execute_result"
        }
      ],
      "source": [
        "np.nanvar(array_nan)"
      ]
    }
  ],
  "metadata": {
    "kernelspec": {
      "display_name": "Python 3",
      "language": "python",
      "name": "python3"
    },
    "language_info": {
      "codemirror_mode": {
        "name": "ipython",
        "version": 3
      },
      "file_extension": ".py",
      "mimetype": "text/x-python",
      "name": "python",
      "nbconvert_exporter": "python",
      "pygments_lexer": "ipython3",
      "version": "3.7.6"
    },
    "colab": {
      "provenance": [],
      "include_colab_link": true
    }
  },
  "nbformat": 4,
  "nbformat_minor": 0
}