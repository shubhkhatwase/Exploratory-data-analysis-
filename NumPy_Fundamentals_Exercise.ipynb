{
  "cells": [
    {
      "cell_type": "markdown",
      "metadata": {
        "id": "view-in-github",
        "colab_type": "text"
      },
      "source": [
        "<a href=\"https://colab.research.google.com/github/shubhkhatwase/Exploratory-data-analysis-/blob/main/NumPy_Fundamentals_Exercise.ipynb\" target=\"_parent\"><img src=\"https://colab.research.google.com/assets/colab-badge.svg\" alt=\"Open In Colab\"/></a>"
      ]
    },
    {
      "cell_type": "markdown",
      "metadata": {
        "id": "j9GzsfcMUKpB"
      },
      "source": [
        "# NumPy Fundamentals\n",
        "\n",
        "*   List item\n",
        "*   List item\n",
        "\n"
      ]
    },
    {
      "cell_type": "markdown",
      "metadata": {
        "id": "ZtKUnZfkUKpF"
      },
      "source": [
        "### 1. Run the following cells:"
      ]
    },
    {
      "cell_type": "code",
      "execution_count": null,
      "metadata": {
        "id": "JFXVsvbeUKpF"
      },
      "outputs": [],
      "source": [
        "import numpy as np"
      ]
    },
    {
      "cell_type": "code",
      "execution_count": null,
      "metadata": {
        "id": "sJyo-m2rUKpG",
        "colab": {
          "base_uri": "https://localhost:8080/"
        },
        "outputId": "6a79e77c-504d-427b-db1f-276bb8234851"
      },
      "outputs": [
        {
          "output_type": "execute_result",
          "data": {
            "text/plain": [
              "array([10, 11, 12, 13, 14])"
            ]
          },
          "metadata": {},
          "execution_count": 166
        }
      ],
      "source": [
        "array_1D = np.array([10,11,12,13, 14])\n",
        "array_1D"
      ]
    },
    {
      "cell_type": "code",
      "execution_count": null,
      "metadata": {
        "id": "xDCpI7TkUKpH",
        "colab": {
          "base_uri": "https://localhost:8080/"
        },
        "outputId": "b1230746-c880-4fd7-898a-a56071aaf423"
      },
      "outputs": [
        {
          "output_type": "execute_result",
          "data": {
            "text/plain": [
              "array([[20, 30, 40, 50, 60],\n",
              "       [43, 54, 65, 76, 87],\n",
              "       [11, 22, 33, 44, 55]])"
            ]
          },
          "metadata": {},
          "execution_count": 167
        }
      ],
      "source": [
        "array_2D = np.array([[20,30,40,50,60], [43,54,65,76,87], [11,22,33,44,55]])\n",
        "array_2D"
      ]
    },
    {
      "cell_type": "code",
      "execution_count": null,
      "metadata": {
        "id": "kzaavnPnUKpH",
        "colab": {
          "base_uri": "https://localhost:8080/"
        },
        "outputId": "79146d71-a655-4f54-e31e-2fae46341081"
      },
      "outputs": [
        {
          "output_type": "execute_result",
          "data": {
            "text/plain": [
              "array([[[ 1,  2,  3,  4,  5],\n",
              "        [11, 21, 31, 41, 51]],\n",
              "\n",
              "       [[11, 12, 13, 14, 15],\n",
              "        [51, 52, 53, 54,  5]]])"
            ]
          },
          "metadata": {},
          "execution_count": 168
        }
      ],
      "source": [
        "array_3D = np.array([[[1,2,3,4,5], [11,21,31,41,51]], [[11,12,13,14,15], [51,52,53,54,5]]])\n",
        "array_3D"
      ]
    },
    {
      "cell_type": "markdown",
      "metadata": {
        "id": "dMEi8G4zUKpH"
      },
      "source": [
        "### 2. Display the first element (not necessarily individual element) for each of the 3 arrays we defined above."
      ]
    },
    {
      "cell_type": "code",
      "execution_count": null,
      "metadata": {
        "id": "Bu7oML-kUKpI",
        "colab": {
          "base_uri": "https://localhost:8080/"
        },
        "outputId": "33d369a3-5046-472b-d26a-fc6449b3949a"
      },
      "outputs": [
        {
          "output_type": "execute_result",
          "data": {
            "text/plain": [
              "10"
            ]
          },
          "metadata": {},
          "execution_count": 169
        }
      ],
      "source": [
        "array_1D[0]"
      ]
    },
    {
      "cell_type": "code",
      "execution_count": null,
      "metadata": {
        "id": "DRkU07ehUKpI",
        "colab": {
          "base_uri": "https://localhost:8080/"
        },
        "outputId": "4e972662-1228-4857-8f81-294755b72228"
      },
      "outputs": [
        {
          "output_type": "execute_result",
          "data": {
            "text/plain": [
              "array([20, 30, 40, 50, 60])"
            ]
          },
          "metadata": {},
          "execution_count": 170
        }
      ],
      "source": [
        "array_2D[0]"
      ]
    },
    {
      "cell_type": "code",
      "execution_count": null,
      "metadata": {
        "id": "jFDNcaP_UKpI",
        "colab": {
          "base_uri": "https://localhost:8080/"
        },
        "outputId": "ca1a8057-fbf4-4c6a-afe1-d1afc6c24eb5"
      },
      "outputs": [
        {
          "output_type": "execute_result",
          "data": {
            "text/plain": [
              "array([1, 2, 3, 4, 5])"
            ]
          },
          "metadata": {},
          "execution_count": 171
        }
      ],
      "source": [
        "array_3D[0,0]"
      ]
    },
    {
      "cell_type": "markdown",
      "metadata": {
        "id": "hocUK3pcUKpJ"
      },
      "source": [
        "### 3. Call the first individual element of the each of the 3 arrays. "
      ]
    },
    {
      "cell_type": "code",
      "execution_count": null,
      "metadata": {
        "id": "UguZg-LaUKpJ",
        "colab": {
          "base_uri": "https://localhost:8080/"
        },
        "outputId": "5e4a8bf7-ea7d-479e-d38d-8137c9884209"
      },
      "outputs": [
        {
          "output_type": "execute_result",
          "data": {
            "text/plain": [
              "10"
            ]
          },
          "metadata": {},
          "execution_count": 172
        }
      ],
      "source": [
        "array_1D[0]"
      ]
    },
    {
      "cell_type": "code",
      "execution_count": null,
      "metadata": {
        "id": "MOhb7r_8UKpJ",
        "colab": {
          "base_uri": "https://localhost:8080/"
        },
        "outputId": "7b803982-25e9-4f4d-95bf-c32406565593"
      },
      "outputs": [
        {
          "output_type": "execute_result",
          "data": {
            "text/plain": [
              "20"
            ]
          },
          "metadata": {},
          "execution_count": 173
        }
      ],
      "source": [
        "array_2D[0,0]"
      ]
    },
    {
      "cell_type": "code",
      "execution_count": null,
      "metadata": {
        "id": "0Te4yE8CUKpJ",
        "colab": {
          "base_uri": "https://localhost:8080/"
        },
        "outputId": "2fc7fb4c-e038-4510-96db-b8501016196d"
      },
      "outputs": [
        {
          "output_type": "execute_result",
          "data": {
            "text/plain": [
              "1"
            ]
          },
          "metadata": {},
          "execution_count": 174
        }
      ],
      "source": [
        "array_3D[0,0,0]"
      ]
    },
    {
      "cell_type": "markdown",
      "metadata": {
        "id": "guQQHaDQUKpK"
      },
      "source": [
        "### 4. Uses negative indices to display the last element of each array."
      ]
    },
    {
      "cell_type": "code",
      "execution_count": null,
      "metadata": {
        "id": "V6mZMjk3UKpK",
        "colab": {
          "base_uri": "https://localhost:8080/"
        },
        "outputId": "8fa13674-f529-41c3-d7a0-a85b8feaf0f3"
      },
      "outputs": [
        {
          "output_type": "execute_result",
          "data": {
            "text/plain": [
              "14"
            ]
          },
          "metadata": {},
          "execution_count": 175
        }
      ],
      "source": [
        "array_1D[-1]"
      ]
    },
    {
      "cell_type": "code",
      "execution_count": null,
      "metadata": {
        "id": "r0GueNY3UKpK",
        "colab": {
          "base_uri": "https://localhost:8080/"
        },
        "outputId": "4a895cb7-987b-43ea-c6fd-58bf9bfea68a"
      },
      "outputs": [
        {
          "output_type": "execute_result",
          "data": {
            "text/plain": [
              "55"
            ]
          },
          "metadata": {},
          "execution_count": 176
        }
      ],
      "source": [
        "array_2D[-1,-1]"
      ]
    },
    {
      "cell_type": "code",
      "execution_count": null,
      "metadata": {
        "id": "llXzwn6mUKpK",
        "colab": {
          "base_uri": "https://localhost:8080/"
        },
        "outputId": "04e4fb40-bd7f-49d0-a267-cdde0bd724a7"
      },
      "outputs": [
        {
          "output_type": "execute_result",
          "data": {
            "text/plain": [
              "5"
            ]
          },
          "metadata": {},
          "execution_count": 177
        }
      ],
      "source": [
        "array_3D[-1,-1,-1]"
      ]
    },
    {
      "cell_type": "markdown",
      "metadata": {
        "id": "LSWHo03WUKpK"
      },
      "source": [
        "### 5. Set the penultimate (second-to-last) <i> individual </i> element of each array equal to 10. Then display the variables to check your work. \n",
        "(<b>Hint</b>: If it's the penultimate individual element of the 2-D/3-D array, it needs to be in the last row of the 2-D array)"
      ]
    },
    {
      "cell_type": "code",
      "execution_count": null,
      "metadata": {
        "id": "1GajAMz1UKpL",
        "colab": {
          "base_uri": "https://localhost:8080/"
        },
        "outputId": "3e02750f-efe9-4ef9-8e53-0e370558f382"
      },
      "outputs": [
        {
          "output_type": "execute_result",
          "data": {
            "text/plain": [
              "array([10, 10, 10, 10, 10])"
            ]
          },
          "metadata": {},
          "execution_count": 178
        }
      ],
      "source": [
        "array_1D[0:]=10\n",
        "array_1D"
      ]
    },
    {
      "cell_type": "code",
      "execution_count": null,
      "metadata": {
        "id": "P4B26VpuUKpL",
        "colab": {
          "base_uri": "https://localhost:8080/"
        },
        "outputId": "b1e9ca9b-8c09-4252-dbed-75ce90269a02"
      },
      "outputs": [
        {
          "output_type": "execute_result",
          "data": {
            "text/plain": [
              "array([[20, 30, 40, 50, 60],\n",
              "       [10, 10, 10, 10, 10],\n",
              "       [10, 10, 10, 10, 10]])"
            ]
          },
          "metadata": {},
          "execution_count": 179
        }
      ],
      "source": [
        "array_2D[1:]=10\n",
        "array_2D"
      ]
    },
    {
      "cell_type": "code",
      "execution_count": null,
      "metadata": {
        "id": "tiHOWgr8UKpL",
        "colab": {
          "base_uri": "https://localhost:8080/"
        },
        "outputId": "ee158079-ddfd-4f58-a152-97a314a70cbe"
      },
      "outputs": [
        {
          "output_type": "execute_result",
          "data": {
            "text/plain": [
              "array([[[ 1,  2,  3,  4,  5],\n",
              "        [10, 10, 10, 10, 10]],\n",
              "\n",
              "       [[11, 12, 13, 14, 15],\n",
              "        [10, 10, 10, 10, 10]]])"
            ]
          },
          "metadata": {},
          "execution_count": 180
        }
      ],
      "source": [
        "array_3D[[0,1,],[1]]=10\n",
        "array_3D"
      ]
    },
    {
      "cell_type": "markdown",
      "metadata": {
        "id": "kOVM2M_wUKpL"
      },
      "source": [
        "### 6. Set the last column of the 2-D array to 100. Then display the variables to check your work. "
      ]
    },
    {
      "cell_type": "code",
      "execution_count": null,
      "metadata": {
        "id": "sBM1wb3AUKpL",
        "colab": {
          "base_uri": "https://localhost:8080/"
        },
        "outputId": "920f2d01-c94f-4164-d9cf-3a794200c96a"
      },
      "outputs": [
        {
          "output_type": "execute_result",
          "data": {
            "text/plain": [
              "array([[ 20,  30,  40,  50, 100],\n",
              "       [ 10,  10,  10,  10, 100],\n",
              "       [ 10,  10,  10,  10, 100]])"
            ]
          },
          "metadata": {},
          "execution_count": 181
        }
      ],
      "source": [
        "array_2D[0:,4]=100\n",
        "array_2D"
      ]
    },
    {
      "cell_type": "markdown",
      "metadata": {
        "id": "t_iM0gilUKpL"
      },
      "source": [
        "### 7. Set all the values of the 3-D array to 1000. Then display the variables to check your work. "
      ]
    },
    {
      "cell_type": "code",
      "execution_count": null,
      "metadata": {
        "id": "amCHChHhUKpL",
        "colab": {
          "base_uri": "https://localhost:8080/"
        },
        "outputId": "5d93234b-5e7a-4964-fd2a-d5e76a16698f"
      },
      "outputs": [
        {
          "output_type": "execute_result",
          "data": {
            "text/plain": [
              "array([[[1000, 1000, 1000, 1000, 1000],\n",
              "        [1000, 1000, 1000, 1000, 1000]],\n",
              "\n",
              "       [[1000, 1000, 1000, 1000, 1000],\n",
              "        [1000, 1000, 1000, 1000, 1000]]])"
            ]
          },
          "metadata": {},
          "execution_count": 182
        }
      ],
      "source": [
        "array_3D[0:]=1000\n",
        "array_3D"
      ]
    },
    {
      "cell_type": "markdown",
      "metadata": {
        "id": "b1gvoPPlUKpM"
      },
      "source": [
        "### 8. Run the next 3 cells to re-define the 3 arrays, since we altered their contents. "
      ]
    },
    {
      "cell_type": "code",
      "execution_count": null,
      "metadata": {
        "id": "bOf6jh0HUKpM",
        "colab": {
          "base_uri": "https://localhost:8080/"
        },
        "outputId": "42ef42bc-2711-45ba-8266-009330d55913"
      },
      "outputs": [
        {
          "output_type": "execute_result",
          "data": {
            "text/plain": [
              "array([10, 11, 12, 13, 14])"
            ]
          },
          "metadata": {},
          "execution_count": 183
        }
      ],
      "source": [
        "array_1D = np.array([10,11,12,13,14])\n",
        "array_1D"
      ]
    },
    {
      "cell_type": "code",
      "execution_count": null,
      "metadata": {
        "id": "jzfsjggrUKpM",
        "colab": {
          "base_uri": "https://localhost:8080/"
        },
        "outputId": "1fe332c7-998e-42e1-b886-148695596c62"
      },
      "outputs": [
        {
          "output_type": "execute_result",
          "data": {
            "text/plain": [
              "array([[20, 30, 40, 50, 60],\n",
              "       [43, 54, 65, 76, 87],\n",
              "       [11, 22, 33, 44, 55]])"
            ]
          },
          "metadata": {},
          "execution_count": 184
        }
      ],
      "source": [
        "array_2D = np.array([[20,30,40,50,60], [43,54,65,76,87], [11,22,33,44,55]])\n",
        "array_2D"
      ]
    },
    {
      "cell_type": "code",
      "execution_count": null,
      "metadata": {
        "id": "LHhCuRY8UKpM",
        "colab": {
          "base_uri": "https://localhost:8080/"
        },
        "outputId": "6854af3c-ff3e-4919-f761-ba8a068d9db2"
      },
      "outputs": [
        {
          "output_type": "execute_result",
          "data": {
            "text/plain": [
              "array([[[ 1,  2,  3,  4,  5],\n",
              "        [11, 21, 31, 41, 51]],\n",
              "\n",
              "       [[11, 12, 13, 14, 15],\n",
              "        [51, 52, 53, 54,  5]]])"
            ]
          },
          "metadata": {},
          "execution_count": 185
        }
      ],
      "source": [
        "array_3D = np.array([[[1,2,3,4,5], [11,21,31,41,51]], [[11,12,13,14,15], [51,52,53,54,5]]])\n",
        "array_3D"
      ]
    },
    {
      "cell_type": "markdown",
      "metadata": {
        "id": "IOCOqGPYUKpM"
      },
      "source": [
        "### 9. Add 2 to every element of the 3 arrays without overwriting their values."
      ]
    },
    {
      "cell_type": "code",
      "execution_count": null,
      "metadata": {
        "id": "gf_Zqp_LUKpN",
        "colab": {
          "base_uri": "https://localhost:8080/"
        },
        "outputId": "a1d3cb63-8449-4ac3-9dc0-39d7d9a8e679"
      },
      "outputs": [
        {
          "output_type": "execute_result",
          "data": {
            "text/plain": [
              "array([12, 13, 14, 15, 16])"
            ]
          },
          "metadata": {},
          "execution_count": 186
        }
      ],
      "source": [
        "array_1D+[2]\n"
      ]
    },
    {
      "cell_type": "code",
      "execution_count": null,
      "metadata": {
        "id": "6F2Mt72NUKpN",
        "colab": {
          "base_uri": "https://localhost:8080/"
        },
        "outputId": "87da5d03-417c-4688-eff2-5a51d8c5515c"
      },
      "outputs": [
        {
          "output_type": "execute_result",
          "data": {
            "text/plain": [
              "array([[22, 32, 42, 52, 62],\n",
              "       [45, 56, 67, 78, 89],\n",
              "       [13, 24, 35, 46, 57]])"
            ]
          },
          "metadata": {},
          "execution_count": 187
        }
      ],
      "source": [
        "array_2D+[2]"
      ]
    },
    {
      "cell_type": "code",
      "execution_count": null,
      "metadata": {
        "id": "Rk_dNTCbUKpN",
        "colab": {
          "base_uri": "https://localhost:8080/"
        },
        "outputId": "129131d3-4a5b-430d-9732-67094c1111b4"
      },
      "outputs": [
        {
          "output_type": "execute_result",
          "data": {
            "text/plain": [
              "array([[[ 3,  4,  5,  6,  7],\n",
              "        [13, 23, 33, 43, 53]],\n",
              "\n",
              "       [[13, 14, 15, 16, 17],\n",
              "        [53, 54, 55, 56,  7]]])"
            ]
          },
          "metadata": {},
          "execution_count": 188
        }
      ],
      "source": [
        "array_3D+[2]"
      ]
    },
    {
      "cell_type": "markdown",
      "metadata": {
        "id": "Ngmk7OrPUKpN"
      },
      "source": [
        "### 10. Multiply the values of each array by 100 without overwriting their values."
      ]
    },
    {
      "cell_type": "code",
      "execution_count": null,
      "metadata": {
        "id": "khASHo_9UKpN",
        "colab": {
          "base_uri": "https://localhost:8080/"
        },
        "outputId": "ed6d3bb4-e8db-4f71-9a1a-8f52c820b856"
      },
      "outputs": [
        {
          "output_type": "execute_result",
          "data": {
            "text/plain": [
              "array([1000, 1100, 1200, 1300, 1400])"
            ]
          },
          "metadata": {},
          "execution_count": 189
        }
      ],
      "source": [
        "array_1D*100"
      ]
    },
    {
      "cell_type": "code",
      "execution_count": null,
      "metadata": {
        "id": "bDP2WiUHUKpN",
        "colab": {
          "base_uri": "https://localhost:8080/"
        },
        "outputId": "b5704bf0-69b7-4d39-880b-1bd0eb6e6517"
      },
      "outputs": [
        {
          "output_type": "execute_result",
          "data": {
            "text/plain": [
              "array([[2000, 3000, 4000, 5000, 6000],\n",
              "       [4300, 5400, 6500, 7600, 8700],\n",
              "       [1100, 2200, 3300, 4400, 5500]])"
            ]
          },
          "metadata": {},
          "execution_count": 190
        }
      ],
      "source": [
        "array_2D*100"
      ]
    },
    {
      "cell_type": "code",
      "execution_count": null,
      "metadata": {
        "id": "M3bep8X5UKpN",
        "colab": {
          "base_uri": "https://localhost:8080/"
        },
        "outputId": "b80d399c-296b-4ae8-bbad-a0b1c0c6ffcc"
      },
      "outputs": [
        {
          "output_type": "execute_result",
          "data": {
            "text/plain": [
              "array([[[ 100,  200,  300,  400,  500],\n",
              "        [1100, 2100, 3100, 4100, 5100]],\n",
              "\n",
              "       [[1100, 1200, 1300, 1400, 1500],\n",
              "        [5100, 5200, 5300, 5400,  500]]])"
            ]
          },
          "metadata": {},
          "execution_count": 191
        }
      ],
      "source": [
        "array_3D*100"
      ]
    },
    {
      "cell_type": "markdown",
      "metadata": {
        "id": "RZJDkTWqUKpN"
      },
      "source": [
        "### 11. Add up <i>array_1D</i> and the first row of <i>array_2D</i>"
      ]
    },
    {
      "cell_type": "code",
      "execution_count": null,
      "metadata": {
        "id": "6SbgoC9_UKpO",
        "colab": {
          "base_uri": "https://localhost:8080/"
        },
        "outputId": "028ce74a-32a3-47b4-93a0-bfa47bafb064"
      },
      "outputs": [
        {
          "output_type": "execute_result",
          "data": {
            "text/plain": [
              "(array([10, 11, 12, 13, 14]), array([20, 30, 40, 50, 60]))"
            ]
          },
          "metadata": {},
          "execution_count": 192
        }
      ],
      "source": [
        "array_1D,array_2D[0]"
      ]
    },
    {
      "cell_type": "markdown",
      "metadata": {
        "id": "OD_VEm90UKpO"
      },
      "source": [
        "### 12. Find the product of <i>array_1D</i> and the first row of <i>array_2D</i>"
      ]
    },
    {
      "cell_type": "code",
      "execution_count": null,
      "metadata": {
        "id": "6dj1f0yqUKpO",
        "colab": {
          "base_uri": "https://localhost:8080/"
        },
        "outputId": "5fff4be8-28e3-4958-f274-f65d51da6e65"
      },
      "outputs": [
        {
          "output_type": "stream",
          "name": "stdout",
          "text": [
            "240240\n",
            "-7064536445226549248\n"
          ]
        }
      ],
      "source": [
        "a = np.prod(array_1D)\n",
        "print(a)\n",
        "b = np.prod(array_2D[0:])\n",
        "print(b)"
      ]
    },
    {
      "cell_type": "markdown",
      "metadata": {
        "id": "NGqZHu20UKpO"
      },
      "source": [
        "### 13. Find the product  of the first row of <i>array_2D</i> and the first row of the first array of <i> array_3D </i>"
      ]
    },
    {
      "cell_type": "code",
      "execution_count": null,
      "metadata": {
        "id": "DywTF8kYUKpO",
        "colab": {
          "base_uri": "https://localhost:8080/"
        },
        "outputId": "21f00e97-2e6a-4de7-a4c8-8f55bb3435f8"
      },
      "outputs": [
        {
          "output_type": "stream",
          "name": "stdout",
          "text": [
            "-7064536445226549248\n",
            "1965392684508031488\n"
          ]
        }
      ],
      "source": [
        "a = np.prod(array_2D[0:])\n",
        "print(a)\n",
        "b = np.prod(array_3D[0:])\n",
        "print(b)"
      ]
    },
    {
      "cell_type": "markdown",
      "metadata": {
        "id": "W15_YGvLUKpO"
      },
      "source": [
        "### 14. Subtract <i> array_1D </i> from the first row of <i>array_2D</i>"
      ]
    },
    {
      "cell_type": "code",
      "execution_count": null,
      "metadata": {
        "id": "mbnpiZluUKpO",
        "colab": {
          "base_uri": "https://localhost:8080/"
        },
        "outputId": "5d88669b-ae81-4cee-bf2c-46fb4b369d2c"
      },
      "outputs": [
        {
          "output_type": "execute_result",
          "data": {
            "text/plain": [
              "array([[10, 19, 28, 37, 46],\n",
              "       [33, 43, 53, 63, 73],\n",
              "       [ 1, 11, 21, 31, 41]])"
            ]
          },
          "metadata": {},
          "execution_count": 195
        }
      ],
      "source": [
        "array_2D[0:]-array_1D[0:]"
      ]
    },
    {
      "cell_type": "markdown",
      "metadata": {
        "id": "0sbV2Te3UKpO"
      },
      "source": [
        "### 15. Subtract the first row of <i>array_2D</i> from  <i> array_1D </i> "
      ]
    },
    {
      "cell_type": "code",
      "execution_count": null,
      "metadata": {
        "id": "qOKpWRtnUKpP",
        "colab": {
          "base_uri": "https://localhost:8080/"
        },
        "outputId": "bb1fc42b-812c-47d4-dbf2-cbb8b07317f3"
      },
      "outputs": [
        {
          "output_type": "execute_result",
          "data": {
            "text/plain": [
              "array([[-10, -19, -28, -37, -46],\n",
              "       [-33, -43, -53, -63, -73],\n",
              "       [ -1, -11, -21, -31, -41]])"
            ]
          },
          "metadata": {},
          "execution_count": 196
        }
      ],
      "source": [
        "array_1D[0:]-array_2D[0:] "
      ]
    },
    {
      "cell_type": "markdown",
      "metadata": {
        "id": "vgZb7dR3UKpP"
      },
      "source": [
        "### 16. Alter the code in the next 3 cells to re-define the 3 arrays as the following datatypes:\n",
        "    A) array_1D -> NumPy Strings\n",
        "    B) array_2D -> Complex Numbers\n",
        "    C) array_3D -> 64-bit Floats\n",
        "    \n",
        "   (<b>Hint</b>: The datatypes are the following: <i>np.str</i>, <i>np.complex</i>, <i>np.float64</i>)"
      ]
    },
    {
      "cell_type": "code",
      "execution_count": null,
      "metadata": {
        "id": "iHYD2WROUKpP",
        "colab": {
          "base_uri": "https://localhost:8080/"
        },
        "outputId": "23e36d10-d8b3-40c8-fdb1-2784b2cd909a"
      },
      "outputs": [
        {
          "output_type": "stream",
          "name": "stderr",
          "text": [
            "/usr/local/lib/python3.7/dist-packages/ipykernel_launcher.py:1: DeprecationWarning: `np.str` is a deprecated alias for the builtin `str`. To silence this warning, use `str` by itself. Doing this will not modify any behavior and is safe. If you specifically wanted the numpy scalar type, use `np.str_` here.\n",
            "Deprecated in NumPy 1.20; for more details and guidance: https://numpy.org/devdocs/release/1.20.0-notes.html#deprecations\n",
            "  \"\"\"Entry point for launching an IPython kernel.\n"
          ]
        },
        {
          "output_type": "execute_result",
          "data": {
            "text/plain": [
              "array(['10', '11', '12', '13', '14'], dtype='<U2')"
            ]
          },
          "metadata": {},
          "execution_count": 197
        }
      ],
      "source": [
        "array_1D = np.array([10,11,12,13,14],dtype = np.str)\n",
        "array_1D"
      ]
    },
    {
      "cell_type": "code",
      "execution_count": null,
      "metadata": {
        "id": "CFHaJyUkUKpP",
        "colab": {
          "base_uri": "https://localhost:8080/"
        },
        "outputId": "5835c29b-8765-4785-f299-ca5edb48f35c"
      },
      "outputs": [
        {
          "output_type": "execute_result",
          "data": {
            "text/plain": [
              "array([[20.+0.j, 30.+0.j, 40.+0.j, 50.+0.j, 60.+0.j],\n",
              "       [43.+0.j, 54.+0.j, 65.+0.j, 76.+0.j, 87.+0.j],\n",
              "       [11.+0.j, 22.+0.j, 33.+0.j, 44.+0.j, 55.+0.j]], dtype=complex64)"
            ]
          },
          "metadata": {},
          "execution_count": 198
        }
      ],
      "source": [
        "array_2D = np.array([[20,30,40,50,60], [43,54,65,76,87], [11,22,33,44,55]],dtype = np.complex64)\n",
        "array_2D"
      ]
    },
    {
      "cell_type": "code",
      "execution_count": null,
      "metadata": {
        "id": "ZUp5yowYUKpP",
        "colab": {
          "base_uri": "https://localhost:8080/"
        },
        "outputId": "f3795074-fa6b-47cd-c286-3d886928e2c8"
      },
      "outputs": [
        {
          "output_type": "execute_result",
          "data": {
            "text/plain": [
              "array([[[ 1.,  2.,  3.,  4.,  5.],\n",
              "        [11., 21., 31., 41., 51.]],\n",
              "\n",
              "       [[11., 12., 13., 14., 15.],\n",
              "        [51., 52., 53., 54.,  5.]]])"
            ]
          },
          "metadata": {},
          "execution_count": 199
        }
      ],
      "source": [
        "array_3D = np.array([[[1,2,3,4,5], [11,21,31,41,51]], [[11,12,13,14,15], [51,52,53,54,5]]],dtype = np.float64)\n",
        "array_3D"
      ]
    },
    {
      "cell_type": "markdown",
      "metadata": {
        "id": "SIsIkPGlUKpP"
      },
      "source": [
        "### 17. Now run the next 3 cells to re-define the 3 arrays as 32-bit floats, since we want to run some more computations on them"
      ]
    },
    {
      "cell_type": "code",
      "execution_count": null,
      "metadata": {
        "id": "VYDaKgaqUKpQ",
        "colab": {
          "base_uri": "https://localhost:8080/"
        },
        "outputId": "24a6a271-3caa-437a-f1b0-393a26e50fe3"
      },
      "outputs": [
        {
          "output_type": "execute_result",
          "data": {
            "text/plain": [
              "array([10., 11., 12., 13., 14.], dtype=float32)"
            ]
          },
          "metadata": {},
          "execution_count": 200
        }
      ],
      "source": [
        "array_1D = np.array([10,11,12,13,14], dtype = np.float32)\n",
        "array_1D"
      ]
    },
    {
      "cell_type": "code",
      "execution_count": null,
      "metadata": {
        "id": "sLnYKv-bUKpQ",
        "colab": {
          "base_uri": "https://localhost:8080/"
        },
        "outputId": "c09ce901-95a0-413c-fda1-a76adac92e44"
      },
      "outputs": [
        {
          "output_type": "execute_result",
          "data": {
            "text/plain": [
              "array([[20., 30., 40., 50., 60.],\n",
              "       [43., 54., 65., 76., 87.],\n",
              "       [11., 22., 33., 44., 55.]], dtype=float32)"
            ]
          },
          "metadata": {},
          "execution_count": 201
        }
      ],
      "source": [
        "array_2D = np.array([[20,30,40,50,60], [43,54,65,76,87], [11,22,33,44,55]], dtype = np.float32)\n",
        "array_2D"
      ]
    },
    {
      "cell_type": "code",
      "execution_count": null,
      "metadata": {
        "id": "iqapaefcUKpQ",
        "colab": {
          "base_uri": "https://localhost:8080/"
        },
        "outputId": "bd68657c-0f50-4c0e-e06d-da6c490c64b3"
      },
      "outputs": [
        {
          "output_type": "execute_result",
          "data": {
            "text/plain": [
              "array([[[ 1.,  2.,  3.,  4.,  5.],\n",
              "        [11., 21., 31., 41., 51.]],\n",
              "\n",
              "       [[11., 12., 13., 14., 15.],\n",
              "        [51., 52., 53., 54.,  5.]]], dtype=float32)"
            ]
          },
          "metadata": {},
          "execution_count": 202
        }
      ],
      "source": [
        "array_3D = np.array([[[1,2,3,4,5], [11,21,31,41,51]], [[11,12,13,14,15], [51,52,53,54,5]]], dtype = np.float32)\n",
        "array_3D"
      ]
    },
    {
      "cell_type": "markdown",
      "metadata": {
        "id": "I3E78oEpUKpQ"
      },
      "source": [
        "### 18. Use broadcasting to subtract  <i>array_1D</i> from every row of <i> array_2D </i> \n",
        "   (<b>Hint</b>: You **don't** need a function to do this.)"
      ]
    },
    {
      "cell_type": "code",
      "execution_count": null,
      "metadata": {
        "id": "FbgT31RwUKpQ",
        "colab": {
          "base_uri": "https://localhost:8080/"
        },
        "outputId": "29b276e2-96b0-4ec5-c9a6-47006e91ffa4"
      },
      "outputs": [
        {
          "output_type": "execute_result",
          "data": {
            "text/plain": [
              "array([[10., 19., 28., 37., 46.],\n",
              "       [33., 43., 53., 63., 73.],\n",
              "       [ 1., 11., 21., 31., 41.]], dtype=float32)"
            ]
          },
          "metadata": {},
          "execution_count": 203
        }
      ],
      "source": [
        "array_2D[0:]- array_1D"
      ]
    },
    {
      "cell_type": "markdown",
      "metadata": {
        "id": "NfQlg6p0UKpQ"
      },
      "source": [
        "### 19. Use broadcasting to divide all rows of <i>array_3D</i> by <i> array_1D </i> "
      ]
    },
    {
      "cell_type": "code",
      "execution_count": null,
      "metadata": {
        "id": "AndhlvqbUKpQ",
        "colab": {
          "base_uri": "https://localhost:8080/"
        },
        "outputId": "e2c1298f-c598-468f-b243-d6e817e0a3ff"
      },
      "outputs": [
        {
          "output_type": "execute_result",
          "data": {
            "text/plain": [
              "array([[[0.1       , 0.18181819, 0.25      , 0.30769232, 0.35714287],\n",
              "        [1.1       , 1.9090909 , 2.5833333 , 3.1538463 , 3.642857  ]],\n",
              "\n",
              "       [[1.1       , 1.0909091 , 1.0833334 , 1.0769231 , 1.0714285 ],\n",
              "        [5.1       , 4.7272725 , 4.4166665 , 4.1538463 , 0.35714287]]],\n",
              "      dtype=float32)"
            ]
          },
          "metadata": {},
          "execution_count": 204
        }
      ],
      "source": [
        "array_3D[0:]/ array_1D"
      ]
    },
    {
      "cell_type": "markdown",
      "metadata": {
        "id": "FUORZmaSUKpR"
      },
      "source": [
        "### 19. Use broadcasting to find the product of all rows of <i>array_3D</i>  and the last row of <i> array_2D </i> "
      ]
    },
    {
      "cell_type": "code",
      "execution_count": null,
      "metadata": {
        "id": "r5DTpWh_UKpR",
        "colab": {
          "base_uri": "https://localhost:8080/"
        },
        "outputId": "8a757c80-5d54-4c83-c9ec-61394f6f16e1"
      },
      "outputs": [
        {
          "output_type": "stream",
          "name": "stdout",
          "text": [
            "72000000.0\n",
            "13675706000000.0\n"
          ]
        }
      ],
      "source": [
        "a = np.prod(array_2D[0,0:])\n",
        "print(a)\n",
        "b = np.prod(array_3D[1:])\n",
        "print(b)"
      ]
    },
    {
      "cell_type": "markdown",
      "metadata": {
        "id": "_uwuaC1MUKpR"
      },
      "source": [
        "### 20. Since these products are all integers, let's cast them as such\n",
        "   (<b>Hint</b>: You can use the np.array() function here)"
      ]
    },
    {
      "cell_type": "code",
      "execution_count": null,
      "metadata": {
        "id": "02iVPKMuUKpR"
      },
      "outputs": [],
      "source": []
    },
    {
      "cell_type": "markdown",
      "metadata": {
        "id": "dYImZPDCUKpR"
      },
      "source": [
        "### 21. Let's use axis argument of the np.mean() function to find the mean for every column of the 2-D array"
      ]
    },
    {
      "cell_type": "code",
      "execution_count": null,
      "metadata": {
        "id": "5-7puVe4UKpR",
        "colab": {
          "base_uri": "https://localhost:8080/"
        },
        "outputId": "bab93cc5-73ce-4b96-90fb-19ca83662f42"
      },
      "outputs": [
        {
          "output_type": "execute_result",
          "data": {
            "text/plain": [
              "array([24.666666, 35.333332, 46.      , 56.666668, 67.333336],\n",
              "      dtype=float32)"
            ]
          },
          "metadata": {},
          "execution_count": 206
        }
      ],
      "source": [
        "np.mean(array_2D, axis = 0)"
      ]
    },
    {
      "cell_type": "markdown",
      "metadata": {
        "id": "k0xJfyyVUKpR"
      },
      "source": [
        "### 22. Let's use axis argument of the np.mean() function to find the mean for every column of the 3-D array\n",
        "   (<b>Hint</b>: Make sure you define the correct axis.)"
      ]
    },
    {
      "cell_type": "code",
      "execution_count": null,
      "metadata": {
        "id": "pFNieFNIUKpR",
        "colab": {
          "base_uri": "https://localhost:8080/"
        },
        "outputId": "81fa45cf-4e97-4bb6-b901-36a012b1195c"
      },
      "outputs": [
        {
          "output_type": "execute_result",
          "data": {
            "text/plain": [
              "array([[ 6. ,  7. ,  8. ,  9. , 10. ],\n",
              "       [31. , 36.5, 42. , 47.5, 28. ]], dtype=float32)"
            ]
          },
          "metadata": {},
          "execution_count": 208
        }
      ],
      "source": [
        "np.mean(array_3D, axis = 0)"
      ]
    }
  ],
  "metadata": {
    "kernelspec": {
      "display_name": "Python 3",
      "language": "python",
      "name": "python3"
    },
    "language_info": {
      "codemirror_mode": {
        "name": "ipython",
        "version": 3
      },
      "file_extension": ".py",
      "mimetype": "text/x-python",
      "name": "python",
      "nbconvert_exporter": "python",
      "pygments_lexer": "ipython3",
      "version": "3.7.6"
    },
    "colab": {
      "provenance": [],
      "collapsed_sections": [
        "dMEi8G4zUKpH",
        "hocUK3pcUKpJ",
        "guQQHaDQUKpK",
        "t_iM0gilUKpL",
        "b1gvoPPlUKpM",
        "IOCOqGPYUKpM",
        "Ngmk7OrPUKpN",
        "RZJDkTWqUKpN",
        "OD_VEm90UKpO",
        "NGqZHu20UKpO",
        "W15_YGvLUKpO",
        "0sbV2Te3UKpO",
        "vgZb7dR3UKpP",
        "SIsIkPGlUKpP",
        "I3E78oEpUKpQ",
        "NfQlg6p0UKpQ",
        "FUORZmaSUKpR",
        "_uwuaC1MUKpR",
        "dYImZPDCUKpR",
        "k0xJfyyVUKpR"
      ],
      "include_colab_link": true
    }
  },
  "nbformat": 4,
  "nbformat_minor": 0
}