{
  "cells": [
    {
      "cell_type": "markdown",
      "metadata": {
        "id": "view-in-github",
        "colab_type": "text"
      },
      "source": [
        "<a href=\"https://colab.research.google.com/github/shubhkhatwase/Exploratory-data-analysis-/blob/main/Preprocessing_Data_With_NumPy_Complete.ipynb\" target=\"_parent\"><img src=\"https://colab.research.google.com/assets/colab-badge.svg\" alt=\"Open In Colab\"/></a>"
      ]
    },
    {
      "cell_type": "markdown",
      "metadata": {
        "id": "iURovD9ZtHkq"
      },
      "source": [
        "# Preprocessing with NumPy"
      ]
    },
    {
      "cell_type": "code",
      "execution_count": null,
      "metadata": {
        "id": "uvJeQ1N7tHku"
      },
      "outputs": [],
      "source": [
        "import numpy as np"
      ]
    },
    {
      "cell_type": "markdown",
      "metadata": {
        "id": "Xs9SMAattHkx"
      },
      "source": [
        "## Checking for Missing Values"
      ]
    },
    {
      "cell_type": "code",
      "execution_count": null,
      "metadata": {
        "id": "FthieEW6tHkz"
      },
      "outputs": [],
      "source": [
        "lending_co_data_numeric = np.loadtxt(\"Lending-company-Numeric.csv\", delimiter = ',')\n",
        "\n",
        "## If np.loadtxt() compiles first time, the dataset consists of only numeric values and has no missing data. "
      ]
    },
    {
      "cell_type": "code",
      "execution_count": null,
      "metadata": {
        "id": "tWqYCaVetHk1",
        "outputId": "9932ab4f-b3e9-453d-bc1d-4bee47c26599"
      },
      "outputs": [
        {
          "data": {
            "text/plain": [
              "0"
            ]
          },
          "execution_count": 4,
          "metadata": {},
          "output_type": "execute_result"
        }
      ],
      "source": [
        "np.isnan(lending_co_data_numeric).sum()\n",
        "\n",
        "## isnan() determines whether data is missing data for the individual elements in an array (True -> Missing, False -> Not missing)\n",
        "## By adding .sum(), we get the total number of missing elements in the data. "
      ]
    },
    {
      "cell_type": "code",
      "execution_count": null,
      "metadata": {
        "id": "Nyb1fzSNtHk4"
      },
      "outputs": [],
      "source": [
        "lending_co_data_numeric_NAN = np.genfromtxt(\"Lending-company-Numeric-NAN.csv\", delimiter = ';')"
      ]
    },
    {
      "cell_type": "code",
      "execution_count": null,
      "metadata": {
        "id": "WjKdDJR-tHk5",
        "outputId": "33602f18-f27d-47cb-c4df-9054712b0c20"
      },
      "outputs": [
        {
          "data": {
            "text/plain": [
              "260"
            ]
          },
          "execution_count": 8,
          "metadata": {},
          "output_type": "execute_result"
        }
      ],
      "source": [
        "np.isnan(lending_co_data_numeric_NAN).sum()"
      ]
    },
    {
      "cell_type": "code",
      "execution_count": null,
      "metadata": {
        "id": "iJQrqeahtHk5"
      },
      "outputs": [],
      "source": [
        "lending_co_data_numeric_NAN = np.genfromtxt(\"Lending-company-Numeric-NAN.csv\", \n",
        "                                            delimiter = ';',\n",
        "                                            filling_values = 0)\n",
        "\n",
        "## Filling_values substitutes every nan with the value we're passing (0 in this case)"
      ]
    },
    {
      "cell_type": "code",
      "execution_count": null,
      "metadata": {
        "id": "dU28EgXjtHk6",
        "outputId": "3b6dcaeb-ac24-4873-d202-601c0bd040b6"
      },
      "outputs": [
        {
          "data": {
            "text/plain": [
              "0"
            ]
          },
          "execution_count": 10,
          "metadata": {},
          "output_type": "execute_result"
        }
      ],
      "source": [
        "np.isnan(lending_co_data_numeric_NAN).sum()\n",
        "\n",
        "## All the previously missing values are now 0s."
      ]
    },
    {
      "cell_type": "code",
      "execution_count": null,
      "metadata": {
        "id": "xqwqzDghtHk6"
      },
      "outputs": [],
      "source": [
        "lending_co_data_numeric_NAN = np.genfromtxt(\"Lending-company-Numeric-NAN.csv\", \n",
        "                                            delimiter = ';') \n",
        "\n",
        "# We need to reimport the dataset since all the missing values are filled up. "
      ]
    },
    {
      "cell_type": "code",
      "execution_count": null,
      "metadata": {
        "id": "FtXXYpWItHk7"
      },
      "outputs": [],
      "source": [
        "temporary_fill = np.nanmax(lending_co_data_numeric_NAN).round(2) + 1\n",
        "\n",
        "# We use nanmax(), since max() returns nan. \n",
        "# We want a value greater than the max, since we have be certain it's unique to the dataset."
      ]
    },
    {
      "cell_type": "code",
      "execution_count": null,
      "metadata": {
        "id": "d_z_pmHetHk8",
        "outputId": "a77c446d-ded8-4dfe-a1af-678785670d0c"
      },
      "outputs": [
        {
          "data": {
            "text/plain": [
              "64002.0"
            ]
          },
          "execution_count": 14,
          "metadata": {},
          "output_type": "execute_result"
        }
      ],
      "source": [
        "temporary_fill"
      ]
    },
    {
      "cell_type": "code",
      "execution_count": null,
      "metadata": {
        "id": "jpvcqN48tHk8"
      },
      "outputs": [],
      "source": [
        "lending_co_data_numeric_NAN = np.genfromtxt(\"Lending-company-Numeric-NAN.csv\", \n",
        "                                            delimiter = ';',\n",
        "                                            filling_values = temporary_fill) \n",
        "\n",
        "# Filling up all the missing values with the temporary filler. "
      ]
    },
    {
      "cell_type": "code",
      "execution_count": null,
      "metadata": {
        "id": "D-I_WIbztHk9",
        "outputId": "0e128e17-2d0c-4f0e-a6c0-59f3bb8b850f"
      },
      "outputs": [
        {
          "data": {
            "text/plain": [
              "array([[False, False, False, False, False, False],\n",
              "       [False, False, False, False, False, False],\n",
              "       [False, False, False, False, False, False],\n",
              "       ...,\n",
              "       [False, False, False, False, False, False],\n",
              "       [False, False, False, False, False, False],\n",
              "       [False, False, False, False, False, False]])"
            ]
          },
          "execution_count": 16,
          "metadata": {},
          "output_type": "execute_result"
        }
      ],
      "source": [
        "np.isnan(lending_co_data_numeric_NAN)"
      ]
    },
    {
      "cell_type": "code",
      "execution_count": null,
      "metadata": {
        "id": "0XqiUiJrtHk9",
        "outputId": "02fa544f-0df2-4f18-b0be-3f13d9e479ee"
      },
      "outputs": [
        {
          "data": {
            "text/plain": [
              "0"
            ]
          },
          "execution_count": 17,
          "metadata": {},
          "output_type": "execute_result"
        }
      ],
      "source": [
        "np.isnan(lending_co_data_numeric_NAN).sum()"
      ]
    },
    {
      "cell_type": "markdown",
      "metadata": {
        "id": "lDvqfZJatHk-"
      },
      "source": [
        "## Substituting Missing Values"
      ]
    },
    {
      "cell_type": "code",
      "execution_count": null,
      "metadata": {
        "id": "RdDoZG41tHk-",
        "outputId": "a4fb5ced-37cb-4f7f-9d23-0dfa01c0b2b3"
      },
      "outputs": [
        {
          "data": {
            "text/plain": [
              "array([[ 2000.,    40.,   365.,  3121.,  4241., 13621.],\n",
              "       [ 2000.,    40.,   365.,  3061.,  4171., 15041.],\n",
              "       [ 1000.,    40.,   365.,  2160.,  3280., 15340.],\n",
              "       ...,\n",
              "       [   nan,    40.,   365.,  4201.,  5001., 16600.],\n",
              "       [ 1000.,    40.,   365.,  2080.,  3320., 15600.],\n",
              "       [ 2000.,    40.,   365.,  4601.,  4601., 16600.]])"
            ]
          },
          "execution_count": 19,
          "metadata": {},
          "output_type": "execute_result"
        }
      ],
      "source": [
        "lending_co_data_numeric_NAN = np.genfromtxt(\"Lending-company-Numeric-NAN.csv\", delimiter = ';')\n",
        "lending_co_data_numeric_NAN"
      ]
    },
    {
      "cell_type": "code",
      "execution_count": null,
      "metadata": {
        "id": "Rjnbb1YvtHk-"
      },
      "outputs": [],
      "source": [
        "temporary_mean = np.nanmean(lending_co_data_numeric_NAN, axis = 0).round(2)\n",
        "\n",
        "## Storing the means of every column. "
      ]
    },
    {
      "cell_type": "code",
      "execution_count": null,
      "metadata": {
        "id": "wG3oCJU7tHk_",
        "outputId": "17e79435-85ae-42a1-bc02-2675ea9cfdb1"
      },
      "outputs": [
        {
          "data": {
            "text/plain": [
              "2250.25"
            ]
          },
          "execution_count": 21,
          "metadata": {},
          "output_type": "execute_result"
        }
      ],
      "source": [
        "temporary_mean[0]"
      ]
    },
    {
      "cell_type": "code",
      "execution_count": null,
      "metadata": {
        "id": "gHeJwxXxtHk_"
      },
      "outputs": [],
      "source": [
        "temporary_fill = np.nanmax(lending_co_data_numeric_NAN).round(2) + 1\n",
        "\n",
        "lending_co_data_numeric_NAN = np.genfromtxt(\"Lending-company-Numeric-NAN.csv\",\n",
        "                                            delimiter = ';',\n",
        "                                            filling_values = temporary_fill)\n",
        "\n",
        "## Creating a unique filler and using it to take care of all the missing values."
      ]
    },
    {
      "cell_type": "code",
      "execution_count": null,
      "metadata": {
        "id": "6MFeq4K6tHlA",
        "outputId": "14826e9c-e42e-4edc-adaa-5d5c8d59a450"
      },
      "outputs": [
        {
          "data": {
            "text/plain": [
              "64002.0"
            ]
          },
          "execution_count": 23,
          "metadata": {},
          "output_type": "execute_result"
        }
      ],
      "source": [
        "temporary_fill"
      ]
    },
    {
      "cell_type": "code",
      "execution_count": null,
      "metadata": {
        "id": "5yi4Zw6ttHlB",
        "outputId": "6f9febd3-7165-4ad5-b6be-ff29ab401139"
      },
      "outputs": [
        {
          "data": {
            "text/plain": [
              "4263.25"
            ]
          },
          "execution_count": 24,
          "metadata": {},
          "output_type": "execute_result"
        }
      ],
      "source": [
        "np.mean(lending_co_data_numeric_NAN[:,0]).round(2) \n",
        "\n",
        "# Supposed mean (w/ fillers)"
      ]
    },
    {
      "cell_type": "code",
      "execution_count": null,
      "metadata": {
        "id": "ZmnM5EUztHlB",
        "outputId": "7d3c8ca9-e156-45b1-c647-e842203b673d"
      },
      "outputs": [
        {
          "data": {
            "text/plain": [
              "2250.25"
            ]
          },
          "execution_count": 25,
          "metadata": {},
          "output_type": "execute_result"
        }
      ],
      "source": [
        "temporary_mean[0]\n",
        "\n",
        "# Actual mean (w/0 fillers)"
      ]
    },
    {
      "cell_type": "code",
      "execution_count": null,
      "metadata": {
        "id": "FxaoqXPgtHlC"
      },
      "outputs": [],
      "source": [
        "lending_co_data_numeric_NAN[:,0] = np.where(lending_co_data_numeric_NAN[:,0] == temporary_fill,\n",
        "                                            temporary_mean[0], \n",
        "                                            lending_co_data_numeric_NAN[:,0])\n",
        "\n",
        "# Going through the first column and substituting any temporary fillers (previously missing) with the mean for that column."
      ]
    },
    {
      "cell_type": "code",
      "execution_count": null,
      "metadata": {
        "id": "K3p8V6QttHlD",
        "outputId": "60a45228-d9c1-4704-e513-ff82d4291101"
      },
      "outputs": [
        {
          "data": {
            "text/plain": [
              "2250.25"
            ]
          },
          "execution_count": 27,
          "metadata": {},
          "output_type": "execute_result"
        }
      ],
      "source": [
        "np.mean(lending_co_data_numeric_NAN[:,0]).round(2)\n",
        "\n",
        "# New mean equals old mean. "
      ]
    },
    {
      "cell_type": "code",
      "execution_count": null,
      "metadata": {
        "id": "b7BA_vQvtHlD"
      },
      "outputs": [],
      "source": [
        "for i in range(lending_co_data_numeric_NAN.shape[1]):        \n",
        "    lending_co_data_numeric_NAN[:,i] = np.where(lending_co_data_numeric_NAN[:,i] == temporary_fill, \n",
        "                                                temporary_mean[i], \n",
        "                                                lending_co_data_numeric_NAN[:,i])\n",
        "    \n",
        "# We're generalizing the filling from earlier and going through all the columns. "
      ]
    },
    {
      "cell_type": "code",
      "execution_count": null,
      "metadata": {
        "id": "pJ7URaN9tHlE"
      },
      "outputs": [],
      "source": [
        "for i in range(lending_co_data_numeric_NAN.shape[1]):        \n",
        "    lending_co_data_numeric_NAN[:,i] = np.where(lending_co_data_numeric_NAN[:, i] < 0,\n",
        "                                                0, \n",
        "                                                lending_co_data_numeric_NAN[:,i])\n",
        "    \n",
        "# We can use this approach for other applications as well (e.g. remove all negative values and set them to 0)"
      ]
    },
    {
      "cell_type": "markdown",
      "metadata": {
        "id": "aBdTiWevtHlE"
      },
      "source": [
        "## Reshaping"
      ]
    },
    {
      "cell_type": "code",
      "execution_count": null,
      "metadata": {
        "id": "MGNDvOFKtHlE"
      },
      "outputs": [],
      "source": [
        "lending_co_data_numeric = np.loadtxt(\"Lending-company-Numeric.csv\", delimiter = ',')"
      ]
    },
    {
      "cell_type": "code",
      "execution_count": null,
      "metadata": {
        "id": "fkcYZmVwtHlF",
        "outputId": "84c04011-585e-47e6-98ac-791bea18dde7"
      },
      "outputs": [
        {
          "data": {
            "text/plain": [
              "array([[ 2000.,    40.,   365.,  3121.,  4241., 13621.],\n",
              "       [ 2000.,    40.,   365.,  3061.,  4171., 15041.],\n",
              "       [ 1000.,    40.,   365.,  2160.,  3280., 15340.],\n",
              "       ...,\n",
              "       [ 2000.,    40.,   365.,  4201.,  5001., 16600.],\n",
              "       [ 1000.,    40.,   365.,  2080.,  3320., 15600.],\n",
              "       [ 2000.,    40.,   365.,  4601.,  4601., 16600.]])"
            ]
          },
          "execution_count": 31,
          "metadata": {},
          "output_type": "execute_result"
        }
      ],
      "source": [
        "lending_co_data_numeric"
      ]
    },
    {
      "cell_type": "code",
      "execution_count": null,
      "metadata": {
        "id": "WAZVeGtEtHlF",
        "outputId": "ced1e2fc-2c80-40fe-9484-a6cee7afee30"
      },
      "outputs": [
        {
          "data": {
            "text/plain": [
              "(1043, 6)"
            ]
          },
          "execution_count": 32,
          "metadata": {},
          "output_type": "execute_result"
        }
      ],
      "source": [
        "lending_co_data_numeric.shape"
      ]
    },
    {
      "cell_type": "code",
      "execution_count": null,
      "metadata": {
        "scrolled": true,
        "id": "pBrt60w4tHlG",
        "outputId": "776ffe72-fa98-4d10-ff37-2085dbcd840a"
      },
      "outputs": [
        {
          "data": {
            "text/plain": [
              "array([[ 2000.,    40.,   365., ...,   365.,  1581.,  3041.],\n",
              "       [12277.,  2000.,    40., ...,    50.,   365.,  5350.],\n",
              "       [ 6850., 15150.,  1000., ...,  2000.,    40.,   365.],\n",
              "       [ 3101.,  4351., 16600., ..., 16600.,  2000.,    40.],\n",
              "       [  365.,  3441.,  4661., ...,  8450., 22250.,  2000.],\n",
              "       [   40.,   365.,  3701., ...,  4601.,  4601., 16600.]])"
            ]
          },
          "execution_count": 33,
          "metadata": {},
          "output_type": "execute_result"
        }
      ],
      "source": [
        "np.reshape(lending_co_data_numeric, (6,1043))\n",
        "\n",
        "# Reshaping (1043,6) to (6,1043) is not the same as transposing."
      ]
    },
    {
      "cell_type": "code",
      "execution_count": null,
      "metadata": {
        "id": "DySSB0cXtHlG",
        "outputId": "e6fe74de-e0b1-49d1-dee9-1a3539fb8867"
      },
      "outputs": [
        {
          "data": {
            "text/plain": [
              "array([[ 2000.,  2000.,  1000., ...,  2000.,  1000.,  2000.],\n",
              "       [   40.,    40.,    40., ...,    40.,    40.,    40.],\n",
              "       [  365.,   365.,   365., ...,   365.,   365.,   365.],\n",
              "       [ 3121.,  3061.,  2160., ...,  4201.,  2080.,  4601.],\n",
              "       [ 4241.,  4171.,  3280., ...,  5001.,  3320.,  4601.],\n",
              "       [13621., 15041., 15340., ..., 16600., 15600., 16600.]])"
            ]
          },
          "execution_count": 34,
          "metadata": {},
          "output_type": "execute_result"
        }
      ],
      "source": [
        "np.transpose(lending_co_data_numeric)"
      ]
    },
    {
      "cell_type": "code",
      "execution_count": null,
      "metadata": {
        "id": "IwPzhrE2tHlG",
        "outputId": "89018841-cfe6-4f90-a4d5-10f9063bb538"
      },
      "outputs": [
        {
          "data": {
            "text/plain": [
              "array([[[[[ 2000.,    40.,   365., ...,   365.,  1581.,  3041.],\n",
              "          [12277.,  2000.,    40., ...,    50.,   365.,  5350.],\n",
              "          [ 6850., 15150.,  1000., ...,  2000.,    40.,   365.]],\n",
              "\n",
              "         [[ 3101.,  4351., 16600., ..., 16600.,  2000.,    40.],\n",
              "          [  365.,  3441.,  4661., ...,  8450., 22250.,  2000.],\n",
              "          [   40.,   365.,  3701., ...,  4601.,  4601., 16600.]]]]])"
            ]
          },
          "execution_count": 38,
          "metadata": {},
          "output_type": "execute_result"
        }
      ],
      "source": [
        "np.reshape(lending_co_data_numeric, (1,1,2,3,1043))\n",
        "\n",
        "# We can choose whatever shape we wish as long as the product of the dimensions matches the total number of elements in the array."
      ]
    },
    {
      "cell_type": "code",
      "execution_count": null,
      "metadata": {
        "id": "SU8GD9TptHlH",
        "outputId": "bb2e280c-05b8-4920-f548-5a86b8f3431b"
      },
      "outputs": [
        {
          "data": {
            "text/plain": [
              "array([[ 2000.,    40.,   365.,  3121.,  4241., 13621.],\n",
              "       [ 2000.,    40.,   365.,  3061.,  4171., 15041.],\n",
              "       [ 1000.,    40.,   365.,  2160.,  3280., 15340.],\n",
              "       ...,\n",
              "       [ 2000.,    40.,   365.,  4201.,  5001., 16600.],\n",
              "       [ 1000.,    40.,   365.,  2080.,  3320., 15600.],\n",
              "       [ 2000.,    40.,   365.,  4601.,  4601., 16600.]])"
            ]
          },
          "execution_count": 39,
          "metadata": {},
          "output_type": "execute_result"
        }
      ],
      "source": [
        "lending_co_data_numeric\n",
        "\n",
        "# Reshaping doesn't alter the original array. "
      ]
    },
    {
      "cell_type": "code",
      "execution_count": null,
      "metadata": {
        "id": "Y2UGIqfhtHlH",
        "outputId": "d4d32ada-82b0-417f-b466-aacac7dce4e5"
      },
      "outputs": [
        {
          "data": {
            "text/plain": [
              "array([[ 2000.,    40.,   365., ...,   365.,  1581.,  3041.],\n",
              "       [12277.,  2000.,    40., ...,    50.,   365.,  5350.],\n",
              "       [ 6850., 15150.,  1000., ...,  2000.,    40.,   365.],\n",
              "       [ 3101.,  4351., 16600., ..., 16600.,  2000.,    40.],\n",
              "       [  365.,  3441.,  4661., ...,  8450., 22250.,  2000.],\n",
              "       [   40.,   365.,  3701., ...,  4601.,  4601., 16600.]])"
            ]
          },
          "execution_count": 40,
          "metadata": {},
          "output_type": "execute_result"
        }
      ],
      "source": [
        "lending_co_data_numeric_2 = np.reshape(lending_co_data_numeric, (6,1043))\n",
        "lending_co_data_numeric_2"
      ]
    },
    {
      "cell_type": "code",
      "execution_count": null,
      "metadata": {
        "id": "Q2jHq6MItHlI",
        "outputId": "4a6f53d4-827c-4544-a2da-01ef17fd5367"
      },
      "outputs": [
        {
          "data": {
            "text/plain": [
              "array([[ 2000.,    40.,   365., ...,   365.,  1581.,  3041.],\n",
              "       [12277.,  2000.,    40., ...,    50.,   365.,  5350.],\n",
              "       [ 6850., 15150.,  1000., ...,  2000.,    40.,   365.],\n",
              "       [ 3101.,  4351., 16600., ..., 16600.,  2000.,    40.],\n",
              "       [  365.,  3441.,  4661., ...,  8450., 22250.,  2000.],\n",
              "       [   40.,   365.,  3701., ...,  4601.,  4601., 16600.]])"
            ]
          },
          "execution_count": 41,
          "metadata": {},
          "output_type": "execute_result"
        }
      ],
      "source": [
        "lending_co_data_numeric.reshape(6,1043)\n",
        "\n",
        "# Equivalent method. "
      ]
    },
    {
      "cell_type": "code",
      "execution_count": null,
      "metadata": {
        "scrolled": true,
        "id": "uPmtoXF-tHlI",
        "outputId": "f000df4a-0806-4df9-d765-5fb8192dbb0e"
      },
      "outputs": [
        {
          "data": {
            "text/plain": [
              "array([[ 2000.,    40.,   365.,  3121.,  4241., 13621.],\n",
              "       [ 2000.,    40.,   365.,  3061.,  4171., 15041.],\n",
              "       [ 1000.,    40.,   365.,  2160.,  3280., 15340.],\n",
              "       ...,\n",
              "       [ 2000.,    40.,   365.,  4201.,  5001., 16600.],\n",
              "       [ 1000.,    40.,   365.,  2080.,  3320., 15600.],\n",
              "       [ 2000.,    40.,   365.,  4601.,  4601., 16600.]])"
            ]
          },
          "execution_count": 42,
          "metadata": {},
          "output_type": "execute_result"
        }
      ],
      "source": [
        "lending_co_data_numeric"
      ]
    },
    {
      "cell_type": "markdown",
      "metadata": {
        "id": "XfjD-buatHlJ"
      },
      "source": [
        "## Removing Values"
      ]
    },
    {
      "cell_type": "code",
      "execution_count": null,
      "metadata": {
        "id": "bMk8iopttHlJ"
      },
      "outputs": [],
      "source": [
        "lending_co_data_numeric = np.loadtxt(\"Lending-company-Numeric.csv\", delimiter = ',') "
      ]
    },
    {
      "cell_type": "code",
      "execution_count": null,
      "metadata": {
        "id": "u3eNtZvgtHlJ",
        "outputId": "e6d0dbb9-bfa9-496b-8c00-e93afdb5c4a6"
      },
      "outputs": [
        {
          "data": {
            "text/plain": [
              "array([[ 2000.,    40.,   365.,  3121.,  4241., 13621.],\n",
              "       [ 2000.,    40.,   365.,  3061.,  4171., 15041.],\n",
              "       [ 1000.,    40.,   365.,  2160.,  3280., 15340.],\n",
              "       ...,\n",
              "       [ 2000.,    40.,   365.,  4201.,  5001., 16600.],\n",
              "       [ 1000.,    40.,   365.,  2080.,  3320., 15600.],\n",
              "       [ 2000.,    40.,   365.,  4601.,  4601., 16600.]])"
            ]
          },
          "execution_count": 44,
          "metadata": {},
          "output_type": "execute_result"
        }
      ],
      "source": [
        "lending_co_data_numeric"
      ]
    },
    {
      "cell_type": "code",
      "execution_count": null,
      "metadata": {
        "id": "Hdiq2gi4tHlJ",
        "outputId": "a2ea984f-6e41-428e-99c6-c49908fc5f29"
      },
      "outputs": [
        {
          "data": {
            "text/plain": [
              "(6257,)"
            ]
          },
          "execution_count": 46,
          "metadata": {},
          "output_type": "execute_result"
        }
      ],
      "source": [
        "np.delete(lending_co_data_numeric, 0).shape\n",
        "\n",
        "# Removes the first value of the flattened array. "
      ]
    },
    {
      "cell_type": "code",
      "execution_count": null,
      "metadata": {
        "id": "ukMTq0QCtHlK",
        "outputId": "a25da3da-787b-46c1-bf23-5cc480a31a20"
      },
      "outputs": [
        {
          "data": {
            "text/plain": [
              "6258"
            ]
          },
          "execution_count": 47,
          "metadata": {},
          "output_type": "execute_result"
        }
      ],
      "source": [
        "lending_co_data_numeric.size"
      ]
    },
    {
      "cell_type": "code",
      "execution_count": null,
      "metadata": {
        "id": "g8zExD_otHlK",
        "outputId": "7a5d1557-b8cb-4cc5-96e2-9efc78118473"
      },
      "outputs": [
        {
          "data": {
            "text/plain": [
              "array([[ 2000.,    40.,   365.,  3121.,  4241., 13621.],\n",
              "       [ 2000.,    40.,   365.,  3061.,  4171., 15041.],\n",
              "       [ 1000.,    40.,   365.,  2160.,  3280., 15340.],\n",
              "       ...,\n",
              "       [ 2000.,    40.,   365.,  4201.,  5001., 16600.],\n",
              "       [ 1000.,    40.,   365.,  2080.,  3320., 15600.],\n",
              "       [ 2000.,    40.,   365.,  4601.,  4601., 16600.]])"
            ]
          },
          "execution_count": 48,
          "metadata": {},
          "output_type": "execute_result"
        }
      ],
      "source": [
        "lending_co_data_numeric"
      ]
    },
    {
      "cell_type": "code",
      "execution_count": null,
      "metadata": {
        "id": "3d7quRpwtHlL",
        "outputId": "341ed599-0078-45e7-fd76-ec4f5a66af29"
      },
      "outputs": [
        {
          "data": {
            "text/plain": [
              "array([[   40.,  3121., 13621.],\n",
              "       [   40.,  3061., 15041.],\n",
              "       [   40.,  2160., 15340.],\n",
              "       ...,\n",
              "       [   40.,  4201., 16600.],\n",
              "       [   40.,  2080., 15600.],\n",
              "       [   40.,  4601., 16600.]])"
            ]
          },
          "execution_count": 54,
          "metadata": {},
          "output_type": "execute_result"
        }
      ],
      "source": [
        "np.delete(lending_co_data_numeric, [0,2,4] , axis = 1)\n",
        "\n",
        "# By setting an axis, we can simultaneously delete entire rows or columns. "
      ]
    },
    {
      "cell_type": "code",
      "execution_count": null,
      "metadata": {
        "id": "9moZwvCgtHlL",
        "outputId": "9db5381e-db88-4940-fa33-168431473ec8"
      },
      "outputs": [
        {
          "data": {
            "text/plain": [
              "array([[   40.,  3061., 15041.],\n",
              "       [   40.,  3041., 15321.],\n",
              "       [   50.,  3470., 13720.],\n",
              "       ...,\n",
              "       [   40.,  4240., 16600.],\n",
              "       [   40.,  4201., 16600.],\n",
              "       [   40.,  2080., 15600.]])"
            ]
          },
          "execution_count": 55,
          "metadata": {},
          "output_type": "execute_result"
        }
      ],
      "source": [
        "np.delete(np.delete(lending_co_data_numeric, [0,2,4] , axis = 1), [0,2,-1] , axis = 0)\n",
        "\n",
        "# We can simultaneously delete rows AND columns. "
      ]
    },
    {
      "cell_type": "markdown",
      "metadata": {
        "id": "ZA_O0ZhYtHlL"
      },
      "source": [
        "## Sorting Data"
      ]
    },
    {
      "cell_type": "code",
      "execution_count": null,
      "metadata": {
        "id": "sb2w5M5RtHlM",
        "outputId": "18254fa6-b503-4117-d1b9-303b3320bd78"
      },
      "outputs": [
        {
          "data": {
            "text/plain": [
              "array([[ 2000.,    40.,   365.,  3121.,  4241., 13621.],\n",
              "       [ 2000.,    40.,   365.,  3061.,  4171., 15041.],\n",
              "       [ 1000.,    40.,   365.,  2160.,  3280., 15340.],\n",
              "       ...,\n",
              "       [ 2000.,    40.,   365.,  4201.,  5001., 16600.],\n",
              "       [ 1000.,    40.,   365.,  2080.,  3320., 15600.],\n",
              "       [ 2000.,    40.,   365.,  4601.,  4601., 16600.]])"
            ]
          },
          "execution_count": 56,
          "metadata": {},
          "output_type": "execute_result"
        }
      ],
      "source": [
        "lending_co_data_numeric = np.loadtxt(\"Lending-company-Numeric.csv\", delimiter = ',') \n",
        "lending_co_data_numeric"
      ]
    },
    {
      "cell_type": "code",
      "execution_count": null,
      "metadata": {
        "id": "JNgQreqgtHlM",
        "outputId": "57f8f876-aeac-46b2-aa31-427817086a91"
      },
      "outputs": [
        {
          "data": {
            "text/plain": [
              "(1043, 6)"
            ]
          },
          "execution_count": 58,
          "metadata": {},
          "output_type": "execute_result"
        }
      ],
      "source": [
        "np.sort(lending_co_data_numeric).shape"
      ]
    },
    {
      "cell_type": "code",
      "execution_count": null,
      "metadata": {
        "id": "CsAlFX1etHlN",
        "outputId": "f9855003-adae-4fb2-ca82-a22fd2787825"
      },
      "outputs": [
        {
          "data": {
            "text/plain": [
              "(1043, 6)"
            ]
          },
          "execution_count": 59,
          "metadata": {},
          "output_type": "execute_result"
        }
      ],
      "source": [
        "lending_co_data_numeric.shape"
      ]
    },
    {
      "cell_type": "code",
      "execution_count": null,
      "metadata": {
        "id": "Ch_0HFYftHlN",
        "outputId": "b3a2d563-71f3-4a3a-c5e9-8795d6ee3d27"
      },
      "outputs": [
        {
          "data": {
            "text/plain": [
              "array([-2870., -2870., -2550., ..., 54625., 54625., 64001.])"
            ]
          },
          "execution_count": 63,
          "metadata": {},
          "output_type": "execute_result"
        }
      ],
      "source": [
        "np.sort(lending_co_data_numeric, axis = None)"
      ]
    },
    {
      "cell_type": "code",
      "execution_count": null,
      "metadata": {
        "id": "rwD2K-8OtHlN"
      },
      "outputs": [],
      "source": [
        "np.set_printoptions(suppress = True)\n",
        "\n",
        "# Supresses scientific notatoin when printing. "
      ]
    },
    {
      "cell_type": "code",
      "execution_count": null,
      "metadata": {
        "id": "7cXmpEvctHlO",
        "outputId": "78d3c57f-3219-4b17-a317-c9563d59c38f"
      },
      "outputs": [
        {
          "data": {
            "text/plain": [
              "array([[   40.,   365.,  2000.,  3121.,  4241., 13621.],\n",
              "       [   40.,   365.,  2000.,  3061.,  4171., 15041.],\n",
              "       [   40.,   365.,  1000.,  2160.,  3280., 15340.],\n",
              "       ...,\n",
              "       [   40.,   365.,  2000.,  4201.,  5001., 16600.],\n",
              "       [   40.,   365.,  1000.,  2080.,  3320., 15600.],\n",
              "       [   40.,   365.,  2000.,  4601.,  4601., 16600.]])"
            ]
          },
          "execution_count": 64,
          "metadata": {},
          "output_type": "execute_result"
        }
      ],
      "source": [
        "np.sort(lending_co_data_numeric)"
      ]
    },
    {
      "cell_type": "code",
      "execution_count": null,
      "metadata": {
        "id": "tt88LebmtHlO",
        "outputId": "814b0296-81d5-42d0-8972-667b63dd6135"
      },
      "outputs": [
        {
          "data": {
            "text/plain": [
              "array([[13621.,  4241.,  3121.,  2000.,   365.,    40.],\n",
              "       [15041.,  4171.,  3061.,  2000.,   365.,    40.],\n",
              "       [15340.,  3280.,  2160.,  1000.,   365.,    40.],\n",
              "       ...,\n",
              "       [16600.,  5001.,  4201.,  2000.,   365.,    40.],\n",
              "       [15600.,  3320.,  2080.,  1000.,   365.,    40.],\n",
              "       [16600.,  4601.,  4601.,  2000.,   365.,    40.]])"
            ]
          },
          "execution_count": 71,
          "metadata": {},
          "output_type": "execute_result"
        }
      ],
      "source": [
        "-np.sort(-lending_co_data_numeric)\n",
        "\n",
        "## Adding two minus signs sorts the array in descending order"
      ]
    },
    {
      "cell_type": "code",
      "execution_count": null,
      "metadata": {
        "id": "lrw00WVRtHlO",
        "outputId": "9c6576c5-b062-4fa7-851d-75fbbef8454c"
      },
      "outputs": [
        {
          "data": {
            "text/plain": [
              "array([[ 2000.,    40.,   365.,  3121.,  4241., 13621.],\n",
              "       [ 2000.,    40.,   365.,  3061.,  4171., 15041.],\n",
              "       [ 1000.,    40.,   365.,  2160.,  3280., 15340.],\n",
              "       ...,\n",
              "       [ 2000.,    40.,   365.,  4201.,  5001., 16600.],\n",
              "       [ 1000.,    40.,   365.,  2080.,  3320., 15600.],\n",
              "       [ 2000.,    40.,   365.,  4601.,  4601., 16600.]])"
            ]
          },
          "execution_count": 74,
          "metadata": {},
          "output_type": "execute_result"
        }
      ],
      "source": [
        "lending_co_data_numeric"
      ]
    },
    {
      "cell_type": "code",
      "execution_count": null,
      "metadata": {
        "id": "NIZEnX3wtHlP",
        "outputId": "a2acf05e-8445-4065-e684-dd10ccb64253"
      },
      "outputs": [
        {
          "data": {
            "text/plain": [
              "array([[ 1000.,    35.,   365., -2870., -2870.,  -350.],\n",
              "       [ 1000.,    35.,   365., -2550., -2100.,   150.],\n",
              "       [ 1000.,    35.,   365., -2450., -2000.,  1100.],\n",
              "       ...,\n",
              "       [ 9000.,   125.,   365., 16751., 18751., 54625.],\n",
              "       [ 9000.,   165.,   365., 17650., 20001., 54625.],\n",
              "       [ 9000.,   165.,   365., 19001., 22001., 64001.]])"
            ]
          },
          "execution_count": 77,
          "metadata": {},
          "output_type": "execute_result"
        }
      ],
      "source": [
        "lending_co_data_numeric.sort(axis = 0)\n",
        "lending_co_data_numeric\n",
        "\n",
        "# The equivalent method stores the values in place. "
      ]
    },
    {
      "cell_type": "markdown",
      "metadata": {
        "id": "yLNlMz2JtHlP"
      },
      "source": [
        "## Argument Functions"
      ]
    },
    {
      "cell_type": "markdown",
      "metadata": {
        "id": "gy-0vI59tHlP"
      },
      "source": [
        "### np.argsort()"
      ]
    },
    {
      "cell_type": "code",
      "execution_count": null,
      "metadata": {
        "id": "7coAyC6ItHlQ",
        "outputId": "4d2e7599-5c72-4995-f80c-fc8e90d967ad"
      },
      "outputs": [
        {
          "data": {
            "text/plain": [
              "array([[ 2000.,    40.,   365.,  3121.,  4241., 13621.],\n",
              "       [ 2000.,    40.,   365.,  3061.,  4171., 15041.],\n",
              "       [ 1000.,    40.,   365.,  2160.,  3280., 15340.],\n",
              "       ...,\n",
              "       [ 2000.,    40.,   365.,  4201.,  5001., 16600.],\n",
              "       [ 1000.,    40.,   365.,  2080.,  3320., 15600.],\n",
              "       [ 2000.,    40.,   365.,  4601.,  4601., 16600.]])"
            ]
          },
          "execution_count": 79,
          "metadata": {},
          "output_type": "execute_result"
        }
      ],
      "source": [
        "lending_co_data_numeric = np.loadtxt(\"Lending-company-Numeric.csv\", delimiter = ',') \n",
        "lending_co_data_numeric"
      ]
    },
    {
      "cell_type": "code",
      "execution_count": null,
      "metadata": {
        "id": "dFO1WX8JtHlQ",
        "outputId": "76809274-e772-4124-dae4-14f7cc9a732f"
      },
      "outputs": [
        {
          "data": {
            "text/plain": [
              "array([[1, 2, 0, 3, 4, 5],\n",
              "       [1, 2, 0, 3, 4, 5],\n",
              "       [1, 2, 0, 3, 4, 5],\n",
              "       ...,\n",
              "       [1, 2, 0, 3, 4, 5],\n",
              "       [1, 2, 0, 3, 4, 5],\n",
              "       [1, 2, 0, 3, 4, 5]], dtype=int64)"
            ]
          },
          "execution_count": 80,
          "metadata": {},
          "output_type": "execute_result"
        }
      ],
      "source": [
        "np.argsort(lending_co_data_numeric)\n",
        "\n",
        "# Returns the order which will sort the array. "
      ]
    },
    {
      "cell_type": "code",
      "execution_count": null,
      "metadata": {
        "id": "pLS--qwmtHlQ",
        "outputId": "72b01671-81d2-4def-81fb-cf0392bcb98d"
      },
      "outputs": [
        {
          "data": {
            "text/plain": [
              "array([[ 1000.,    35.,   365., -2870., -2870.,  -350.],\n",
              "       [ 1000.,    35.,   365., -2550., -2100.,   150.],\n",
              "       [ 1000.,    35.,   365., -2450., -2000.,  1100.],\n",
              "       ...,\n",
              "       [ 9000.,   125.,   365., 16751., 18751., 54625.],\n",
              "       [ 9000.,   165.,   365., 17650., 20001., 54625.],\n",
              "       [ 9000.,   165.,   365., 19001., 22001., 64001.]])"
            ]
          },
          "execution_count": 84,
          "metadata": {},
          "output_type": "execute_result"
        }
      ],
      "source": [
        "np.sort(lending_co_data_numeric, axis = 0)"
      ]
    },
    {
      "cell_type": "code",
      "execution_count": null,
      "metadata": {
        "id": "d1Vb6VLGtHlR",
        "outputId": "bc4dd5f1-fdf8-46ca-d22e-07579f7dc01c"
      },
      "outputs": [
        {
          "data": {
            "text/plain": [
              "array([[ 537,  443,    0,   32,   32,  482],\n",
              "       [ 639,  327,  687,  166,  166,  493],\n",
              "       [ 849,  432,  688,   85,   85,  166],\n",
              "       ...,\n",
              "       [  27,  326,  355,  568, 1019,  568],\n",
              "       [ 277,   27,  357,  718, 1033,  534],\n",
              "       [ 420,  408, 1042,  912,  912,   27]], dtype=int64)"
            ]
          },
          "execution_count": 82,
          "metadata": {},
          "output_type": "execute_result"
        }
      ],
      "source": [
        "np.argsort(lending_co_data_numeric, axis = 0)"
      ]
    },
    {
      "cell_type": "code",
      "execution_count": null,
      "metadata": {
        "id": "_VGc6LOWtHlR",
        "outputId": "0ed81ac7-774d-48d7-cd26-8548f006d0ad"
      },
      "outputs": [
        {
          "data": {
            "text/plain": [
              "-350.0"
            ]
          },
          "execution_count": 83,
          "metadata": {},
          "output_type": "execute_result"
        }
      ],
      "source": [
        "lending_co_data_numeric[482,5]"
      ]
    },
    {
      "cell_type": "code",
      "execution_count": null,
      "metadata": {
        "id": "yKrEbMHBtHlS",
        "outputId": "5690aa23-29d0-4bd4-be0e-4529777313c9"
      },
      "outputs": [
        {
          "data": {
            "text/plain": [
              "array([[ 1000.,    40.,   365.,  2200.,  3400., 15600.],\n",
              "       [ 1000.,    40.,   365.,  2200.,  3800., 15600.],\n",
              "       [ 1000.,    40.,   365.,  2000.,  3950., 15600.],\n",
              "       ...,\n",
              "       [ 9000.,   165.,   365., 14501., 16846., 64001.],\n",
              "       [ 9000.,   125.,   365., 12001., 15751., 38626.],\n",
              "       [ 9000.,   125.,   365., 12251., 14251., 25626.]])"
            ]
          },
          "execution_count": 86,
          "metadata": {},
          "output_type": "execute_result"
        }
      ],
      "source": [
        "lending_co_data_numeric = lending_co_data_numeric[np.argsort(lending_co_data_numeric[:,0])]\n",
        "lending_co_data_numeric\n",
        "\n",
        "# Sorts the array based on the values in the 1st column. "
      ]
    },
    {
      "cell_type": "code",
      "execution_count": null,
      "metadata": {
        "id": "9vOgHRI-tHlS",
        "outputId": "50bf452d-7546-4406-f5e0-9ca603716c78"
      },
      "outputs": [
        {
          "data": {
            "text/plain": [
              "array([[   0,   22,    0,  199,  199,  172],\n",
              "       [ 155,   62,  687,   53,   53,  160],\n",
              "       [ 156,   38,  688,  169,  169,   53],\n",
              "       ...,\n",
              "       [1022, 1042,  355, 1024, 1037, 1023],\n",
              "       [1031, 1039,  357,  941, 1029, 1024],\n",
              "       [1042, 1040, 1042, 1027, 1027, 1040]], dtype=int64)"
            ]
          },
          "execution_count": 87,
          "metadata": {},
          "output_type": "execute_result"
        }
      ],
      "source": [
        "lending_co_data_numeric.argsort(axis = 0)\n",
        "\n",
        "# The method doesn't sort in place. "
      ]
    },
    {
      "cell_type": "code",
      "execution_count": null,
      "metadata": {
        "id": "GFdfeCA0tHlT",
        "outputId": "26c5c00a-b2eb-4da5-9cf5-7e986066351b"
      },
      "outputs": [
        {
          "data": {
            "text/plain": [
              "array([[ 1000.,    40.,   365.,  2200.,  3400., 15600.],\n",
              "       [ 1000.,    40.,   365.,  2200.,  3800., 15600.],\n",
              "       [ 1000.,    40.,   365.,  2000.,  3950., 15600.],\n",
              "       ...,\n",
              "       [ 9000.,   165.,   365., 14501., 16846., 64001.],\n",
              "       [ 9000.,   125.,   365., 12001., 15751., 38626.],\n",
              "       [ 9000.,   125.,   365., 12251., 14251., 25626.]])"
            ]
          },
          "execution_count": 88,
          "metadata": {},
          "output_type": "execute_result"
        }
      ],
      "source": [
        "lending_co_data_numeric"
      ]
    },
    {
      "cell_type": "markdown",
      "metadata": {
        "id": "7kzFdwuetHlT"
      },
      "source": [
        "### np.argwhere()"
      ]
    },
    {
      "cell_type": "code",
      "execution_count": null,
      "metadata": {
        "id": "R4WTzCp8tHlU",
        "outputId": "8e05de19-2fed-4185-d21c-0a96cc3d6341"
      },
      "outputs": [
        {
          "data": {
            "text/plain": [
              "array([[ 2000.,    40.,   365.,  3121.,  4241., 13621.],\n",
              "       [ 2000.,    40.,   365.,  3061.,  4171., 15041.],\n",
              "       [ 1000.,    40.,   365.,  2160.,  3280., 15340.],\n",
              "       ...,\n",
              "       [ 2000.,    40.,   365.,  4201.,  5001., 16600.],\n",
              "       [ 1000.,    40.,   365.,  2080.,  3320., 15600.],\n",
              "       [ 2000.,    40.,   365.,  4601.,  4601., 16600.]])"
            ]
          },
          "execution_count": 91,
          "metadata": {},
          "output_type": "execute_result"
        }
      ],
      "source": [
        "lending_co_data_numeric = np.loadtxt(\"Lending-company-Numeric.csv\", delimiter = ',') \n",
        "lending_co_data_numeric"
      ]
    },
    {
      "cell_type": "code",
      "execution_count": null,
      "metadata": {
        "id": "Zx6L7HeNtHlU",
        "outputId": "e4823777-bf4e-4ce6-c9cd-a3c3da1764e8"
      },
      "outputs": [
        {
          "data": {
            "text/plain": [
              "array([[116,   4],\n",
              "       [430,   3]], dtype=int64)"
            ]
          },
          "execution_count": 93,
          "metadata": {},
          "output_type": "execute_result"
        }
      ],
      "source": [
        "np.argwhere(lending_co_data_numeric == False)\n",
        "\n",
        "# Default condition is to return values different from 0. "
      ]
    },
    {
      "cell_type": "code",
      "execution_count": null,
      "metadata": {
        "id": "VNP9DP8ZtHlV",
        "outputId": "76cc291f-c0f1-4688-cc6b-385e645aa685"
      },
      "outputs": [
        {
          "data": {
            "text/plain": [
              "array([1000.,   50.,  365.,    0.,  550., 5650.])"
            ]
          },
          "execution_count": 95,
          "metadata": {},
          "output_type": "execute_result"
        }
      ],
      "source": [
        "lending_co_data_numeric[430]"
      ]
    },
    {
      "cell_type": "code",
      "execution_count": null,
      "metadata": {
        "id": "vMub1fuqtHlV",
        "outputId": "e24b0ab3-52ec-4ecd-b063-72e306eb6f0a"
      },
      "outputs": [
        {
          "data": {
            "text/plain": [
              "array([[ 2000.,    40.,   365.,  3121.,  4241., 13621.],\n",
              "       [ 2000.,    40.,   365.,  3061.,  4171., 15041.],\n",
              "       [ 1000.,    40.,   365.,  2160.,  3280., 15340.],\n",
              "       ...,\n",
              "       [ 2000.,    40.,   365.,  4201.,  5001., 16600.],\n",
              "       [ 1000.,    40.,   365.,  2080.,  3320., 15600.],\n",
              "       [ 2000.,    40.,   365.,  4601.,  4601., 16600.]])"
            ]
          },
          "execution_count": 96,
          "metadata": {},
          "output_type": "execute_result"
        }
      ],
      "source": [
        "lending_co_data_numeric"
      ]
    },
    {
      "cell_type": "code",
      "execution_count": null,
      "metadata": {
        "id": "Ukaw2HjGtHlV",
        "outputId": "099b57d2-893f-4aba-be7c-51b558421b46"
      },
      "outputs": [
        {
          "data": {
            "text/plain": [
              "array([[   0,    0],\n",
              "       [   0,    1],\n",
              "       [   1,    0],\n",
              "       ...,\n",
              "       [1042,    0],\n",
              "       [1042,    1],\n",
              "       [1042,    5]], dtype=int64)"
            ]
          },
          "execution_count": 99,
          "metadata": {},
          "output_type": "execute_result"
        }
      ],
      "source": [
        "np.argwhere(lending_co_data_numeric %2 == 0)\n",
        "\n",
        "# The condition can be more complex "
      ]
    },
    {
      "cell_type": "code",
      "execution_count": null,
      "metadata": {
        "id": "CmwGP821tHlW",
        "outputId": "867b4830-7c5d-4fa8-d53b-8cb6f0225fdf"
      },
      "outputs": [
        {
          "data": {
            "text/plain": [
              "0"
            ]
          },
          "execution_count": 103,
          "metadata": {},
          "output_type": "execute_result"
        }
      ],
      "source": [
        "np.isnan(lending_co_data_numeric).sum()"
      ]
    },
    {
      "cell_type": "code",
      "execution_count": null,
      "metadata": {
        "scrolled": true,
        "id": "VWMDdGdTtHlW",
        "outputId": "8e4ec26e-d23e-412d-c151-2058c026cb78"
      },
      "outputs": [
        {
          "data": {
            "text/plain": [
              "array([[ 2000.,    40.,   365.,  3121.,  4241., 13621.],\n",
              "       [ 2000.,    40.,   365.,  3061.,  4171., 15041.],\n",
              "       [ 1000.,    40.,   365.,  2160.,  3280., 15340.],\n",
              "       ...,\n",
              "       [   nan,    40.,   365.,  4201.,  5001., 16600.],\n",
              "       [ 1000.,    40.,   365.,  2080.,  3320., 15600.],\n",
              "       [ 2000.,    40.,   365.,  4601.,  4601., 16600.]])"
            ]
          },
          "execution_count": 104,
          "metadata": {},
          "output_type": "execute_result"
        }
      ],
      "source": [
        "lending_co_data_numeric_NAN = np.genfromtxt(\"Lending-company-Numeric-NAN.csv\", delimiter = ';') \n",
        "lending_co_data_numeric_NAN"
      ]
    },
    {
      "cell_type": "code",
      "execution_count": null,
      "metadata": {
        "id": "vR0RDJZPtHlW",
        "outputId": "2d34725b-280d-48c4-d090-cace59219332"
      },
      "outputs": [
        {
          "data": {
            "text/plain": [
              "array([[  11,    3],\n",
              "       [  15,    3],\n",
              "       [  27,    3],\n",
              "       [  58,    3],\n",
              "       [  60,    4],\n",
              "       [  85,    4],\n",
              "       [ 117,    5],\n",
              "       [ 152,    1],\n",
              "       [ 152,    2],\n",
              "       [ 152,    4],\n",
              "       [ 172,    1],\n",
              "       [ 175,    1],\n",
              "       [ 175,    2],\n",
              "       [ 176,    3],\n",
              "       [ 177,    4],\n",
              "       [ 178,    5],\n",
              "       [ 211,    3],\n",
              "       [ 229,    0],\n",
              "       [ 230,    1],\n",
              "       [ 237,    1],\n",
              "       [ 247,    3],\n",
              "       [ 251,    5],\n",
              "       [ 252,    4],\n",
              "       [ 258,    1],\n",
              "       [ 260,    3],\n",
              "       [ 262,    4],\n",
              "       [ 271,    5],\n",
              "       [ 272,    4],\n",
              "       [ 284,    2],\n",
              "       [ 284,    3],\n",
              "       [ 297,    1],\n",
              "       [ 297,    2],\n",
              "       [ 300,    3],\n",
              "       [ 315,    3],\n",
              "       [ 315,    5],\n",
              "       [ 327,    4],\n",
              "       [ 336,    4],\n",
              "       [ 343,    0],\n",
              "       [ 344,    2],\n",
              "       [ 346,    2],\n",
              "       [ 363,    3],\n",
              "       [ 375,    3],\n",
              "       [ 377,    2],\n",
              "       [ 398,    5],\n",
              "       [ 416,    4],\n",
              "       [ 428,    0],\n",
              "       [ 432,    1],\n",
              "       [ 433,    3],\n",
              "       [ 434,    2],\n",
              "       [ 440,    3],\n",
              "       [ 441,    1],\n",
              "       [ 446,    2],\n",
              "       [ 455,    1],\n",
              "       [ 456,    2],\n",
              "       [ 458,    2],\n",
              "       [ 461,    3],\n",
              "       [ 467,    4],\n",
              "       [ 468,    0],\n",
              "       [ 469,    3],\n",
              "       [ 470,    0],\n",
              "       [ 481,    1],\n",
              "       [ 482,    3],\n",
              "       [ 484,    4],\n",
              "       [ 489,    0],\n",
              "       [ 493,    5],\n",
              "       [ 499,    0],\n",
              "       [ 504,    3],\n",
              "       [ 506,    1],\n",
              "       [ 517,    4],\n",
              "       [ 518,    0],\n",
              "       [ 521,    2],\n",
              "       [ 530,    5],\n",
              "       [ 532,    3],\n",
              "       [ 534,    5],\n",
              "       [ 547,    3],\n",
              "       [ 549,    5],\n",
              "       [ 553,    5],\n",
              "       [ 554,    5],\n",
              "       [ 559,    3],\n",
              "       [ 566,    0],\n",
              "       [ 566,    1],\n",
              "       [ 566,    2],\n",
              "       [ 567,    0],\n",
              "       [ 567,    1],\n",
              "       [ 567,    2],\n",
              "       [ 581,    1],\n",
              "       [ 581,    2],\n",
              "       [ 582,    1],\n",
              "       [ 582,    2],\n",
              "       [ 583,    1],\n",
              "       [ 583,    2],\n",
              "       [ 593,    3],\n",
              "       [ 594,    3],\n",
              "       [ 595,    3],\n",
              "       [ 596,    3],\n",
              "       [ 609,    4],\n",
              "       [ 609,    5],\n",
              "       [ 610,    4],\n",
              "       [ 610,    5],\n",
              "       [ 611,    4],\n",
              "       [ 611,    5],\n",
              "       [ 612,    4],\n",
              "       [ 612,    5],\n",
              "       [ 623,    2],\n",
              "       [ 623,    3],\n",
              "       [ 624,    2],\n",
              "       [ 624,    3],\n",
              "       [ 625,    2],\n",
              "       [ 625,    3],\n",
              "       [ 626,    2],\n",
              "       [ 626,    3],\n",
              "       [ 627,    2],\n",
              "       [ 627,    3],\n",
              "       [ 636,    0],\n",
              "       [ 637,    0],\n",
              "       [ 637,    4],\n",
              "       [ 637,    5],\n",
              "       [ 638,    0],\n",
              "       [ 638,    4],\n",
              "       [ 638,    5],\n",
              "       [ 639,    4],\n",
              "       [ 639,    5],\n",
              "       [ 640,    4],\n",
              "       [ 640,    5],\n",
              "       [ 641,    4],\n",
              "       [ 641,    5],\n",
              "       [ 653,    1],\n",
              "       [ 653,    2],\n",
              "       [ 653,    3],\n",
              "       [ 653,    4],\n",
              "       [ 654,    1],\n",
              "       [ 654,    2],\n",
              "       [ 654,    3],\n",
              "       [ 654,    4],\n",
              "       [ 655,    1],\n",
              "       [ 655,    2],\n",
              "       [ 655,    3],\n",
              "       [ 655,    4],\n",
              "       [ 685,    2],\n",
              "       [ 686,    0],\n",
              "       [ 701,    4],\n",
              "       [ 704,    2],\n",
              "       [ 724,    1],\n",
              "       [ 724,    2],\n",
              "       [ 730,    1],\n",
              "       [ 730,    2],\n",
              "       [ 730,    3],\n",
              "       [ 731,    1],\n",
              "       [ 731,    2],\n",
              "       [ 731,    3],\n",
              "       [ 732,    1],\n",
              "       [ 732,    2],\n",
              "       [ 732,    3],\n",
              "       [ 733,    1],\n",
              "       [ 733,    2],\n",
              "       [ 733,    3],\n",
              "       [ 742,    4],\n",
              "       [ 747,    3],\n",
              "       [ 755,    1],\n",
              "       [ 758,    1],\n",
              "       [ 760,    1],\n",
              "       [ 764,    0],\n",
              "       [ 764,    1],\n",
              "       [ 764,    2],\n",
              "       [ 764,    3],\n",
              "       [ 764,    4],\n",
              "       [ 764,    5],\n",
              "       [ 765,    3],\n",
              "       [ 775,    1],\n",
              "       [ 775,    2],\n",
              "       [ 775,    3],\n",
              "       [ 776,    1],\n",
              "       [ 776,    2],\n",
              "       [ 776,    3],\n",
              "       [ 777,    1],\n",
              "       [ 777,    2],\n",
              "       [ 777,    3],\n",
              "       [ 778,    1],\n",
              "       [ 778,    2],\n",
              "       [ 778,    3],\n",
              "       [ 787,    4],\n",
              "       [ 788,    1],\n",
              "       [ 790,    2],\n",
              "       [ 794,    3],\n",
              "       [ 795,    5],\n",
              "       [ 796,    1],\n",
              "       [ 796,    4],\n",
              "       [ 800,    0],\n",
              "       [ 801,    1],\n",
              "       [ 802,    1],\n",
              "       [ 803,    2],\n",
              "       [ 805,    0],\n",
              "       [ 809,    0],\n",
              "       [ 810,    0],\n",
              "       [ 811,    0],\n",
              "       [ 812,    1],\n",
              "       [ 820,    0],\n",
              "       [ 820,    3],\n",
              "       [ 820,    4],\n",
              "       [ 822,    2],\n",
              "       [ 823,    2],\n",
              "       [ 825,    0],\n",
              "       [ 830,    1],\n",
              "       [ 830,    2],\n",
              "       [ 836,    3],\n",
              "       [ 837,    3],\n",
              "       [ 838,    3],\n",
              "       [ 839,    4],\n",
              "       [ 843,    2],\n",
              "       [ 856,    0],\n",
              "       [ 856,    1],\n",
              "       [ 856,    3],\n",
              "       [ 856,    4],\n",
              "       [ 856,    5],\n",
              "       [ 857,    0],\n",
              "       [ 858,    1],\n",
              "       [ 870,    0],\n",
              "       [ 870,    2],\n",
              "       [ 870,    3],\n",
              "       [ 872,    0],\n",
              "       [ 873,    0],\n",
              "       [ 874,    1],\n",
              "       [ 890,    1],\n",
              "       [ 890,    2],\n",
              "       [ 890,    3],\n",
              "       [ 909,    1],\n",
              "       [ 910,    0],\n",
              "       [ 912,    0],\n",
              "       [ 912,    2],\n",
              "       [ 912,    3],\n",
              "       [ 912,    4],\n",
              "       [ 928,    1],\n",
              "       [ 928,    2],\n",
              "       [ 928,    3],\n",
              "       [ 929,    1],\n",
              "       [ 929,    2],\n",
              "       [ 929,    3],\n",
              "       [ 930,    3],\n",
              "       [ 958,    2],\n",
              "       [ 959,    3],\n",
              "       [ 960,    3],\n",
              "       [1024,    0],\n",
              "       [1024,    2],\n",
              "       [1026,    2],\n",
              "       [1026,    4],\n",
              "       [1028,    0],\n",
              "       [1028,    3],\n",
              "       [1028,    4],\n",
              "       [1029,    0],\n",
              "       [1030,    1],\n",
              "       [1030,    5],\n",
              "       [1032,    0],\n",
              "       [1032,    5],\n",
              "       [1034,    3],\n",
              "       [1035,    4],\n",
              "       [1036,    2],\n",
              "       [1037,    1],\n",
              "       [1038,    4],\n",
              "       [1039,    3],\n",
              "       [1040,    0]], dtype=int64)"
            ]
          },
          "execution_count": 107,
          "metadata": {},
          "output_type": "execute_result"
        }
      ],
      "source": [
        "np.argwhere(np.isnan(lending_co_data_numeric_NAN))\n",
        "\n",
        "# Returns the coordinates of all the missing values within the array. "
      ]
    },
    {
      "cell_type": "code",
      "execution_count": null,
      "metadata": {
        "id": "ptXXPXkOtHlX",
        "outputId": "5bfeae80-f4b2-4097-af09-5c3fef3b77c2"
      },
      "outputs": [
        {
          "data": {
            "text/plain": [
              "array([ 2000.,    nan,    nan,  1851.,  3051., 13561.])"
            ]
          },
          "execution_count": 110,
          "metadata": {},
          "output_type": "execute_result"
        }
      ],
      "source": [
        "lending_co_data_numeric_NAN[175]"
      ]
    },
    {
      "cell_type": "code",
      "execution_count": null,
      "metadata": {
        "id": "8TwSlSqptHlX"
      },
      "outputs": [],
      "source": [
        "for array_index in np.argwhere(np.isnan(lending_co_data_numeric_NAN)):\n",
        "    lending_co_data_numeric_NAN[array_index[0], array_index[1]] = 0\n",
        "\n",
        "## By going through the coordinates of all the mising values of the array, we can fill them up. "
      ]
    },
    {
      "cell_type": "code",
      "execution_count": null,
      "metadata": {
        "id": "jG0A9ZBNtHlX",
        "outputId": "9da30ae8-bcdd-4d10-865d-96588dc95042"
      },
      "outputs": [
        {
          "data": {
            "text/plain": [
              "array([ 2000.,     0.,     0.,  1851.,  3051., 13561.])"
            ]
          },
          "execution_count": 113,
          "metadata": {},
          "output_type": "execute_result"
        }
      ],
      "source": [
        "lending_co_data_numeric_NAN[175]"
      ]
    },
    {
      "cell_type": "code",
      "execution_count": null,
      "metadata": {
        "id": "hd5DDclhtHlY",
        "outputId": "2d23f135-dd8c-481d-e0ca-ec44d6d81eb2"
      },
      "outputs": [
        {
          "data": {
            "text/plain": [
              "0"
            ]
          },
          "execution_count": 114,
          "metadata": {},
          "output_type": "execute_result"
        }
      ],
      "source": [
        "np.isnan(lending_co_data_numeric_NAN).sum()"
      ]
    },
    {
      "cell_type": "markdown",
      "metadata": {
        "id": "VSI8-B-mtHlY"
      },
      "source": [
        "## Shuffling Data"
      ]
    },
    {
      "cell_type": "code",
      "execution_count": null,
      "metadata": {
        "id": "QxWUZTUrtHlY",
        "outputId": "a25343b9-3651-4dad-83c4-f27b02302384"
      },
      "outputs": [
        {
          "data": {
            "text/plain": [
              "array([[ 2000.,    40.,   365.,  3121.,  4241., 13621.],\n",
              "       [ 2000.,    40.,   365.,  3061.,  4171., 15041.],\n",
              "       [ 1000.,    40.,   365.,  2160.,  3280., 15340.],\n",
              "       [ 2000.,    40.,   365.,  3041.,  4241., 15321.],\n",
              "       [ 2000.,    50.,   365.,  3470.,  4820., 13720.],\n",
              "       [ 2000.,    40.,   365.,  3201.,  4141., 14141.],\n",
              "       [ 2000.,    50.,   365.,  1851.,  3251., 17701.],\n",
              "       [ 2000.,    40.,   365.,  3971.,  4131., 15351.]])"
            ]
          },
          "execution_count": 115,
          "metadata": {},
          "output_type": "execute_result"
        }
      ],
      "source": [
        "lending_co_data_numeric = np.loadtxt(\"Lending-company-Numeric.csv\", delimiter = ',')[:8]\n",
        "lending_co_data_numeric\n",
        "\n",
        "# We can directly index the output of the np.loadtxt() function to only take certain parts of the dataset. "
      ]
    },
    {
      "cell_type": "code",
      "execution_count": null,
      "metadata": {
        "id": "NPSEAAvktHlZ"
      },
      "outputs": [],
      "source": [
        "np.random.shuffle(lending_co_data_numeric)\n",
        "\n",
        "# Shuffles the array (and automatically overwrites it)."
      ]
    },
    {
      "cell_type": "code",
      "execution_count": null,
      "metadata": {
        "scrolled": true,
        "id": "EiejuIUWtHlZ",
        "outputId": "205666e3-f5e6-4da8-88ed-06bf7e8ebc34"
      },
      "outputs": [
        {
          "data": {
            "text/plain": [
              "array([[ 2000.,    40.,   365.,  3121.,  4241., 13621.],\n",
              "       [ 2000.,    50.,   365.,  3470.,  4820., 13720.],\n",
              "       [ 2000.,    40.,   365.,  3061.,  4171., 15041.],\n",
              "       [ 2000.,    40.,   365.,  3971.,  4131., 15351.],\n",
              "       [ 2000.,    50.,   365.,  1851.,  3251., 17701.],\n",
              "       [ 2000.,    40.,   365.,  3041.,  4241., 15321.],\n",
              "       [ 2000.,    40.,   365.,  3201.,  4141., 14141.],\n",
              "       [ 1000.,    40.,   365.,  2160.,  3280., 15340.]])"
            ]
          },
          "execution_count": 117,
          "metadata": {},
          "output_type": "execute_result"
        }
      ],
      "source": [
        "lending_co_data_numeric"
      ]
    },
    {
      "cell_type": "code",
      "execution_count": null,
      "metadata": {
        "id": "zp9RVxpqtHlZ",
        "outputId": "bdb2793a-7854-4ce1-fe8f-d91e148772c8"
      },
      "outputs": [
        {
          "data": {
            "text/plain": [
              "array([[ 2000.,    40.,   365.,  3061.,  4171., 15041.],\n",
              "       [ 1000.,    40.,   365.,  2160.,  3280., 15340.],\n",
              "       [ 2000.,    40.,   365.,  3121.,  4241., 13621.],\n",
              "       [ 2000.,    50.,   365.,  1851.,  3251., 17701.],\n",
              "       [ 2000.,    40.,   365.,  3971.,  4131., 15351.],\n",
              "       [ 2000.,    50.,   365.,  3470.,  4820., 13720.],\n",
              "       [ 2000.,    40.,   365.,  3201.,  4141., 14141.],\n",
              "       [ 2000.,    40.,   365.,  3041.,  4241., 15321.]])"
            ]
          },
          "execution_count": 122,
          "metadata": {},
          "output_type": "execute_result"
        }
      ],
      "source": [
        "np.random.shuffle(lending_co_data_numeric)\n",
        "lending_co_data_numeric\n",
        "\n",
        "# We can shuffle the array as many times as we wish (although 1 usually suffices)."
      ]
    },
    {
      "cell_type": "code",
      "execution_count": null,
      "metadata": {
        "id": "5cCjZCqwtHla",
        "outputId": "ccac5ff1-977b-40e6-bd09-753a41349789"
      },
      "outputs": [
        {
          "data": {
            "text/plain": [
              "array([[ 2000.,    40.,   365.,  3121.,  4241., 13621.],\n",
              "       [ 2000.,    40.,   365.,  3061.,  4171., 15041.],\n",
              "       [ 1000.,    40.,   365.,  2160.,  3280., 15340.],\n",
              "       ...,\n",
              "       [ 2000.,    40.,   365.,  4201.,  5001., 16600.],\n",
              "       [ 1000.,    40.,   365.,  2080.,  3320., 15600.],\n",
              "       [ 2000.,    40.,   365.,  4601.,  4601., 16600.]])"
            ]
          },
          "execution_count": 123,
          "metadata": {},
          "output_type": "execute_result"
        }
      ],
      "source": [
        "lending_co_data_numeric = np.loadtxt(\"Lending-company-Numeric.csv\", delimiter = ',')\n",
        "lending_co_data_numeric\n",
        "\n",
        "# We can now use the entire dataset. "
      ]
    },
    {
      "cell_type": "code",
      "execution_count": null,
      "metadata": {
        "id": "6wMW6ruLtHla"
      },
      "outputs": [],
      "source": [
        "from numpy.random import shuffle\n",
        "\n",
        "# We can import functions we use multiple times for convenience. "
      ]
    },
    {
      "cell_type": "code",
      "execution_count": null,
      "metadata": {
        "scrolled": true,
        "id": "RaUPHw0WtHla",
        "outputId": "23cc7d1f-61a0-4756-f86b-ba917b3b25f8"
      },
      "outputs": [
        {
          "data": {
            "text/plain": [
              "array([[ 1000.,    40.,   365.,  4600.,  7310., 15600.],\n",
              "       [ 1000.,    40.,   365.,  3000.,  3950., 14900.],\n",
              "       [ 4000.,    50.,   365.,  5400.,  6350., 20770.],\n",
              "       ...,\n",
              "       [ 1000.,    40.,   365.,  2680.,  3680., 15600.],\n",
              "       [ 2000.,    50.,   365.,  8751.,  8751., 20250.],\n",
              "       [ 4000.,    50.,   365.,  6200.,  6750., 22250.]])"
            ]
          },
          "execution_count": 129,
          "metadata": {},
          "output_type": "execute_result"
        }
      ],
      "source": [
        "shuffle(lending_co_data_numeric)\n",
        "lending_co_data_numeric\n",
        "\n",
        "# We write shuffle() instead of numpy.random.shuffle() since we imported the function earlier. "
      ]
    },
    {
      "cell_type": "code",
      "execution_count": null,
      "metadata": {
        "id": "bSw92HJGtHlb"
      },
      "outputs": [],
      "source": [
        "from numpy.random import Generator as gen\n",
        "from numpy.random import PCG64 as pcg\n",
        "\n",
        "# Random generators can be used for shuffling. "
      ]
    },
    {
      "cell_type": "code",
      "execution_count": null,
      "metadata": {
        "id": "WSqTuVGDtHlb",
        "outputId": "a3e9ef1b-e198-48c8-e949-fc0b4994186c"
      },
      "outputs": [
        {
          "data": {
            "text/plain": [
              "array([[ 2000.,    50.,   365.,  3150.,  4450., 16995.],\n",
              "       [ 2000.,    40.,   365.,  3701.,  5201., 16151.],\n",
              "       [ 4000.,    50.,   365.,  5500.,  7150., 22250.],\n",
              "       ...,\n",
              "       [ 2000.,    40.,   365.,  4900.,  4900., 16600.],\n",
              "       [ 2000.,    40.,   365.,  3940.,  4940., 16600.],\n",
              "       [ 2000.,    40.,   365.,  3401.,  3401., 12921.]])"
            ]
          },
          "execution_count": 137,
          "metadata": {},
          "output_type": "execute_result"
        }
      ],
      "source": [
        "array_RG = gen(pcg(seed = 365))\n",
        "array_RG.shuffle(lending_co_data_numeric)\n",
        "lending_co_data_numeric\n",
        "\n",
        "# Seeds don't work for shuffling (and it's intended)."
      ]
    },
    {
      "cell_type": "markdown",
      "metadata": {
        "id": "WGFxyo2ItHlb"
      },
      "source": [
        "## Casting"
      ]
    },
    {
      "cell_type": "code",
      "execution_count": null,
      "metadata": {
        "id": "OOpGwMpBtHlc",
        "outputId": "d763b64d-e40b-451e-af38-9d458c0d3ff4"
      },
      "outputs": [
        {
          "data": {
            "text/plain": [
              "array([[ 2000.,    40.,   365.,  3121.,  4241., 13621.],\n",
              "       [ 2000.,    40.,   365.,  3061.,  4171., 15041.],\n",
              "       [ 1000.,    40.,   365.,  2160.,  3280., 15340.],\n",
              "       ...,\n",
              "       [ 2000.,    40.,   365.,  4201.,  5001., 16600.],\n",
              "       [ 1000.,    40.,   365.,  2080.,  3320., 15600.],\n",
              "       [ 2000.,    40.,   365.,  4601.,  4601., 16600.]])"
            ]
          },
          "execution_count": 138,
          "metadata": {},
          "output_type": "execute_result"
        }
      ],
      "source": [
        "lending_co_data_numeric = np.loadtxt(\"Lending-company-Numeric.csv\", delimiter = ',') \n",
        "lending_co_data_numeric"
      ]
    },
    {
      "cell_type": "code",
      "execution_count": null,
      "metadata": {
        "id": "F_bO2sgatHlc",
        "outputId": "924473b3-1e0e-4af5-a085-0da2432e17b2"
      },
      "outputs": [
        {
          "data": {
            "text/plain": [
              "array([[ 2000,    40,   365,  3121,  4241, 13621],\n",
              "       [ 2000,    40,   365,  3061,  4171, 15041],\n",
              "       [ 1000,    40,   365,  2160,  3280, 15340],\n",
              "       ...,\n",
              "       [ 2000,    40,   365,  4201,  5001, 16600],\n",
              "       [ 1000,    40,   365,  2080,  3320, 15600],\n",
              "       [ 2000,    40,   365,  4601,  4601, 16600]])"
            ]
          },
          "execution_count": 139,
          "metadata": {},
          "output_type": "execute_result"
        }
      ],
      "source": [
        "lending_co_data_numeric.astype(dtype = np.int32)\n",
        "\n",
        "# Creates an integer version of the array. "
      ]
    },
    {
      "cell_type": "code",
      "execution_count": null,
      "metadata": {
        "id": "KuNuO7ogtHld"
      },
      "outputs": [],
      "source": [
        "lending_co_data_numeric = lending_co_data_numeric.astype(dtype = np.str)\n",
        "\n",
        "# We need to overwrite the variable in order to work with strings. "
      ]
    },
    {
      "cell_type": "code",
      "execution_count": null,
      "metadata": {
        "id": "uAWkr3BEtHld",
        "outputId": "04bfffab-d823-4483-ca48-866d1e49705e"
      },
      "outputs": [
        {
          "data": {
            "text/plain": [
              "array([['2000.0', '40.0', '365.0', '3121.0', '4241.0', '13621.0'],\n",
              "       ['2000.0', '40.0', '365.0', '3061.0', '4171.0', '15041.0'],\n",
              "       ['1000.0', '40.0', '365.0', '2160.0', '3280.0', '15340.0'],\n",
              "       ...,\n",
              "       ['2000.0', '40.0', '365.0', '4201.0', '5001.0', '16600.0'],\n",
              "       ['1000.0', '40.0', '365.0', '2080.0', '3320.0', '15600.0'],\n",
              "       ['2000.0', '40.0', '365.0', '4601.0', '4601.0', '16600.0']],\n",
              "      dtype='<U32')"
            ]
          },
          "execution_count": 142,
          "metadata": {},
          "output_type": "execute_result"
        }
      ],
      "source": [
        "lending_co_data_numeric"
      ]
    },
    {
      "cell_type": "code",
      "execution_count": null,
      "metadata": {
        "id": "k3lOhE-utHle",
        "outputId": "f4abf9b6-d1c9-486b-b8a6-aa325f4b5d9e"
      },
      "outputs": [
        {
          "data": {
            "text/plain": [
              "numpy.ndarray"
            ]
          },
          "execution_count": 143,
          "metadata": {},
          "output_type": "execute_result"
        }
      ],
      "source": [
        "type(lending_co_data_numeric)"
      ]
    },
    {
      "cell_type": "code",
      "execution_count": null,
      "metadata": {
        "id": "b_1qQjUMtHle",
        "outputId": "32d17861-f4dc-4ca9-e2e4-23ca5be931b9"
      },
      "outputs": [
        {
          "data": {
            "text/plain": [
              "array([[ 2000,    40,   365,  3121,  4241, 13621],\n",
              "       [ 2000,    40,   365,  3061,  4171, 15041],\n",
              "       [ 1000,    40,   365,  2160,  3280, 15340],\n",
              "       ...,\n",
              "       [ 2000,    40,   365,  4201,  5001, 16600],\n",
              "       [ 1000,    40,   365,  2080,  3320, 15600],\n",
              "       [ 2000,    40,   365,  4601,  4601, 16600]])"
            ]
          },
          "execution_count": 146,
          "metadata": {},
          "output_type": "execute_result"
        }
      ],
      "source": [
        "lending_co_data_numeric = lending_co_data_numeric.astype(dtype = np.float32)\n",
        "lending_co_data_numeric.astype(dtype = np.int32)\n",
        "\n",
        "## We can't directly cast strings to integers. We can go through floats (string -> float -> integer)."
      ]
    },
    {
      "cell_type": "code",
      "execution_count": null,
      "metadata": {
        "id": "-h7pS8LXtHle",
        "outputId": "96ebdf4c-0cdd-4dea-a650-e0c0ea73bc21"
      },
      "outputs": [
        {
          "data": {
            "text/plain": [
              "array([['2000.0', '40.0', '365.0', '3121.0', '4241.0', '13621.0'],\n",
              "       ['2000.0', '40.0', '365.0', '3061.0', '4171.0', '15041.0'],\n",
              "       ['1000.0', '40.0', '365.0', '2160.0', '3280.0', '15340.0'],\n",
              "       ...,\n",
              "       ['2000.0', '40.0', '365.0', '4201.0', '5001.0', '16600.0'],\n",
              "       ['1000.0', '40.0', '365.0', '2080.0', '3320.0', '15600.0'],\n",
              "       ['2000.0', '40.0', '365.0', '4601.0', '4601.0', '16600.0']],\n",
              "      dtype='<U32')"
            ]
          },
          "execution_count": 147,
          "metadata": {},
          "output_type": "execute_result"
        }
      ],
      "source": [
        "lending_co_data_numeric = np.loadtxt(\"Lending-company-Numeric.csv\", delimiter = ',')\n",
        "lending_co_data_numeric = lending_co_data_numeric.astype(dtype = np.str)\n",
        "lending_co_data_numeric\n",
        "\n",
        "# To showcase the other way to go from strings to integers, we need to get the strings version of the array once again. "
      ]
    },
    {
      "cell_type": "code",
      "execution_count": null,
      "metadata": {
        "id": "IBKzY0UGtHlf",
        "outputId": "6cee6c3d-db2b-4341-cc3a-b58617fbceb5"
      },
      "outputs": [
        {
          "data": {
            "text/plain": [
              "array([['2000.0', '40.0', '365.0', '3121.0', '4241.0', '13621.0'],\n",
              "       ['2000.0', '40.0', '365.0', '3061.0', '4171.0', '15041.0'],\n",
              "       ['1000.0', '40.0', '365.0', '2160.0', '3280.0', '15340.0'],\n",
              "       ...,\n",
              "       ['2000.0', '40.0', '365.0', '4201.0', '5001.0', '16600.0'],\n",
              "       ['1000.0', '40.0', '365.0', '2080.0', '3320.0', '15600.0'],\n",
              "       ['2000.0', '40.0', '365.0', '4601.0', '4601.0', '16600.0']],\n",
              "      dtype='<U32')"
            ]
          },
          "execution_count": 149,
          "metadata": {},
          "output_type": "execute_result"
        }
      ],
      "source": [
        "lending_co_data_numeric.astype(dtype = np.float32).astype(dtype = np.int32)\n",
        "lending_co_data_numeric\n",
        "\n",
        "## We can chain methods in NumPy."
      ]
    },
    {
      "cell_type": "markdown",
      "metadata": {
        "id": "6ZRb2fZ4tHlf"
      },
      "source": [
        "## Stripping Data"
      ]
    },
    {
      "cell_type": "code",
      "execution_count": null,
      "metadata": {
        "id": "prU46SjvtHlf",
        "outputId": "ddf4b82e-c17e-4551-bff1-950a7e0b35fc"
      },
      "outputs": [
        {
          "data": {
            "text/plain": [
              "array([['id_1', 'Product B', 'Location 2'],\n",
              "       ['id_2', 'Product B', 'Location 3'],\n",
              "       ['id_3', 'Product C', 'Location 5'],\n",
              "       ...,\n",
              "       ['id_413', 'Product B', 'Location 135'],\n",
              "       ['id_414', 'Product C', 'Location 200'],\n",
              "       ['id_415', 'Product A', 'Location 8']], dtype='<U12')"
            ]
          },
          "execution_count": 150,
          "metadata": {},
          "output_type": "execute_result"
        }
      ],
      "source": [
        "lending_co_total_price = np.genfromtxt(\"Lending-Company-Total-Price.csv\",\n",
        "                                       delimiter = ',',\n",
        "                                       dtype = np.str,\n",
        "                                       skip_header = 1, \n",
        "                                       usecols = [1,2,4])\n",
        "lending_co_total_price\n",
        "\n",
        "# We don't neeed the entire array. We only want a few columns to showcase how stripping data works."
      ]
    },
    {
      "cell_type": "code",
      "execution_count": null,
      "metadata": {
        "id": "LGwzH33HtHlg",
        "outputId": "1c55ed78-2b3a-4f4b-c66b-824b98cff52f"
      },
      "outputs": [
        {
          "data": {
            "text/plain": [
              "array([['1', 'B', '2'],\n",
              "       ['2', 'B', '3'],\n",
              "       ['3', 'C', '5'],\n",
              "       ...,\n",
              "       ['413', 'B', '135'],\n",
              "       ['414', 'C', '200'],\n",
              "       ['415', 'A', '8']], dtype='<U12')"
            ]
          },
          "execution_count": 157,
          "metadata": {},
          "output_type": "execute_result"
        }
      ],
      "source": [
        "lending_co_total_price[:,0] = np.chararray.strip(lending_co_total_price[:,0], \"id_\")\n",
        "lending_co_total_price[:,1] = np.chararray.strip(lending_co_total_price[:,1], \"Product \")\n",
        "lending_co_total_price[:,2] = np.chararray.strip(lending_co_total_price[:,2], \"Location \")\n",
        "lending_co_total_price\n",
        "\n",
        "# Remove \"id_\" from the 1st column, as well as \"Product \" from the second and \"Location \" from the third one. "
      ]
    },
    {
      "cell_type": "code",
      "execution_count": null,
      "metadata": {
        "id": "Zs8L-TfytHlg",
        "outputId": "00ee6720-2b15-4779-ba6c-56f30146d596"
      },
      "outputs": [
        {
          "data": {
            "text/plain": [
              "array([['1', '2', '2'],\n",
              "       ['2', '2', '3'],\n",
              "       ['3', '3', '5'],\n",
              "       ...,\n",
              "       ['413', '2', '135'],\n",
              "       ['414', '3', '200'],\n",
              "       ['415', '1', '8']], dtype='<U12')"
            ]
          },
          "execution_count": 158,
          "metadata": {},
          "output_type": "execute_result"
        }
      ],
      "source": [
        "lending_co_total_price[:,1] = np.where(lending_co_total_price[:,1] == 'A', 1, lending_co_total_price[:,1]) \n",
        "lending_co_total_price[:,1] = np.where(lending_co_total_price[:,1] == 'B', 2, lending_co_total_price[:,1]) \n",
        "lending_co_total_price[:,1] = np.where(lending_co_total_price[:,1] == 'C', 3, lending_co_total_price[:,1]) \n",
        "lending_co_total_price[:,1] = np.where(lending_co_total_price[:,1] == 'D', 4, lending_co_total_price[:,1]) \n",
        "lending_co_total_price[:,1] = np.where(lending_co_total_price[:,1] == 'E', 5, lending_co_total_price[:,1]) \n",
        "lending_co_total_price[:,1] = np.where(lending_co_total_price[:,1] == 'F', 6, lending_co_total_price[:,1]) \n",
        "\n",
        "lending_co_total_price\n",
        "\n",
        "# We can combine stripping with substituting to transform all the letters in numbers. "
      ]
    },
    {
      "cell_type": "code",
      "execution_count": null,
      "metadata": {
        "id": "joLJPBVftHlg",
        "outputId": "99d1953e-8dd9-4294-8547-cd52c85178ef"
      },
      "outputs": [
        {
          "data": {
            "text/plain": [
              "array([[  1,   2,   2],\n",
              "       [  2,   2,   3],\n",
              "       [  3,   3,   5],\n",
              "       ...,\n",
              "       [413,   2, 135],\n",
              "       [414,   3, 200],\n",
              "       [415,   1,   8]])"
            ]
          },
          "execution_count": 159,
          "metadata": {},
          "output_type": "execute_result"
        }
      ],
      "source": [
        "lending_co_total_price = lending_co_total_price.astype(dtype = np.int32)\n",
        "lending_co_total_price\n",
        "\n",
        "# Even though the values look like numbers, they're actually just text, so we need to cast them once again. "
      ]
    },
    {
      "cell_type": "markdown",
      "metadata": {
        "id": "IP4rW4w0tHlh"
      },
      "source": [
        "## Stacking"
      ]
    },
    {
      "cell_type": "code",
      "execution_count": null,
      "metadata": {
        "scrolled": true,
        "id": "QyPHWAmhtHlh",
        "outputId": "d2d6402e-7143-4116-952f-ce55baac42bb"
      },
      "outputs": [
        {
          "data": {
            "text/plain": [
              "array([[ 2000.,    40.,   365.,  3121.,  4241., 13621.],\n",
              "       [ 2000.,    40.,   365.,  3061.,  4171., 15041.],\n",
              "       [ 1000.,    40.,   365.,  2160.,  3280., 15340.],\n",
              "       ...,\n",
              "       [ 2000.,    40.,   365.,  4201.,  5001., 16600.],\n",
              "       [ 1000.,    40.,   365.,  2080.,  3320., 15600.],\n",
              "       [ 2000.,    40.,   365.,  4601.,  4601., 16600.]])"
            ]
          },
          "execution_count": 160,
          "metadata": {},
          "output_type": "execute_result"
        }
      ],
      "source": [
        "lending_co_data_numeric = np.loadtxt(\"Lending-company-Numeric.csv\", delimiter = ',') \n",
        "lending_co_data_numeric"
      ]
    },
    {
      "cell_type": "code",
      "execution_count": null,
      "metadata": {
        "id": "y-5sZbVUtHlh",
        "outputId": "9e9b8973-dddb-4ba7-9c6e-3d245bd506d0"
      },
      "outputs": [
        {
          "data": {
            "text/plain": [
              "array([[ 2000.  ,    40.  ,   365.  ,  3121.  ,  4241.  , 13621.  ],\n",
              "       [ 2000.  ,    40.  ,   365.  ,  3061.  ,  4171.  , 15041.  ],\n",
              "       [ 1000.  ,    40.  ,   365.  ,  2160.  ,  3280.  , 15340.  ],\n",
              "       ...,\n",
              "       [ 2250.25,    40.  ,   365.  ,  4201.  ,  5001.  , 16600.  ],\n",
              "       [ 1000.  ,    40.  ,   365.  ,  2080.  ,  3320.  , 15600.  ],\n",
              "       [ 2000.  ,    40.  ,   365.  ,  4601.  ,  4601.  , 16600.  ]])"
            ]
          },
          "execution_count": 161,
          "metadata": {},
          "output_type": "execute_result"
        }
      ],
      "source": [
        "# Recall\n",
        "\n",
        "lending_co_data_numeric_NAN = np.genfromtxt(\"Lending-company-Numeric-NAN.csv\", delimiter = ';')\n",
        "\n",
        "temporary_fill = np.nanmax(lending_co_data_numeric_NAN).round(2) + 1\n",
        "temporary_mean = np.nanmean(lending_co_data_numeric_NAN, axis = 0).round(2)\n",
        "\n",
        "lending_co_data_numeric_NAN = np.genfromtxt(\"Lending-company-Numeric-NAN.csv\", \n",
        "                                            delimiter = ';', \n",
        "                                            filling_values = temporary_fill)\n",
        "\n",
        "for i in range(lending_co_data_numeric_NAN.shape[1]):\n",
        "    lending_co_data_numeric_NAN[:,i] = np.where(lending_co_data_numeric_NAN[:,i] == temporary_fill,\n",
        "                                                temporary_mean[i],\n",
        "                                                lending_co_data_numeric_NAN[:,i])\n",
        "lending_co_data_numeric_NAN\n",
        "\n",
        "\n",
        "## We create a filler, reimport and fill all the nan-s, then subsitute all the temporary fillers with more appropriate values"
      ]
    },
    {
      "cell_type": "code",
      "execution_count": null,
      "metadata": {
        "id": "jMylosiCtHli",
        "outputId": "b0fae6d2-698c-45ca-f950-9022a158dad9"
      },
      "outputs": [
        {
          "data": {
            "text/plain": [
              "array([[  40.,   40.,   40., ...,   40.,   40.,   40.],\n",
              "       [2000., 2000., 1000., ..., 2000., 1000., 2000.]])"
            ]
          },
          "execution_count": 166,
          "metadata": {},
          "output_type": "execute_result"
        }
      ],
      "source": [
        "np.stack((lending_co_data_numeric[:,1],lending_co_data_numeric[:,0]))\n",
        "\n",
        "# Stacking the first 2 columns. (We can stack them in any order we like)"
      ]
    },
    {
      "cell_type": "code",
      "execution_count": null,
      "metadata": {
        "id": "LJSUcPz0tHli",
        "outputId": "3bb5294c-a4c7-447b-c388-aa93c64f5af5"
      },
      "outputs": [
        {
          "data": {
            "text/plain": [
              "array([[2000., 2000., 1000., ..., 2000., 1000., 2000.],\n",
              "       [  40.,   40.,   40., ...,   40.,   40.,   40.]])"
            ]
          },
          "execution_count": 165,
          "metadata": {},
          "output_type": "execute_result"
        }
      ],
      "source": [
        "np.transpose(lending_co_data_numeric[:,:2])"
      ]
    },
    {
      "cell_type": "code",
      "execution_count": null,
      "metadata": {
        "id": "WRWIIhgctHli",
        "outputId": "222bb523-8507-4b08-ae27-50551512bc92"
      },
      "outputs": [
        {
          "data": {
            "text/plain": [
              "array([[2000.,   40.,  365.],\n",
              "       [2000.,   40.,  365.],\n",
              "       [1000.,   40.,  365.],\n",
              "       ...,\n",
              "       [2000.,   40.,  365.],\n",
              "       [1000.,   40.,  365.],\n",
              "       [2000.,   40.,  365.]])"
            ]
          },
          "execution_count": 170,
          "metadata": {},
          "output_type": "execute_result"
        }
      ],
      "source": [
        "np.stack((lending_co_data_numeric[:,0],lending_co_data_numeric[:,1], lending_co_data_numeric[:,2]), axis = 1)\n",
        "\n",
        "# We can stack more than 2 arrays. "
      ]
    },
    {
      "cell_type": "code",
      "execution_count": null,
      "metadata": {
        "id": "-b9dAOlvtHlp",
        "outputId": "babe7e7d-e5db-4b99-8809-d73390fc2223"
      },
      "outputs": [
        {
          "data": {
            "text/plain": [
              "(1043, 6)"
            ]
          },
          "execution_count": 173,
          "metadata": {},
          "output_type": "execute_result"
        }
      ],
      "source": [
        "lending_co_data_numeric_NAN.shape"
      ]
    },
    {
      "cell_type": "code",
      "execution_count": null,
      "metadata": {
        "id": "9myCVTNZtHlp",
        "outputId": "d233bee6-bb35-465d-cb6e-cb5124218088"
      },
      "outputs": [
        {
          "data": {
            "text/plain": [
              "array([ 2000.,    40.,   365.,  3121.,  4241., 13621.])"
            ]
          },
          "execution_count": 182,
          "metadata": {},
          "output_type": "execute_result"
        }
      ],
      "source": [
        "np.dstack((lending_co_data_numeric, lending_co_data_numeric_NAN))[0,:,0]\n",
        "\n",
        "# We can stack 2-D arrays as well. "
      ]
    },
    {
      "cell_type": "code",
      "execution_count": null,
      "metadata": {
        "id": "3wPMyRn_tHlq",
        "outputId": "b45b5b2f-0755-4661-e164-400c126bab42"
      },
      "outputs": [
        {
          "data": {
            "text/plain": [
              "array([[[ 2000.  ,  2000.  ],\n",
              "        [   40.  ,    40.  ],\n",
              "        [  365.  ,   365.  ],\n",
              "        [ 3121.  ,  3121.  ],\n",
              "        [ 4241.  ,  4241.  ],\n",
              "        [13621.  , 13621.  ]],\n",
              "\n",
              "       [[ 2000.  ,  2000.  ],\n",
              "        [   40.  ,    40.  ],\n",
              "        [  365.  ,   365.  ],\n",
              "        [ 3061.  ,  3061.  ],\n",
              "        [ 4171.  ,  4171.  ],\n",
              "        [15041.  , 15041.  ]],\n",
              "\n",
              "       [[ 1000.  ,  1000.  ],\n",
              "        [   40.  ,    40.  ],\n",
              "        [  365.  ,   365.  ],\n",
              "        [ 2160.  ,  2160.  ],\n",
              "        [ 3280.  ,  3280.  ],\n",
              "        [15340.  , 15340.  ]],\n",
              "\n",
              "       ...,\n",
              "\n",
              "       [[ 2000.  ,  2250.25],\n",
              "        [   40.  ,    40.  ],\n",
              "        [  365.  ,   365.  ],\n",
              "        [ 4201.  ,  4201.  ],\n",
              "        [ 5001.  ,  5001.  ],\n",
              "        [16600.  , 16600.  ]],\n",
              "\n",
              "       [[ 1000.  ,  1000.  ],\n",
              "        [   40.  ,    40.  ],\n",
              "        [  365.  ,   365.  ],\n",
              "        [ 2080.  ,  2080.  ],\n",
              "        [ 3320.  ,  3320.  ],\n",
              "        [15600.  , 15600.  ]],\n",
              "\n",
              "       [[ 2000.  ,  2000.  ],\n",
              "        [   40.  ,    40.  ],\n",
              "        [  365.  ,   365.  ],\n",
              "        [ 4601.  ,  4601.  ],\n",
              "        [ 4601.  ,  4601.  ],\n",
              "        [16600.  , 16600.  ]]])"
            ]
          },
          "execution_count": 184,
          "metadata": {},
          "output_type": "execute_result"
        }
      ],
      "source": [
        "np.stack((lending_co_data_numeric, lending_co_data_numeric_NAN), axis = -1)\n",
        "\n",
        "# We can stack along a given axis (with np.stack())"
      ]
    },
    {
      "cell_type": "code",
      "execution_count": null,
      "metadata": {
        "id": "IcQ9Uv6rtHlq"
      },
      "outputs": [],
      "source": [
        "array_example_1 = np.array([[[1,2,3,4],[5,6,7,8],[9,10,11,12]],[[21,22,23,24],[25,26,27,28],[29,30,31,32]]])\n",
        "array_example_2 = array_example_1 * 2\n",
        "\n",
        "# We're quickly creating some 3-D arrays to showcase how dstack works for higher dimensions. "
      ]
    },
    {
      "cell_type": "code",
      "execution_count": null,
      "metadata": {
        "id": "hthmBuHxtHlq",
        "outputId": "fae3542f-ac99-408b-ecb3-4b81bb8fdf56"
      },
      "outputs": [
        {
          "data": {
            "text/plain": [
              "(2, 3, 8)"
            ]
          },
          "execution_count": 187,
          "metadata": {},
          "output_type": "execute_result"
        }
      ],
      "source": [
        "np.dstack((array_example_1, array_example_2)).shape"
      ]
    },
    {
      "cell_type": "code",
      "execution_count": null,
      "metadata": {
        "id": "4pf6Xqk6tHlr",
        "outputId": "4963d957-9f63-49dd-8119-fc45309c60e7"
      },
      "outputs": [
        {
          "data": {
            "text/plain": [
              "(2, 3, 2, 4)"
            ]
          },
          "execution_count": 189,
          "metadata": {},
          "output_type": "execute_result"
        }
      ],
      "source": [
        "np.stack((array_example_1, array_example_2), axis = 2).shape\n",
        "\n",
        "# We can no longer replicate the output of dstack by simply specifying an axis. "
      ]
    },
    {
      "cell_type": "markdown",
      "metadata": {
        "id": "KVNkUcuxtHlr"
      },
      "source": [
        "## Concatenate"
      ]
    },
    {
      "cell_type": "code",
      "execution_count": null,
      "metadata": {
        "scrolled": true,
        "id": "OZ-dCkKptHlr",
        "outputId": "8f513166-e796-4dc3-edff-2a74634d5438"
      },
      "outputs": [
        {
          "data": {
            "text/plain": [
              "array([[ 2000.,    40.,   365.,  3121.,  4241., 13621.],\n",
              "       [ 2000.,    40.,   365.,  3061.,  4171., 15041.],\n",
              "       [ 1000.,    40.,   365.,  2160.,  3280., 15340.],\n",
              "       ...,\n",
              "       [ 2000.,    40.,   365.,  4201.,  5001., 16600.],\n",
              "       [ 1000.,    40.,   365.,  2080.,  3320., 15600.],\n",
              "       [ 2000.,    40.,   365.,  4601.,  4601., 16600.]])"
            ]
          },
          "execution_count": 190,
          "metadata": {},
          "output_type": "execute_result"
        }
      ],
      "source": [
        "lending_co_data_numeric = np.loadtxt(\"Lending-company-Numeric.csv\", delimiter = ',') \n",
        "lending_co_data_numeric"
      ]
    },
    {
      "cell_type": "code",
      "execution_count": null,
      "metadata": {
        "id": "8u1ON6ZOtHls",
        "outputId": "f38ca536-9b18-4d83-b72e-dd7b5f928387"
      },
      "outputs": [
        {
          "data": {
            "text/plain": [
              "array([ 2000.,    40.,   365.,  3121.,  4241., 13621.,  2000.,    40.,\n",
              "         365.,  3061.,  4171., 15041.])"
            ]
          },
          "execution_count": 191,
          "metadata": {},
          "output_type": "execute_result"
        }
      ],
      "source": [
        "np.concatenate((lending_co_data_numeric[0,:], lending_co_data_numeric[1,:]))\n",
        "\n",
        "# The concatenated array has the same number of dimensions as the inputs. "
      ]
    },
    {
      "cell_type": "code",
      "execution_count": null,
      "metadata": {
        "id": "t9Hpg_hrtHls",
        "outputId": "49cca46e-262a-4429-d51b-f55461129a60"
      },
      "outputs": [
        {
          "data": {
            "text/plain": [
              "array([[ 2000.  ,    40.  ,   365.  ,  3121.  ,  4241.  , 13621.  ],\n",
              "       [ 2000.  ,    40.  ,   365.  ,  3061.  ,  4171.  , 15041.  ],\n",
              "       [ 1000.  ,    40.  ,   365.  ,  2160.  ,  3280.  , 15340.  ],\n",
              "       ...,\n",
              "       [ 2250.25,    40.  ,   365.  ,  4201.  ,  5001.  , 16600.  ],\n",
              "       [ 1000.  ,    40.  ,   365.  ,  2080.  ,  3320.  , 15600.  ],\n",
              "       [ 2000.  ,    40.  ,   365.  ,  4601.  ,  4601.  , 16600.  ]])"
            ]
          },
          "execution_count": 192,
          "metadata": {},
          "output_type": "execute_result"
        }
      ],
      "source": [
        "#Recall: \n",
        "    \n",
        "lending_co_data_numeric_NAN = np.genfromtxt(\"Lending-company-Numeric-NAN.csv\", delimiter = ';')\n",
        "\n",
        "temporary_fill = np.nanmax(lending_co_data_numeric_NAN).round(2) + 1\n",
        "temporary_mean = np.nanmean(lending_co_data_numeric_NAN, axis = 0).round(2)\n",
        "\n",
        "lending_co_data_numeric_NAN = np.genfromtxt(\"Lending-company-Numeric-NAN.csv\",\n",
        "                                            delimiter = ';', \n",
        "                                            filling_values = temporary_fill)\n",
        "\n",
        "for i in range(lending_co_data_numeric_NAN.shape[1]):        \n",
        "    lending_co_data_numeric_NAN[:,i] = np.where(lending_co_data_numeric_NAN[:,i] == temporary_fill,\n",
        "                                                temporary_mean[i],\n",
        "                                                lending_co_data_numeric_NAN[:,i])\n",
        "    \n",
        "lending_co_data_numeric_NAN"
      ]
    },
    {
      "cell_type": "code",
      "execution_count": null,
      "metadata": {
        "id": "xm801782tHls",
        "outputId": "daa81ff2-0c6b-4e99-b4ab-59f9b7fd6435"
      },
      "outputs": [
        {
          "data": {
            "text/plain": [
              "(1043, 12)"
            ]
          },
          "execution_count": 196,
          "metadata": {},
          "output_type": "execute_result"
        }
      ],
      "source": [
        "np.concatenate((lending_co_data_numeric, lending_co_data_numeric_NAN), axis = 1).shape"
      ]
    },
    {
      "cell_type": "code",
      "execution_count": null,
      "metadata": {
        "id": "vTHaj20EtHlt"
      },
      "outputs": [],
      "source": [
        "array_example_1 = np.array([[[1,2,3,4],[5,6,7,8],[9,10,11,12]],[[21,22,23,24],[25,26,27,28],[29,30,31,32]]])\n",
        "array_example_2 = array_example_1 * 2\n",
        "\n",
        "# We create 3-D arrays to showcase concatenate vs stacking"
      ]
    },
    {
      "cell_type": "code",
      "execution_count": null,
      "metadata": {
        "id": "HDR-gPYZtHlt",
        "outputId": "b119ec04-ad01-4cd2-9391-ea84f4c24fbe"
      },
      "outputs": [
        {
          "data": {
            "text/plain": [
              "array([[[ 1,  2,  3,  4,  2,  4,  6,  8],\n",
              "        [ 5,  6,  7,  8, 10, 12, 14, 16],\n",
              "        [ 9, 10, 11, 12, 18, 20, 22, 24]],\n",
              "\n",
              "       [[21, 22, 23, 24, 42, 44, 46, 48],\n",
              "        [25, 26, 27, 28, 50, 52, 54, 56],\n",
              "        [29, 30, 31, 32, 58, 60, 62, 64]]])"
            ]
          },
          "execution_count": 203,
          "metadata": {},
          "output_type": "execute_result"
        }
      ],
      "source": [
        "np.concatenate((array_example_1, array_example_2), axis = 2)"
      ]
    },
    {
      "cell_type": "code",
      "execution_count": null,
      "metadata": {
        "id": "h8bR15Y0tHlt",
        "outputId": "a1c5bc1b-8e55-4000-bd7a-d0c6933f0b64"
      },
      "outputs": [
        {
          "ename": "NameError",
          "evalue": "name 'np' is not defined",
          "output_type": "error",
          "traceback": [
            "\u001b[1;31m---------------------------------------------------------------------------\u001b[0m",
            "\u001b[1;31mNameError\u001b[0m                                 Traceback (most recent call last)",
            "\u001b[1;32m<ipython-input-1-a91d828efd0f>\u001b[0m in \u001b[0;36m<module>\u001b[1;34m\u001b[0m\n\u001b[1;32m----> 1\u001b[1;33m \u001b[0mnp\u001b[0m\u001b[1;33m.\u001b[0m\u001b[0mdstack\u001b[0m\u001b[1;33m(\u001b[0m\u001b[1;33m(\u001b[0m\u001b[0marray_example_1\u001b[0m\u001b[1;33m,\u001b[0m \u001b[0marray_example_2\u001b[0m\u001b[1;33m)\u001b[0m\u001b[1;33m)\u001b[0m\u001b[1;33m\u001b[0m\u001b[1;33m\u001b[0m\u001b[0m\n\u001b[0m",
            "\u001b[1;31mNameError\u001b[0m: name 'np' is not defined"
          ]
        }
      ],
      "source": [
        "np.dstack((array_example_1, array_example_2))"
      ]
    },
    {
      "cell_type": "code",
      "execution_count": null,
      "metadata": {
        "id": "OZNFMAghtHlu",
        "outputId": "2ff4297c-a94c-45e0-b7fc-a0e9190913ef"
      },
      "outputs": [
        {
          "data": {
            "text/plain": [
              "array([[ 2000.,    40.,   365., ...,  4241., 13621.,  2000.],\n",
              "       [ 2000.,    40.,   365., ...,  4171., 15041.,  2000.],\n",
              "       [ 1000.,    40.,   365., ...,  3280., 15340.,  1000.],\n",
              "       ...,\n",
              "       [ 2000.,    40.,   365., ...,  5001., 16600.,  2000.],\n",
              "       [ 1000.,    40.,   365., ...,  3320., 15600.,  1000.],\n",
              "       [ 2000.,    40.,   365., ...,  4601., 16600.,  2000.]])"
            ]
          },
          "execution_count": 208,
          "metadata": {},
          "output_type": "execute_result"
        }
      ],
      "source": [
        "np.concatenate((lending_co_data_numeric, lending_co_data_numeric[:,:1]), axis = 1)"
      ]
    },
    {
      "cell_type": "markdown",
      "metadata": {
        "id": "3K2gbb76tHlu"
      },
      "source": [
        "## Unique "
      ]
    },
    {
      "cell_type": "code",
      "execution_count": null,
      "metadata": {
        "id": "vhTGaXJvtHlu",
        "outputId": "f757c666-2034-4ee9-d2ce-c8807d1cf747"
      },
      "outputs": [
        {
          "data": {
            "text/plain": [
              "array([[ 2000.,    40.,   365.,  3121.,  4241., 13621.],\n",
              "       [ 2000.,    40.,   365.,  3061.,  4171., 15041.],\n",
              "       [ 1000.,    40.,   365.,  2160.,  3280., 15340.],\n",
              "       ...,\n",
              "       [ 2000.,    40.,   365.,  4201.,  5001., 16600.],\n",
              "       [ 1000.,    40.,   365.,  2080.,  3320., 15600.],\n",
              "       [ 2000.,    40.,   365.,  4601.,  4601., 16600.]])"
            ]
          },
          "execution_count": 209,
          "metadata": {},
          "output_type": "execute_result"
        }
      ],
      "source": [
        "lending_co_data_numeric = np.loadtxt(\"Lending-company-Numeric.csv\", delimiter = ',') \n",
        "lending_co_data_numeric"
      ]
    },
    {
      "cell_type": "code",
      "execution_count": null,
      "metadata": {
        "scrolled": true,
        "id": "0fKH25aWtHlv",
        "outputId": "b0df0448-b58a-45af-e4d1-71adf83c891a"
      },
      "outputs": [
        {
          "data": {
            "text/plain": [
              "(array([ 35.,  40.,  50., 125., 165.]),\n",
              " array([327,   0,   4,  19,  27], dtype=int64),\n",
              " array([  4, 567, 451,  19,   2], dtype=int64))"
            ]
          },
          "execution_count": 216,
          "metadata": {},
          "output_type": "execute_result"
        }
      ],
      "source": [
        "np.unique(lending_co_data_numeric[:,1], return_counts = True, return_index = True)\n",
        "\n",
        "# Unique -> returns the unique values within the array in increasing order\n",
        "# return_counts -> returns how many times each unique value appears in the array\n",
        "# return_index -> returns the index of the first encounter with each unique value"
      ]
    },
    {
      "cell_type": "code",
      "execution_count": null,
      "metadata": {
        "id": "KFtEnseQtHlv",
        "outputId": "51ff7e39-670a-47d7-b0ec-69ff7c24716f"
      },
      "outputs": [
        {
          "data": {
            "text/plain": [
              "array(['A1', 'A2', 'A3', 'AA1', 'B1', 'B2', 'B3', 'a1', 'a2', 'a3'],\n",
              "      dtype='<U3')"
            ]
          },
          "execution_count": 214,
          "metadata": {},
          "output_type": "execute_result"
        }
      ],
      "source": [
        "array_example = np.array([\"a1\", \"a3\",\"A1\",\"A3\",\"A3\",\"AA1\",\"B1\",\"A2\",\"B1\",\"A2\",\"B2\",\"B2\", \"B3\",\"a2\",\"a3\",\"B3\",\"B3\",\"a3\" ])\n",
        "np.unique(array_example)\n",
        "\n",
        "# If the values of the array are text, the unique function sorts them in \"alphabetical\" order by their ASCII codes. "
      ]
    }
  ],
  "metadata": {
    "kernelspec": {
      "display_name": "Python 3",
      "language": "python",
      "name": "python3"
    },
    "language_info": {
      "codemirror_mode": {
        "name": "ipython",
        "version": 3
      },
      "file_extension": ".py",
      "mimetype": "text/x-python",
      "name": "python",
      "nbconvert_exporter": "python",
      "pygments_lexer": "ipython3",
      "version": "3.7.6"
    },
    "colab": {
      "provenance": [],
      "include_colab_link": true
    }
  },
  "nbformat": 4,
  "nbformat_minor": 0
}