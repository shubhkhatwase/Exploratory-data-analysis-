{
  "cells": [
    {
      "cell_type": "markdown",
      "metadata": {
        "id": "view-in-github",
        "colab_type": "text"
      },
      "source": [
        "<a href=\"https://colab.research.google.com/github/shubhkhatwase/Exploratory-data-analysis-/blob/main/Python_Dr_charles_coursera.ipynb\" target=\"_parent\"><img src=\"https://colab.research.google.com/assets/colab-badge.svg\" alt=\"Open In Colab\"/></a>"
      ]
    },
    {
      "cell_type": "markdown",
      "metadata": {
        "id": "DX6nA3lFw6z8"
      },
      "source": [
        "What is Python?"
      ]
    },
    {
      "cell_type": "markdown",
      "metadata": {
        "id": "Cah1iwvVyFrG"
      },
      "source": [
        "Python is a popular programming language. It was created by Guido van Rossum, and released in 1991.\n",
        "\n",
        "It is used for:\n",
        "\n",
        "web development (server-side),\n",
        "software development,\n",
        "mathematics,\n",
        "system scripting."
      ]
    },
    {
      "cell_type": "markdown",
      "metadata": {
        "id": "80z-ySAvvShc"
      },
      "source": [
        "Python Hello world "
      ]
    },
    {
      "cell_type": "code",
      "execution_count": null,
      "metadata": {
        "colab": {
          "base_uri": "https://localhost:8080/"
        },
        "id": "PCDiAdLZr3qi",
        "outputId": "e8a350b9-aee6-4c9e-c26f-327c2626facf"
      },
      "outputs": [
        {
          "output_type": "stream",
          "name": "stdout",
          "text": [
            "Wel Come to the world!\n"
          ]
        }
      ],
      "source": [
        "print (\"Wel Come to the world!\")"
      ]
    },
    {
      "cell_type": "code",
      "source": [
        "print(\"Hello World!\")\n"
      ],
      "metadata": {
        "colab": {
          "base_uri": "https://localhost:8080/"
        },
        "id": "dvrTpD3qd3dd",
        "outputId": "8cdc5e16-5780-4349-97dd-f79eda01ab7e"
      },
      "execution_count": null,
      "outputs": [
        {
          "output_type": "stream",
          "name": "stdout",
          "text": [
            "Hello World!\n"
          ]
        }
      ]
    },
    {
      "cell_type": "code",
      "execution_count": null,
      "metadata": {
        "colab": {
          "base_uri": "https://localhost:8080/"
        },
        "id": "VOcqLd1_vGzh",
        "outputId": "442f73d5-af86-4721-9d95-0b9182a9b7ef"
      },
      "outputs": [
        {
          "name": "stdout",
          "output_type": "stream",
          "text": [
            "Hello,World\n",
            "11\n",
            "<class 'str'>\n"
          ]
        }
      ],
      "source": [
        "x = \"Hello,World\"\n",
        "print(x)\n",
        "print(len(x))\n",
        "print(type(x))"
      ]
    },
    {
      "cell_type": "code",
      "execution_count": null,
      "metadata": {
        "colab": {
          "base_uri": "https://localhost:8080/"
        },
        "id": "lECKQIjHvl47",
        "outputId": "f93e518e-a957-4397-d710-a35ca29d63c8"
      },
      "outputs": [
        {
          "name": "stdout",
          "output_type": "stream",
          "text": [
            "100\n",
            "100\n"
          ]
        }
      ],
      "source": [
        "a = 45\n",
        "b = 55\n",
        "print(a+b)\n",
        "c = a+b\n",
        "print(c)\n"
      ]
    },
    {
      "cell_type": "code",
      "execution_count": null,
      "metadata": {
        "colab": {
          "base_uri": "https://localhost:8080/"
        },
        "id": "r9WcSkie3MRQ",
        "outputId": "007eb52b-c270-406b-e71e-07d1484f6616"
      },
      "outputs": [
        {
          "name": "stdout",
          "output_type": "stream",
          "text": [
            "100\n",
            "<class 'int'>\n",
            "-10\n",
            "<class 'int'>\n",
            "2475\n",
            "<class 'int'>\n",
            "9.0\n",
            "<class 'float'>\n"
          ]
        }
      ],
      "source": [
        "a = 45\n",
        "b = 55\n",
        "c = a+b\n",
        "d = a-b\n",
        "e = a*b\n",
        "f = a/5\n",
        "print(c)\n",
        "print(type(c))\n",
        "print(d)\n",
        "print(type(d))\n",
        "print(e)\n",
        "print(type(e))\n",
        "print(f)\n",
        "print(type(f))\n"
      ]
    },
    {
      "cell_type": "code",
      "execution_count": null,
      "metadata": {
        "colab": {
          "base_uri": "https://localhost:8080/"
        },
        "id": "tPY4UnSo5naL",
        "outputId": "3ebf7c83-96a4-433d-dde2-ffcb78b33575"
      },
      "outputs": [
        {
          "name": "stdout",
          "output_type": "stream",
          "text": [
            "110.0\n"
          ]
        }
      ],
      "source": [
        "a = 50\n",
        "b = 60\n",
        "c = a+b\n",
        "d = float(c)\n",
        "print(d)"
      ]
    },
    {
      "cell_type": "code",
      "execution_count": null,
      "metadata": {
        "colab": {
          "base_uri": "https://localhost:8080/"
        },
        "id": "FbqRD59G7U_P",
        "outputId": "41666255-e6f5-42f0-a500-b3e3ccc20028"
      },
      "outputs": [
        {
          "name": "stdout",
          "output_type": "stream",
          "text": [
            "True\n",
            "45.6\n",
            "45\n",
            "45\n"
          ]
        }
      ],
      "source": [
        "a = 454\n",
        "print(bool(a))\n",
        "b = 45.6\n",
        "print(float(b))\n",
        "print(int(b))\n",
        "print(str(45))\n",
        "\n"
      ]
    },
    {
      "cell_type": "code",
      "execution_count": null,
      "metadata": {
        "colab": {
          "base_uri": "https://localhost:8080/"
        },
        "id": "2vnKLmns74t_",
        "outputId": "7d6e009f-8b99-49e2-b835-e64e22c2d580"
      },
      "outputs": [
        {
          "name": "stdout",
          "output_type": "stream",
          "text": [
            "90\n",
            "0\n",
            "2025\n",
            "1.0\n",
            "248063644451341145494649182395412689744530581492654164321720600128173828125\n",
            "1\n"
          ]
        }
      ],
      "source": [
        "a = 45\n",
        "b = 45\n",
        "c  = a+b # Addition\n",
        "print(c)\n",
        "d = a-b  # Substraction\n",
        "print(d)\n",
        "e = a*b  # multiplication\n",
        "print(e)\n",
        "f = a/b  # Division\n",
        "print(f)\n",
        "g = a**b # Exponentiation\n",
        "print(g)\n",
        "h = a//b # floor division\n",
        "print(h)\n"
      ]
    },
    {
      "cell_type": "code",
      "execution_count": null,
      "metadata": {
        "colab": {
          "base_uri": "https://localhost:8080/"
        },
        "id": "vHuT3nRR-bEX",
        "outputId": "18a71727-e72e-4bc6-dc7d-dfc97e24a5fd"
      },
      "outputs": [
        {
          "name": "stdout",
          "output_type": "stream",
          "text": [
            "<class 'str'>\n",
            "Shubh Khatwase\n"
          ]
        }
      ],
      "source": [
        "a = \"Shubh Khatwase\"\n",
        "print(type(a))\n",
        "print(a)"
      ]
    },
    {
      "cell_type": "code",
      "execution_count": null,
      "metadata": {
        "colab": {
          "base_uri": "https://localhost:8080/"
        },
        "id": "XdFnG_exIjvz",
        "outputId": "e3e0d3fb-2c24-48a6-a49b-ed534640baea"
      },
      "outputs": [
        {
          "name": "stdout",
          "output_type": "stream",
          "text": [
            "you are greate man Shubh Khatwase\n"
          ]
        }
      ],
      "source": [
        "a = \"you are greate man\"\n",
        "print(a,\"Shubh Khatwase\")\n"
      ]
    },
    {
      "cell_type": "code",
      "execution_count": null,
      "metadata": {
        "colab": {
          "base_uri": "https://localhost:8080/"
        },
        "id": "PrkYheCJJS8r",
        "outputId": "b6f712d0-21c2-46b0-e8e9-82c888ce7b59"
      },
      "outputs": [
        {
          "name": "stdout",
          "output_type": "stream",
          "text": [
            "you are Selected in this company Mr. shubh khatwase\n"
          ]
        }
      ],
      "source": [
        "a = \"shubh khatwase\"\n",
        "print(\"you are Selected in this company Mr.\",a)"
      ]
    },
    {
      "cell_type": "code",
      "execution_count": null,
      "metadata": {
        "colab": {
          "base_uri": "https://localhost:8080/",
          "height": 55
        },
        "id": "AXNa9w-XLrOH",
        "outputId": "652700bb-81e7-4930-f1dc-c12999638e07"
      },
      "outputs": [
        {
          "name": "stdout",
          "output_type": "stream",
          "text": [
            "Enter your name Raja Uikey\n"
          ]
        },
        {
          "data": {
            "application/vnd.google.colaboratory.intrinsic+json": {
              "type": "string"
            },
            "text/plain": [
              "'Raja Uikey'"
            ]
          },
          "execution_count": 17,
          "metadata": {},
          "output_type": "execute_result"
        }
      ],
      "source": [
        "a = str(input(\"Enter your name \"))\n",
        "a"
      ]
    },
    {
      "cell_type": "markdown",
      "metadata": {
        "id": "RiZH1dMeaU3e"
      },
      "source": [
        "#**List in PYTHON**\n",
        "\n",
        "List is mutable function. We can make change in it."
      ]
    },
    {
      "cell_type": "code",
      "execution_count": null,
      "metadata": {
        "colab": {
          "base_uri": "https://localhost:8080/"
        },
        "id": "Xc4FqJPRSGK5",
        "outputId": "994fbaa8-81d1-43b8-dde4-8e410d7c5e8d"
      },
      "outputs": [
        {
          "output_type": "stream",
          "name": "stdout",
          "text": [
            "['Shubh', 'Monu', 'Pinku', 'Simu', 'Somya']\n",
            "Pinku\n",
            "['Pinku', 'Simu', 'Somya']\n",
            "['Pinku', 'Simu']\n",
            "['Pinku', 'Simu', 'Somya']\n",
            "['Simu', 'Somya']\n",
            "['Shubh', 'Monu']\n"
          ]
        }
      ],
      "source": [
        "names = [\"Shubh\",\"Monu\",\"Pinku\",\"Simu\",\"Somya\"]\n",
        "print(names)\n",
        "print(names[2])\n",
        "print(names[2:5])\n",
        "print(names[2:-1])\n",
        "print(names[-3:])\n",
        "print(names[3:])\n",
        "print(names[:2])"
      ]
    },
    {
      "cell_type": "code",
      "execution_count": null,
      "metadata": {
        "colab": {
          "base_uri": "https://localhost:8080/"
        },
        "id": "iYg0GNsha-PU",
        "outputId": "ae28062f-c587-44dd-e219-1239655091a7"
      },
      "outputs": [
        {
          "output_type": "stream",
          "name": "stdout",
          "text": [
            "['Blue', 'Orange', 'Sky Blue', 'Green', 'Pinck', 'Yellow']\n"
          ]
        }
      ],
      "source": [
        "colors = [\"Yellow\",\"Pinck\",\"Red\",\"Green\",\"Sky Blue\",\"Orange\"]\n",
        "colors.append(\"Blue\")\n",
        "colors.reverse()\n",
        "colors.remove(\"Red\")\n",
        "\n",
        "\n",
        "\n",
        "\n",
        "print(colors)"
      ]
    },
    {
      "cell_type": "code",
      "source": [
        "my_list = []\n",
        "fhand = open('/content/drive/MyDrive/shubh ASSIGNMENT.txt')\n",
        "for line in fhand:\n",
        "    words = line.split()                # Splits line into array of words\n",
        "    for word in words:\n",
        "        if word in my_list:\n",
        "            continue                    # Discards duplicates\n",
        "        my_list.append(word)            # Updates the list\n",
        "print(sorted(my_list))                  # Alphabetical order"
      ],
      "metadata": {
        "id": "qsPr4XkDO2x7",
        "colab": {
          "base_uri": "https://localhost:8080/"
        },
        "outputId": "798c7e61-9111-4f4f-c332-97229b38382c"
      },
      "execution_count": null,
      "outputs": [
        {
          "output_type": "stream",
          "name": "stdout",
          "text": [
            "['(0.00', '(0.02', '(0.04', '(0.14', '(0.19', '(0.42', '*', '+------+-----------+----------+---------+', '+------+-----------+----------+---------+---------------+---------------+--------------+', '+-----------+-------------+------+-----+---------+-------+', '+---------------+----------+------+-----+---------+-------+', '+---------------+---------------+--------------+', '+--------------------+', '+----------------------+', '10', '101', '102', '103', '104', '2', '3', '4', 'Database', 'Default', 'Extra', 'Field', 'Key', 'MUL', 'NO', 'NULL', 'Null', 'PRI', 'Tables_in_prod_sales', 'Type', 'YES', 'ajay', 'akash', 'anni', 'assignment', 'bhopal', 'changed', 'char(20)', 'char(23)', 'city', 'costomer', 'current_city', 'customer_name', 'databases;', 'desc', 'from', 'hasan', 'in', 'indor', 'information_schema', 'int', 'join', 'khandwa', 'kiran', 'lukash', 'mahi', 'mike', 'mysql', 'mysql>', 'nihal', 'on', 'people', 'performance_schema', 'population', 'population_2022', 'pro_serial_no', 'prod_sales', 'prod_sales;', 'rajiv', 'rows', 's_no', 'sagar', 'saller', 'saller.city=sold_return.current_city;', 'saller;', 'saller_no', 'school', 'sec)', 'select', 'set', 'show', 'sold_return', 'sold_return;', 'tables;', 'use', 'user', 'varchar(20)', 'varchar(30)', 'vikash', '|']\n"
          ]
        }
      ]
    },
    {
      "cell_type": "markdown",
      "source": [
        "#**File Handle as a Sequance**"
      ],
      "metadata": {
        "id": "ZyQu-07oAfev"
      }
    },
    {
      "cell_type": "markdown",
      "source": [
        "A file handle open for read can be treated as sequence of strings where each line in the file is a string in the sequence.\n",
        "\n",
        "We can use the for statement to iterate through a sequence.\n",
        "\n",
        "Remember - a sequence is an ordered set "
      ],
      "metadata": {
        "id": "AuV5FEvbAxFP"
      }
    },
    {
      "cell_type": "markdown",
      "source": [
        "# **Counting Line in a File**"
      ],
      "metadata": {
        "id": "v9m0xQnbTqBH"
      }
    },
    {
      "cell_type": "markdown",
      "source": [
        "- Open a file ready.\n",
        "\n",
        "- Use a for loop to read each line\n",
        "\n",
        "- count the lines and print out the number of lines\n"
      ],
      "metadata": {
        "id": "CKOm2J_7T3aG"
      }
    },
    {
      "cell_type": "code",
      "source": [
        "fhand = open('')\n",
        "count = 0 \n",
        "for line in fhand:\n",
        "  count = count + 1\n",
        "  print('Line count: ',count)\n"
      ],
      "metadata": {
        "id": "1LNiV1fpT2-2"
      },
      "execution_count": null,
      "outputs": []
    },
    {
      "cell_type": "markdown",
      "source": [
        "#**Reading the *Whole* File**"
      ],
      "metadata": {
        "id": "9yvzf0dFWhCs"
      }
    },
    {
      "cell_type": "markdown",
      "source": [
        "We can read the whole file (newlines and all) into a single string"
      ],
      "metadata": {
        "id": "U1ZuBV-xWt-M"
      }
    },
    {
      "cell_type": "code",
      "source": [
        "fhand = open('mbox-short.txt')\n",
        "inp = fhand.read()\n",
        "print(len(inp))\n",
        "print(inp[:20])\n"
      ],
      "metadata": {
        "id": "Gyuae1NUTllt"
      },
      "execution_count": null,
      "outputs": []
    },
    {
      "cell_type": "markdown",
      "source": [
        "# **Searching Through a File**\n"
      ],
      "metadata": {
        "id": "oWhgt-J1Xlqx"
      }
    },
    {
      "cell_type": "markdown",
      "source": [
        "We can put an if statement in out for loop to only print lines that meet some criteria"
      ],
      "metadata": {
        "id": "bNmieR-bZKJP"
      }
    },
    {
      "cell_type": "code",
      "source": [
        "fhand =  open('mbox-short.txt')\n",
        "for line in fhand:\n",
        "  if line.startswith('From:'):\n",
        "    print(line)"
      ],
      "metadata": {
        "id": "5Z0JkjG0Yq1Q"
      },
      "execution_count": null,
      "outputs": []
    },
    {
      "cell_type": "markdown",
      "source": [
        "OOPS\n"
      ],
      "metadata": {
        "id": "LQ2U9C0Aat31"
      }
    },
    {
      "cell_type": "markdown",
      "source": [
        "What are all these blank lines doing here??\n",
        "\n",
        "- Each line from the file has a newline at the end \n",
        "\n",
        "- The print statement adds a newline to each line"
      ],
      "metadata": {
        "id": "22r6FW-Mayf9"
      }
    },
    {
      "cell_type": "markdown",
      "source": [
        "# Searching Through a File (Fixed)\n",
        "\n",
        "- we can strip the whitespace from the right-hand sude if the string rstrip() from the string library.\n",
        "- the newline is considered \"white space\" and is stripped\n"
      ],
      "metadata": {
        "id": "Sdia-UecbrjU"
      }
    },
    {
      "cell_type": "code",
      "source": [
        "fhand = open('mbox-short.txt')\n",
        "for line in fhand:\n",
        "  line = line.restrip()\n",
        "  if line.startwith('From: '):\n",
        "    print(line)"
      ],
      "metadata": {
        "id": "XLAh2JSyZt1h"
      },
      "execution_count": null,
      "outputs": []
    },
    {
      "cell_type": "markdown",
      "source": [
        "#**Skipping with continue**"
      ],
      "metadata": {
        "id": "IGSYoaLvdxMr"
      }
    },
    {
      "cell_type": "markdown",
      "source": [
        "We can conveniently skip a line by using the continue statement"
      ],
      "metadata": {
        "id": "vUu_DrkVd7DB"
      }
    },
    {
      "cell_type": "code",
      "source": [
        "fhand = open('mbox-short.txt')\n",
        "for line in fhand:\n",
        "  line = line.rstrip()\n",
        "  if not line.startwith('From: '):\n",
        "    continue\n",
        "  print(line)"
      ],
      "metadata": {
        "id": "ulFenbGHd6Gx"
      },
      "execution_count": null,
      "outputs": []
    },
    {
      "cell_type": "markdown",
      "source": [
        "#Using in to Select lines\n",
        "\n",
        "We can look for a string anywhere in a line as our selection criteria"
      ],
      "metadata": {
        "id": "-g9I7eunevo8"
      }
    },
    {
      "cell_type": "code",
      "source": [
        "fhand = open('mbox-short.txt')\n",
        "for line in fhand:\n",
        "  line = line.restrip()\n",
        "  if not '@uct.ac.za' in line:\n",
        "    continue\n",
        "  print(line)"
      ],
      "metadata": {
        "id": "v8CHYckRfO43"
      },
      "execution_count": null,
      "outputs": []
    },
    {
      "cell_type": "markdown",
      "source": [
        "## Prompt for File Name\n"
      ],
      "metadata": {
        "id": "pOm10nVEf1pI"
      }
    },
    {
      "cell_type": "code",
      "source": [
        "fname = input(\"Enter your file name: \")\n",
        "fhand = open(fname)\n",
        "count = 0\n",
        "for line in fhand:\n",
        "  if line.startswith(\"Subject: \"):\n",
        "    count = count + 1\n",
        "print('There were', 'subject lines in',fname)"
      ],
      "metadata": {
        "id": "D6NV23vDgFC2"
      },
      "execution_count": null,
      "outputs": []
    },
    {
      "cell_type": "markdown",
      "source": [
        "#**Programming**\n",
        "### Algorithms\n",
        "- A set of rules or steps used to solve a problem\n",
        "\n",
        "### Data Structure\n",
        "- A particular way of orgnizing data in a computer"
      ],
      "metadata": {
        "id": "_uPtZ88-h_Vl"
      }
    },
    {
      "cell_type": "markdown",
      "source": [
        "### what is Not A \"Collection\"??"
      ],
      "metadata": {
        "id": "SpNfewITi8Z2"
      }
    },
    {
      "cell_type": "markdown",
      "source": [
        "Most of our variable have one value in them - when we put a new value in variable, the old value is overwritten  "
      ],
      "metadata": {
        "id": "DAvmu9wDjI7b"
      }
    },
    {
      "cell_type": "code",
      "source": [
        "a = 45\n",
        "b = 45\n",
        "c = a + b\n",
        "print(c)"
      ],
      "metadata": {
        "colab": {
          "base_uri": "https://localhost:8080/"
        },
        "id": "qQr6_eHrh6u0",
        "outputId": "b14f4f9f-61e1-4a64-cd8b-fbca07ac09f3"
      },
      "execution_count": null,
      "outputs": [
        {
          "output_type": "stream",
          "name": "stdout",
          "text": [
            "90\n"
          ]
        }
      ]
    },
    {
      "cell_type": "markdown",
      "source": [
        "## A List is a Kind of Collection\n",
        "- A collection allows us to put many values in a single \"variable\"\n",
        "- A collection is nice because we can carry many values around in one convenient package. "
      ],
      "metadata": {
        "id": "_dySOnBejvMR"
      }
    },
    {
      "cell_type": "code",
      "source": [
        "friends = [\"arvind\",\"sneha\",\"neha\"]\n",
        "fruits = [\"cherry\",\"banana\",\"graps\"]\n",
        "for x in friends and fruits:\n",
        "  print(x)"
      ],
      "metadata": {
        "colab": {
          "base_uri": "https://localhost:8080/"
        },
        "id": "wTsL04H-jqAq",
        "outputId": "db6243b5-44f9-4c32-e474-151cf2a1c64b"
      },
      "execution_count": null,
      "outputs": [
        {
          "output_type": "stream",
          "name": "stdout",
          "text": [
            "cherry\n",
            "banana\n",
            "graps\n"
          ]
        }
      ]
    },
    {
      "cell_type": "markdown",
      "source": [
        "#**List Constants**\n",
        "- List constants are surrounded by square brackets and the elements in the list are separeted by commas\n",
        "- A List element can be any Python object - even another list\n",
        "\n",
        "- A list can be empty"
      ],
      "metadata": {
        "id": "5dkwFrD3le9w"
      }
    },
    {
      "cell_type": "code",
      "source": [
        "print([1,54,45,56,])\n",
        "print(['green','pink','yellow','orange'])\n",
        "print(['red',54,46.6])\n",
        "print([4,[5,65,44,5],8])\n",
        "print([])"
      ],
      "metadata": {
        "colab": {
          "base_uri": "https://localhost:8080/"
        },
        "id": "9F7VZUzblJmA",
        "outputId": "4ab9a492-cb19-4aa1-8e13-ef1f1b4f1338"
      },
      "execution_count": null,
      "outputs": [
        {
          "output_type": "stream",
          "name": "stdout",
          "text": [
            "[1, 54, 45, 56]\n",
            "['green', 'pink', 'yellow', 'orange']\n",
            "['red', 54, 46.6]\n",
            "[4, [5, 65, 44, 5], 8]\n",
            "[]\n"
          ]
        }
      ]
    },
    {
      "cell_type": "markdown",
      "source": [
        "##**Concatenating list Using**\n",
        "We can create a new list by adding two existing lists togather"
      ],
      "metadata": {
        "id": "o_-2wnPpnoZV"
      }
    },
    {
      "cell_type": "code",
      "source": [
        "a = [2,4,6]\n",
        "b = [6,6,5]\n",
        "c = a+b\n",
        "print(c)\n",
        "print(a)"
      ],
      "metadata": {
        "colab": {
          "base_uri": "https://localhost:8080/"
        },
        "id": "I1_Bd0Upnn_s",
        "outputId": "538c83e4-7248-4bd3-a3a2-00fd709a0e76"
      },
      "execution_count": null,
      "outputs": [
        {
          "output_type": "stream",
          "name": "stdout",
          "text": [
            "[2, 4, 6, 6, 6, 5]\n",
            "[2, 4, 6]\n"
          ]
        }
      ]
    },
    {
      "cell_type": "markdown",
      "source": [
        "# **List Methods**\n"
      ],
      "metadata": {
        "id": "4J5w4kUuoxD7"
      }
    },
    {
      "cell_type": "code",
      "source": [
        "x = list()\n",
        "type(x)"
      ],
      "metadata": {
        "colab": {
          "base_uri": "https://localhost:8080/"
        },
        "id": "kHm4W1JqnJMu",
        "outputId": "5ea98eab-26d6-424c-87c3-d37727ee44d9"
      },
      "execution_count": null,
      "outputs": [
        {
          "output_type": "execute_result",
          "data": {
            "text/plain": [
              "list"
            ]
          },
          "metadata": {},
          "execution_count": 14
        }
      ]
    },
    {
      "cell_type": "code",
      "source": [
        "dir(x)"
      ],
      "metadata": {
        "colab": {
          "base_uri": "https://localhost:8080/"
        },
        "id": "A41kxYFqo9PK",
        "outputId": "a7857fe2-b713-47e8-fddf-96558df06c21"
      },
      "execution_count": null,
      "outputs": [
        {
          "output_type": "execute_result",
          "data": {
            "text/plain": [
              "['__add__',\n",
              " '__class__',\n",
              " '__contains__',\n",
              " '__delattr__',\n",
              " '__delitem__',\n",
              " '__dir__',\n",
              " '__doc__',\n",
              " '__eq__',\n",
              " '__format__',\n",
              " '__ge__',\n",
              " '__getattribute__',\n",
              " '__getitem__',\n",
              " '__gt__',\n",
              " '__hash__',\n",
              " '__iadd__',\n",
              " '__imul__',\n",
              " '__init__',\n",
              " '__init_subclass__',\n",
              " '__iter__',\n",
              " '__le__',\n",
              " '__len__',\n",
              " '__lt__',\n",
              " '__mul__',\n",
              " '__ne__',\n",
              " '__new__',\n",
              " '__reduce__',\n",
              " '__reduce_ex__',\n",
              " '__repr__',\n",
              " '__reversed__',\n",
              " '__rmul__',\n",
              " '__setattr__',\n",
              " '__setitem__',\n",
              " '__sizeof__',\n",
              " '__str__',\n",
              " '__subclasshook__',\n",
              " 'append',\n",
              " 'clear',\n",
              " 'copy',\n",
              " 'count',\n",
              " 'extend',\n",
              " 'index',\n",
              " 'insert',\n",
              " 'pop',\n",
              " 'remove',\n",
              " 'reverse',\n",
              " 'sort']"
            ]
          },
          "metadata": {},
          "execution_count": 15
        }
      ]
    },
    {
      "cell_type": "markdown",
      "source": [
        "#**Building a list from Scratch**\n",
        "- We can create an empty list and then add elements using the append method \n",
        "- The list stays in order and new elements are added at the end of the list "
      ],
      "metadata": {
        "id": "SKGi2z6dpIu7"
      }
    },
    {
      "cell_type": "code",
      "source": [
        "stuff = list()\n",
        "print(stuff)\n",
        "stuff.append(\"Book\")\n",
        "print(stuff)\n",
        "stuff.append(99)\n",
        "print(stuff)\n",
        "stuff.append('cookie')\n",
        "print(stuff)"
      ],
      "metadata": {
        "colab": {
          "base_uri": "https://localhost:8080/"
        },
        "id": "D7y_OVM0pAkC",
        "outputId": "3a2a3c6b-20f8-411a-9086-24194a071ceb"
      },
      "execution_count": null,
      "outputs": [
        {
          "output_type": "stream",
          "name": "stdout",
          "text": [
            "[]\n",
            "['Book']\n",
            "['Book', 99]\n",
            "['Book', 99, 'cookie']\n"
          ]
        }
      ]
    },
    {
      "cell_type": "markdown",
      "source": [
        "**Is something in a list??**"
      ],
      "metadata": {
        "id": "tVUzpKCFqyM5"
      }
    },
    {
      "cell_type": "code",
      "source": [
        "some = [ 4,6,6,7,5,8]\n",
        "6 in some"
      ],
      "metadata": {
        "colab": {
          "base_uri": "https://localhost:8080/"
        },
        "id": "4BkqyizoqWQS",
        "outputId": "52346836-f913-4bc7-9c89-fb204e105955"
      },
      "execution_count": null,
      "outputs": [
        {
          "output_type": "execute_result",
          "data": {
            "text/plain": [
              "True"
            ]
          },
          "metadata": {},
          "execution_count": 18
        }
      ]
    },
    {
      "cell_type": "code",
      "source": [
        "5 in some"
      ],
      "metadata": {
        "colab": {
          "base_uri": "https://localhost:8080/"
        },
        "id": "mLuDytRlrEVY",
        "outputId": "85f2e8a5-932e-4b3f-c8c6-435dd6883dc0"
      },
      "execution_count": null,
      "outputs": [
        {
          "output_type": "execute_result",
          "data": {
            "text/plain": [
              "True"
            ]
          },
          "metadata": {},
          "execution_count": 19
        }
      ]
    },
    {
      "cell_type": "code",
      "source": [
        "50 in some"
      ],
      "metadata": {
        "colab": {
          "base_uri": "https://localhost:8080/"
        },
        "id": "Rkpxdh-erJIo",
        "outputId": "e1c3a40c-0e68-4e55-8ec8-f8c9bb6cf69e"
      },
      "execution_count": null,
      "outputs": [
        {
          "output_type": "execute_result",
          "data": {
            "text/plain": [
              "False"
            ]
          },
          "metadata": {},
          "execution_count": 20
        }
      ]
    },
    {
      "cell_type": "code",
      "source": [
        "50 not in some"
      ],
      "metadata": {
        "colab": {
          "base_uri": "https://localhost:8080/"
        },
        "id": "KCImKJ36rMEA",
        "outputId": "b5fe50b9-6747-41d0-84c9-e94cd51cf331"
      },
      "execution_count": null,
      "outputs": [
        {
          "output_type": "execute_result",
          "data": {
            "text/plain": [
              "True"
            ]
          },
          "metadata": {},
          "execution_count": 21
        }
      ]
    },
    {
      "cell_type": "markdown",
      "source": [
        "#Lists are in Order\n",
        "- A list can hold many items and keeps those items in the order until we do something to change the order\n",
        "- A list can be sorted(i.e., change its order)\n",
        "- The sort method (unlike in strings) means \"sort yourself\""
      ],
      "metadata": {
        "id": "wacyUxywrdFy"
      }
    },
    {
      "cell_type": "code",
      "source": [
        "friends = [\"trisha\",\"shivam\",\"omkar\"]\n",
        "friends.sort()\n",
        "print(friends)\n",
        "print(friends[1])"
      ],
      "metadata": {
        "colab": {
          "base_uri": "https://localhost:8080/"
        },
        "id": "bhjrxmrlrRTR",
        "outputId": "d95ba204-32f6-4f1a-8eca-6ffea342237c"
      },
      "execution_count": null,
      "outputs": [
        {
          "output_type": "stream",
          "name": "stdout",
          "text": [
            "['omkar', 'shivam', 'trisha']\n",
            "shivam\n"
          ]
        }
      ]
    },
    {
      "cell_type": "markdown",
      "source": [
        "# **Built-in Function and Lists**"
      ],
      "metadata": {
        "id": "H8HKoFtwtudV"
      }
    },
    {
      "cell_type": "markdown",
      "source": [
        "- There are a number of functions built into Python that lists as parameters.\n",
        "- Remember the loops we built?? These are much simpler."
      ],
      "metadata": {
        "id": "f9eHu8CZt7Ts"
      }
    },
    {
      "cell_type": "code",
      "source": [
        "nums = [5,56,7,8,5,6,6,4]\n",
        "print(len(nums))  # length\n",
        "print(min(nums))  # minimum value\n",
        "print(max(nums))  # maximum value\n",
        "print(sum(nums))  # sum of list\n",
        "print(sum(nums)/len(nums)) # average"
      ],
      "metadata": {
        "colab": {
          "base_uri": "https://localhost:8080/"
        },
        "id": "9Q1KAB5ns25B",
        "outputId": "924636bd-c7b8-4df1-8fc7-3e1c859fe38d"
      },
      "execution_count": null,
      "outputs": [
        {
          "output_type": "stream",
          "name": "stdout",
          "text": [
            "8\n",
            "4\n",
            "56\n",
            "97\n",
            "12.125\n"
          ]
        }
      ]
    },
    {
      "cell_type": "code",
      "source": [
        "from types import CoroutineType\n",
        "total = 0\n",
        "count = 0\n",
        "while True:\n",
        "  inp = input('Enter a number: ')\n",
        "  if inp == 'Done': break\n",
        "  value = float(inp)\n",
        "  total = total + value\n",
        "  count = count + 1 \n",
        "\n",
        "average = total / count\n",
        "print('Average:',average)\n"
      ],
      "metadata": {
        "colab": {
          "base_uri": "https://localhost:8080/"
        },
        "id": "SdTJVu7Gu2JS",
        "outputId": "07031fef-78ef-411b-9239-6a3b117c8c9a"
      },
      "execution_count": null,
      "outputs": [
        {
          "output_type": "stream",
          "name": "stdout",
          "text": [
            "Enter a number: 89\n",
            "Enter a number: 78\n",
            "Enter a number: 87\n",
            "Enter a number: 78\n",
            "Enter a number: 78\n",
            "Enter a number: 78\n",
            "Enter a number: 87\n",
            "Enter a number: 56.3\n",
            "Enter a number: 65.66\n",
            "Enter a number: Done\n",
            "Average: 77.44\n"
          ]
        }
      ]
    },
    {
      "cell_type": "code",
      "source": [
        "numlist = list()\n",
        "while True :\n",
        "  inp = input('Enter a number: ')\n",
        "  if inp == 'done': break\n",
        "  value = float(inp)\n",
        "  numlist.append(value)\n",
        "average = sum(numlist)/len(numlist)\n",
        "print(\"Average: \", average)"
      ],
      "metadata": {
        "colab": {
          "base_uri": "https://localhost:8080/"
        },
        "id": "Q9930Bblw9b4",
        "outputId": "cb974571-bc15-41ae-9030-7978f1de11a8"
      },
      "execution_count": null,
      "outputs": [
        {
          "output_type": "stream",
          "name": "stdout",
          "text": [
            "Enter a number: 78\n",
            "Enter a number: 45\n",
            "Enter a number: 65\n",
            "Enter a number: 45\n",
            "Enter a number: 45\n",
            "Enter a number: 54\n",
            "Enter a number: 5\n",
            "Enter a number: done\n",
            "Average:  48.142857142857146\n"
          ]
        }
      ]
    },
    {
      "cell_type": "markdown",
      "source": [
        "# Best Friends: Strings Lists "
      ],
      "metadata": {
        "id": "0vjWQRSb0M59"
      }
    },
    {
      "cell_type": "code",
      "source": [
        "abc = 'Earth rotates'\n",
        "stuff = abc.split()\n",
        "print(stuff)\n",
        "print(len(stuff))\n",
        "print(stuff[0])\n",
        "print(stuff)\n",
        "for w in stuff :\n",
        "  print(w)"
      ],
      "metadata": {
        "colab": {
          "base_uri": "https://localhost:8080/"
        },
        "id": "SUeaRGk1z_hO",
        "outputId": "431cb059-73ab-41e0-9814-27c46dba67f7"
      },
      "execution_count": null,
      "outputs": [
        {
          "output_type": "stream",
          "name": "stdout",
          "text": [
            "['Earth', 'rotates']\n",
            "2\n",
            "Earth\n",
            "['Earth', 'rotates']\n",
            "Earth\n",
            "rotates\n"
          ]
        }
      ]
    },
    {
      "cell_type": "markdown",
      "source": [
        "split breaks a string into parts and poroduces a list of strings. We think of these as words. We can access a particular word or loop through all the words."
      ],
      "metadata": {
        "id": "pP6191Q61Yfd"
      }
    },
    {
      "cell_type": "code",
      "source": [
        "line = 'A lot                    Snackes we have'\n",
        "etc = line.split()\n",
        "print(etc)"
      ],
      "metadata": {
        "colab": {
          "base_uri": "https://localhost:8080/"
        },
        "id": "JPIf7hCG08zC",
        "outputId": "c11602f5-d15a-4a14-d6c0-3cf04a1e8ec3"
      },
      "execution_count": null,
      "outputs": [
        {
          "output_type": "stream",
          "name": "stdout",
          "text": [
            "['A', 'lot', 'Snackes', 'we', 'have']\n"
          ]
        }
      ]
    },
    {
      "cell_type": "code",
      "source": [
        "line = 'first;second;third'\n",
        "thing = line.split()\n",
        "print(thing)\n",
        "print(len(thing))"
      ],
      "metadata": {
        "colab": {
          "base_uri": "https://localhost:8080/"
        },
        "id": "zHx3_CjI2Rm4",
        "outputId": "e4aba645-d8f7-4f4a-efd5-f7993f2df11c"
      },
      "execution_count": null,
      "outputs": [
        {
          "output_type": "stream",
          "name": "stdout",
          "text": [
            "['first;second;third']\n",
            "1\n"
          ]
        }
      ]
    },
    {
      "cell_type": "code",
      "source": [
        "thing = line.split(';')\n",
        "print(thing)\n",
        "print(len(thing))"
      ],
      "metadata": {
        "colab": {
          "base_uri": "https://localhost:8080/"
        },
        "id": "VhrxFmuN2-uQ",
        "outputId": "c14fa150-7cbe-4b52-d894-da8129b105ef"
      },
      "execution_count": null,
      "outputs": [
        {
          "output_type": "stream",
          "name": "stdout",
          "text": [
            "['first', 'second', 'third']\n",
            "3\n"
          ]
        }
      ]
    },
    {
      "cell_type": "markdown",
      "source": [
        "- when you do not specify a decimiter, multiple spaces are threated like one delimiter\n",
        "- You can specify what delimiter character to use in the splitting"
      ],
      "metadata": {
        "id": "4UIsnHB03b3Z"
      }
    },
    {
      "cell_type": "markdown",
      "source": [
        "###**The Double Split Pattern**\n",
        "\n",
        "- sometimes we split a line one way. and then grab one of the pieces of the fine and split that is piece again \n"
      ],
      "metadata": {
        "id": "yoFEPnKV4LAg"
      }
    },
    {
      "cell_type": "code",
      "source": [
        "han = open('mbox-short.txt')\n",
        "for x in han:\n",
        "  line = x.rstrip()\n",
        "  wds = line.split()\n",
        "  print('Words',wds)\n",
        "  if wds[0] != 'From':\n",
        "    print('Ignore')\n",
        "    continue\n",
        "  print(wds[2])"
      ],
      "metadata": {
        "id": "Flkz-YOG3TOw"
      },
      "execution_count": null,
      "outputs": []
    },
    {
      "cell_type": "markdown",
      "source": [
        "#**-ROSMUS LARDORF Inventor of PHP-**"
      ],
      "metadata": {
        "id": "89N4TMJF6KBE"
      }
    },
    {
      "cell_type": "markdown",
      "source": [
        "#**What is a collection ??**\n",
        "- A collection is nice because we can put more than one value in it and carry them all around in one convenient package.\n",
        "- We have a bunch of values in a single\"variable\".\n",
        "- We do this by having more then place \"in\" the variable.\n",
        "- We have ways of finding the different places in the variable. "
      ],
      "metadata": {
        "id": "JmDu7vj5lUOT"
      }
    },
    {
      "cell_type": "markdown",
      "source": [
        "##**What is not a \"Collection\"??**\n",
        " - Most of our variables have one value in them\n",
        " - Whem we put a new value is the variable \n",
        " - the old value is overwritten."
      ],
      "metadata": {
        "id": "tQJqILz3ld3D"
      }
    },
    {
      "cell_type": "code",
      "source": [
        "a = 5\n",
        "a = 6\n",
        "print(a)"
      ],
      "metadata": {
        "colab": {
          "base_uri": "https://localhost:8080/"
        },
        "id": "WFtOW375lP9y",
        "outputId": "9e3d9075-1d87-4521-cb0d-1e85dacdfb20"
      },
      "execution_count": null,
      "outputs": [
        {
          "output_type": "stream",
          "name": "stdout",
          "text": [
            "6\n"
          ]
        }
      ]
    },
    {
      "cell_type": "markdown",
      "source": [
        "#**Dictionaries**\n",
        "- Dictionaries are Python's most powerful data collection.\n",
        "- Dictionaries allow us to do fast database like operations in python.\n",
        "- Dictionaries have different names in different languages.\n",
        " - Associative Array - Perl/PHP\n",
        " - Properties or Map or HashMap - Java\n",
        " - Property Bag - C#/ .Net.\n",
        "- list index their entries based on the position in the list\n",
        "- Dictionaries are like bags- no order\n",
        "- So we index the things we put in the dictionary with a \"Lookup tag\""
      ],
      "metadata": {
        "id": "6F4e8fKtoP4w"
      }
    },
    {
      "cell_type": "code",
      "source": [
        "purse = dict()\n",
        "purse['money']= 12\n",
        "purse['candy']= 5\n",
        "purse['tissues']= 45\n",
        "print(purse)\n",
        "purse['candy']= purse['candy'] + 45\n",
        "print(purse)"
      ],
      "metadata": {
        "colab": {
          "base_uri": "https://localhost:8080/"
        },
        "id": "-71bC1R_oIxn",
        "outputId": "1e9dff16-4539-4760-c73d-6c14dfe279f1"
      },
      "execution_count": null,
      "outputs": [
        {
          "output_type": "stream",
          "name": "stdout",
          "text": [
            "{'money': 12, 'candy': 5, 'tissues': 45}\n",
            "{'money': 12, 'candy': 50, 'tissues': 45}\n"
          ]
        }
      ]
    },
    {
      "cell_type": "markdown",
      "source": [
        "# Comparing Lists and Dictionaries\n",
        "Dictionaries are like listes except that they usse keys instead of numbers to look up values\n"
      ],
      "metadata": {
        "id": "HedxAglUr4ir"
      }
    },
    {
      "cell_type": "code",
      "source": [
        "lst = list()\n",
        "lst.append(21)\n",
        "lst.append(183)\n",
        "print(lst)\n",
        "lst[0]=23\n",
        "print(lst)"
      ],
      "metadata": {
        "id": "Wnqf7C6PrBTL",
        "colab": {
          "base_uri": "https://localhost:8080/"
        },
        "outputId": "3726f48f-e8ec-4f3e-8a99-0b893c0b0732"
      },
      "execution_count": null,
      "outputs": [
        {
          "output_type": "stream",
          "name": "stdout",
          "text": [
            "[21, 183]\n",
            "[23, 183]\n"
          ]
        }
      ]
    },
    {
      "cell_type": "code",
      "source": [
        "ddd = dict()\n",
        "ddd[\"age\"]=21\n",
        "ddd[\"course\"]= 182\n",
        "print(ddd)\n",
        "ddd[\"age\"]=23\n",
        "print(ddd)\n",
        "{\"course\":182,\"age\":23}\n",
        "\n"
      ],
      "metadata": {
        "id": "ISCCkknwraOL",
        "colab": {
          "base_uri": "https://localhost:8080/"
        },
        "outputId": "8069c3c4-cd3c-44f0-b263-9e2f152909b9"
      },
      "execution_count": null,
      "outputs": [
        {
          "output_type": "stream",
          "name": "stdout",
          "text": [
            "{'age': 21, 'course': 182}\n",
            "{'age': 23, 'course': 182}\n"
          ]
        },
        {
          "output_type": "execute_result",
          "data": {
            "text/plain": [
              "{'age': 23, 'course': 182}"
            ]
          },
          "metadata": {},
          "execution_count": 6
        }
      ]
    },
    {
      "cell_type": "code",
      "source": [
        "lst = list()\n",
        "lst.append(23)\n",
        "lst.append\n",
        "print(lst)\n",
        "lst[0] = 23\n",
        "print(lst)\n"
      ],
      "metadata": {
        "colab": {
          "base_uri": "https://localhost:8080/"
        },
        "id": "XDPz4HCkADCx",
        "outputId": "abb8065d-c9e0-4bfe-f158-9b8753c11b27"
      },
      "execution_count": null,
      "outputs": [
        {
          "output_type": "stream",
          "name": "stdout",
          "text": [
            "[23]\n",
            "[23]\n"
          ]
        }
      ]
    },
    {
      "cell_type": "code",
      "source": [
        "ddd = dict()\n",
        "ddd['age']= 21\n",
        "ddd['course'] = 182\n",
        "print(ddd)\n",
        "ddd['age'] = 23\n",
        "print(ddd)"
      ],
      "metadata": {
        "colab": {
          "base_uri": "https://localhost:8080/"
        },
        "id": "BpfddP6HA7MZ",
        "outputId": "3f4b99d9-d590-4bfe-aea8-ce8789167209"
      },
      "execution_count": null,
      "outputs": [
        {
          "output_type": "stream",
          "name": "stdout",
          "text": [
            "{'age': 21, 'course': 182}\n",
            "{'age': 23, 'course': 182}\n"
          ]
        }
      ]
    },
    {
      "cell_type": "markdown",
      "source": [
        "#**Dictionary Literals (Constants)**\n",
        "- Dictioonary literals use curly braces and have a list of **key:value** pairs\n",
        "- You can make an empty dictionary using empty only braces."
      ],
      "metadata": {
        "id": "hGN7j2LNBkL3"
      }
    },
    {
      "cell_type": "code",
      "source": [
        "jjj = {'dhuck':1,'fred':42,'jan':100}\n",
        "print(jjj)\n",
        "ooo = { }\n",
        "print(ooo)"
      ],
      "metadata": {
        "colab": {
          "base_uri": "https://localhost:8080/"
        },
        "id": "nRBf4Q7rBQcn",
        "outputId": "1c499747-36b9-472e-b699-3dfe3a4051ec"
      },
      "execution_count": null,
      "outputs": [
        {
          "output_type": "stream",
          "name": "stdout",
          "text": [
            "{'dhuck': 1, 'fred': 42, 'jan': 100}\n",
            "{}\n"
          ]
        }
      ]
    },
    {
      "cell_type": "markdown",
      "source": [
        "# **Many counters with a Dictionary**\n",
        "One common use of dictionaries is councting how often we \"see\" something.\n"
      ],
      "metadata": {
        "id": "MlEM3V02C8LU"
      }
    },
    {
      "cell_type": "code",
      "source": [
        "ccc = dict()\n",
        "ccc['cesy']= 1\n",
        "ccc['cwen']= 1\n",
        "print(ccc)\n",
        "ccc['cwen']= ccc['cwen']+1\n",
        "print(ccc)"
      ],
      "metadata": {
        "colab": {
          "base_uri": "https://localhost:8080/"
        },
        "id": "7T5AdEYmC1Kl",
        "outputId": "3073e846-69e1-44db-9a5b-fb1616781ce2"
      },
      "execution_count": null,
      "outputs": [
        {
          "output_type": "stream",
          "name": "stdout",
          "text": [
            "{'cesy': 1, 'cwen': 1}\n",
            "{'cesy': 1, 'cwen': 2}\n"
          ]
        }
      ]
    },
    {
      "cell_type": "markdown",
      "source": [
        "#**Dictionary Tracebacks**\n",
        "- It is an error to reference a key which is not in the dictionary.\n",
        "- We can use the the in operator to see if a key is in the dictionary."
      ],
      "metadata": {
        "id": "U9Wc1N4HEd-j"
      }
    },
    {
      "cell_type": "code",
      "source": [
        "ccc = dict()\n",
        "print(ccc['csev'])\n"
      ],
      "metadata": {
        "colab": {
          "base_uri": "https://localhost:8080/",
          "height": 183
        },
        "id": "LnhZzwGJD45b",
        "outputId": "d1e71815-02e9-4a66-f74d-578b07cefe8b"
      },
      "execution_count": null,
      "outputs": [
        {
          "output_type": "error",
          "ename": "KeyError",
          "evalue": "ignored",
          "traceback": [
            "\u001b[0;31m---------------------------------------------------------------------------\u001b[0m",
            "\u001b[0;31mKeyError\u001b[0m                                  Traceback (most recent call last)",
            "\u001b[0;32m<ipython-input-11-21f4feaeacbb>\u001b[0m in \u001b[0;36m<module>\u001b[0;34m()\u001b[0m\n\u001b[1;32m      1\u001b[0m \u001b[0mccc\u001b[0m \u001b[0;34m=\u001b[0m \u001b[0mdict\u001b[0m\u001b[0;34m(\u001b[0m\u001b[0;34m)\u001b[0m\u001b[0;34m\u001b[0m\u001b[0;34m\u001b[0m\u001b[0m\n\u001b[0;32m----> 2\u001b[0;31m \u001b[0mprint\u001b[0m\u001b[0;34m(\u001b[0m\u001b[0mccc\u001b[0m\u001b[0;34m[\u001b[0m\u001b[0;34m'csev'\u001b[0m\u001b[0;34m]\u001b[0m\u001b[0;34m)\u001b[0m\u001b[0;34m\u001b[0m\u001b[0;34m\u001b[0m\u001b[0m\n\u001b[0m",
            "\u001b[0;31mKeyError\u001b[0m: 'csev'"
          ]
        }
      ]
    },
    {
      "cell_type": "markdown",
      "source": [
        "#**When we drr s new name**\n",
        "- when we encounter a new name, we need to add a new entry in the dictionary and one to the count in the dictionary under that name"
      ],
      "metadata": {
        "id": "KlsT7wOuFbbq"
      }
    },
    {
      "cell_type": "code",
      "source": [
        "counts = dict()\n",
        "names = ['shubh','vikas','shyam','sanjay','dipesh']\n",
        "for name in names:\n",
        "  if name not in counts:\n",
        "    counts[name] = 1\n",
        "  else:\n",
        "    counts[name] = counts[name] + 1 \n",
        "print(counts)\n"
      ],
      "metadata": {
        "colab": {
          "base_uri": "https://localhost:8080/"
        },
        "id": "RawD0-vfFXNY",
        "outputId": "0351d6e5-e3ae-4a26-fe4b-bf04112300f6"
      },
      "execution_count": null,
      "outputs": [
        {
          "output_type": "stream",
          "name": "stdout",
          "text": [
            "{'shubh': 1, 'vikas': 1, 'shyam': 1, 'sanjay': 1, 'dipesh': 1}\n"
          ]
        }
      ]
    },
    {
      "cell_type": "markdown",
      "source": [
        "#**The get method for Dictionaries**\n",
        "The pattern of checking to see if a key is already is in a dicrtionary and assuming a default balue if the key is so cimmin that there is a methoid called get() that does this for us.\n",
        "\n",
        "'''Default value if key does not exist (and no traceback)'''"
      ],
      "metadata": {
        "id": "4Mxg42CoHfl-"
      }
    },
    {
      "cell_type": "code",
      "source": [
        "if name in counts:\n",
        "  x = counts[name]\n",
        "else:\n",
        "  x = 0\n",
        "x = counts.get(name,0)\n"
      ],
      "metadata": {
        "id": "VBjZ1wy7HQOO"
      },
      "execution_count": null,
      "outputs": []
    },
    {
      "cell_type": "markdown",
      "source": [
        "#**Simplified Counting with get()**\n",
        "We can use get() and provide a default value of zero when the key is not yet is the dictionary - and then just add one \n"
      ],
      "metadata": {
        "id": "rb8W0rWfMUv-"
      }
    },
    {
      "cell_type": "code",
      "source": [
        "counts = dict()\n",
        "names = [\"sanjay\",\"sanjana\",\"sima\",\"rohit\",\"karan\"]\n",
        "for name in names:\n",
        "  counts[name] = counts.get(name,0)+1\n",
        "print(counts)"
      ],
      "metadata": {
        "colab": {
          "base_uri": "https://localhost:8080/"
        },
        "id": "UIXXxyPyMI1d",
        "outputId": "19227831-cfce-4594-e376-c4581a621413"
      },
      "execution_count": null,
      "outputs": [
        {
          "output_type": "stream",
          "name": "stdout",
          "text": [
            "{'sanjay': 1, 'sanjana': 1, 'sima': 1, 'rohit': 1, 'karan': 1}\n"
          ]
        }
      ]
    },
    {
      "cell_type": "markdown",
      "source": [
        "#**Counting Pattern**\n",
        "\n"
      ],
      "metadata": {
        "id": "UOKD7Qn4SpV7"
      }
    },
    {
      "cell_type": "code",
      "source": [
        "counts = dict()\n",
        "print(\"Enter a line of text: \")\n",
        "line = input('')\n",
        "words = line.split()\n",
        "print(\"Words:\",words) \n",
        "print('counting....')\n",
        "for word in words:\n",
        "  counts[word]= counts.get(word,1)+1\n",
        "print('counts',counts)\n"
      ],
      "metadata": {
        "colab": {
          "base_uri": "https://localhost:8080/"
        },
        "id": "20_KwsLHN4YV",
        "outputId": "9c8c92ed-965d-4cde-b018-1b8b75bbaecd"
      },
      "execution_count": null,
      "outputs": [
        {
          "output_type": "stream",
          "name": "stdout",
          "text": [
            "Enter a line of text: \n",
            "my name is shubh \n",
            "Words: ['my', 'name', 'is', 'shubh']\n",
            "counting....\n",
            "counts {'my': 2, 'name': 2, 'is': 2, 'shubh': 2}\n"
          ]
        }
      ]
    },
    {
      "cell_type": "markdown",
      "source": [
        "#**Tuple Are Like Lists**"
      ],
      "metadata": {
        "id": "01FhTQJC1QFg"
      }
    },
    {
      "cell_type": "markdown",
      "source": [
        "tuples are another kind of sequence that funtions much like a list they have elements which are indexed starting at 0"
      ],
      "metadata": {
        "id": "1Qy7GGoC1cxG"
      }
    },
    {
      "cell_type": "code",
      "source": [
        "x = (\"shambhu\",\"jasef\",\"ikka\",\"eliyana\")\n",
        "print(x[2])\n"
      ],
      "metadata": {
        "id": "nQ-HDC7nZIPw",
        "colab": {
          "base_uri": "https://localhost:8080/"
        },
        "outputId": "7a97346d-fd14-423a-e16c-1f211238db23"
      },
      "execution_count": null,
      "outputs": [
        {
          "output_type": "stream",
          "name": "stdout",
          "text": [
            "ikka\n"
          ]
        }
      ]
    },
    {
      "cell_type": "code",
      "source": [
        "a  = (1,54,6,5)\n",
        "print(a)\n",
        "print(max(a))\n",
        "for iter in a:\n",
        "  print(iter)"
      ],
      "metadata": {
        "colab": {
          "base_uri": "https://localhost:8080/"
        },
        "id": "Mc6ev0642QON",
        "outputId": "45649bde-9316-4970-dc45-90600864c181"
      },
      "execution_count": null,
      "outputs": [
        {
          "output_type": "stream",
          "name": "stdout",
          "text": [
            "(1, 54, 6, 5)\n",
            "54\n",
            "1\n",
            "54\n",
            "6\n",
            "5\n"
          ]
        }
      ]
    },
    {
      "cell_type": "markdown",
      "source": [
        "#**But... Tuple are \"Immutable\"**\n",
        "Unlike a list once you create a tuple,You cannot after its contents- Similar to a string.\n"
      ],
      "metadata": {
        "id": "Y5E0sRpD2xbt"
      }
    },
    {
      "cell_type": "code",
      "source": [
        "x = [56,89,65]\n",
        "x[0]=6\n",
        "print(x)"
      ],
      "metadata": {
        "colab": {
          "base_uri": "https://localhost:8080/"
        },
        "id": "p-KYsQ2Q2ntU",
        "outputId": "e1624f28-2619-49a6-e538-362fb03e70de"
      },
      "execution_count": null,
      "outputs": [
        {
          "output_type": "stream",
          "name": "stdout",
          "text": [
            "[6, 89, 65]\n"
          ]
        }
      ]
    },
    {
      "cell_type": "code",
      "source": [
        "Y = 'ABC'\n",
        "Y[2]= 'D'\n"
      ],
      "metadata": {
        "colab": {
          "base_uri": "https://localhost:8080/",
          "height": 183
        },
        "id": "orpxdPYs3e4U",
        "outputId": "8a68975a-40b0-4469-81ee-e1ce17234797"
      },
      "execution_count": null,
      "outputs": [
        {
          "output_type": "error",
          "ename": "TypeError",
          "evalue": "ignored",
          "traceback": [
            "\u001b[0;31m---------------------------------------------------------------------------\u001b[0m",
            "\u001b[0;31mTypeError\u001b[0m                                 Traceback (most recent call last)",
            "\u001b[0;32m<ipython-input-10-95941f60a3b5>\u001b[0m in \u001b[0;36m<module>\u001b[0;34m()\u001b[0m\n\u001b[1;32m      1\u001b[0m \u001b[0mY\u001b[0m \u001b[0;34m=\u001b[0m \u001b[0;34m'ABC'\u001b[0m\u001b[0;34m\u001b[0m\u001b[0;34m\u001b[0m\u001b[0m\n\u001b[0;32m----> 2\u001b[0;31m \u001b[0mY\u001b[0m\u001b[0;34m[\u001b[0m\u001b[0;36m2\u001b[0m\u001b[0;34m]\u001b[0m\u001b[0;34m=\u001b[0m \u001b[0;34m'D'\u001b[0m\u001b[0;34m\u001b[0m\u001b[0;34m\u001b[0m\u001b[0m\n\u001b[0m",
            "\u001b[0;31mTypeError\u001b[0m: 'str' object does not support item assignment"
          ]
        }
      ]
    },
    {
      "cell_type": "code",
      "source": [
        "x = (5,6,7)\n",
        "x[2]= 0\n"
      ],
      "metadata": {
        "colab": {
          "base_uri": "https://localhost:8080/",
          "height": 183
        },
        "id": "TMMCYh4633uC",
        "outputId": "b5a7fdd5-9c77-4a2e-f25a-c93f75122596"
      },
      "execution_count": null,
      "outputs": [
        {
          "output_type": "error",
          "ename": "TypeError",
          "evalue": "ignored",
          "traceback": [
            "\u001b[0;31m---------------------------------------------------------------------------\u001b[0m",
            "\u001b[0;31mTypeError\u001b[0m                                 Traceback (most recent call last)",
            "\u001b[0;32m<ipython-input-11-c696d57348fb>\u001b[0m in \u001b[0;36m<module>\u001b[0;34m()\u001b[0m\n\u001b[1;32m      1\u001b[0m \u001b[0mx\u001b[0m \u001b[0;34m=\u001b[0m \u001b[0;34m(\u001b[0m\u001b[0;36m5\u001b[0m\u001b[0;34m,\u001b[0m\u001b[0;36m6\u001b[0m\u001b[0;34m,\u001b[0m\u001b[0;36m7\u001b[0m\u001b[0;34m)\u001b[0m\u001b[0;34m\u001b[0m\u001b[0;34m\u001b[0m\u001b[0m\n\u001b[0;32m----> 2\u001b[0;31m \u001b[0mx\u001b[0m\u001b[0;34m[\u001b[0m\u001b[0;36m2\u001b[0m\u001b[0;34m]\u001b[0m\u001b[0;34m=\u001b[0m \u001b[0;36m0\u001b[0m\u001b[0;34m\u001b[0m\u001b[0;34m\u001b[0m\u001b[0m\n\u001b[0m",
            "\u001b[0;31mTypeError\u001b[0m: 'tuple' object does not support item assignment"
          ]
        }
      ]
    },
    {
      "cell_type": "markdown",
      "source": [
        "**A tale of two Sequances**\n"
      ],
      "metadata": {
        "id": "Mprr-3Qh4fTy"
      }
    },
    {
      "cell_type": "code",
      "source": [
        "a = list()\n",
        "dir(a)"
      ],
      "metadata": {
        "colab": {
          "base_uri": "https://localhost:8080/"
        },
        "id": "5C3H0AG44UpQ",
        "outputId": "4fcc4993-246e-4d1c-c177-94bacc0fcf6b"
      },
      "execution_count": null,
      "outputs": [
        {
          "output_type": "execute_result",
          "data": {
            "text/plain": [
              "['__add__',\n",
              " '__class__',\n",
              " '__contains__',\n",
              " '__delattr__',\n",
              " '__delitem__',\n",
              " '__dir__',\n",
              " '__doc__',\n",
              " '__eq__',\n",
              " '__format__',\n",
              " '__ge__',\n",
              " '__getattribute__',\n",
              " '__getitem__',\n",
              " '__gt__',\n",
              " '__hash__',\n",
              " '__iadd__',\n",
              " '__imul__',\n",
              " '__init__',\n",
              " '__init_subclass__',\n",
              " '__iter__',\n",
              " '__le__',\n",
              " '__len__',\n",
              " '__lt__',\n",
              " '__mul__',\n",
              " '__ne__',\n",
              " '__new__',\n",
              " '__reduce__',\n",
              " '__reduce_ex__',\n",
              " '__repr__',\n",
              " '__reversed__',\n",
              " '__rmul__',\n",
              " '__setattr__',\n",
              " '__setitem__',\n",
              " '__sizeof__',\n",
              " '__str__',\n",
              " '__subclasshook__',\n",
              " 'append',\n",
              " 'clear',\n",
              " 'copy',\n",
              " 'count',\n",
              " 'extend',\n",
              " 'index',\n",
              " 'insert',\n",
              " 'pop',\n",
              " 'remove',\n",
              " 'reverse',\n",
              " 'sort']"
            ]
          },
          "metadata": {},
          "execution_count": 12
        }
      ]
    },
    {
      "cell_type": "code",
      "source": [
        "a = tuple()\n",
        "dir(a)"
      ],
      "metadata": {
        "colab": {
          "base_uri": "https://localhost:8080/"
        },
        "id": "fKV5n_G84uPJ",
        "outputId": "ffbd295e-f32b-426b-9dae-130f0bbaf011"
      },
      "execution_count": null,
      "outputs": [
        {
          "output_type": "execute_result",
          "data": {
            "text/plain": [
              "['__add__',\n",
              " '__class__',\n",
              " '__contains__',\n",
              " '__delattr__',\n",
              " '__dir__',\n",
              " '__doc__',\n",
              " '__eq__',\n",
              " '__format__',\n",
              " '__ge__',\n",
              " '__getattribute__',\n",
              " '__getitem__',\n",
              " '__getnewargs__',\n",
              " '__gt__',\n",
              " '__hash__',\n",
              " '__init__',\n",
              " '__init_subclass__',\n",
              " '__iter__',\n",
              " '__le__',\n",
              " '__len__',\n",
              " '__lt__',\n",
              " '__mul__',\n",
              " '__ne__',\n",
              " '__new__',\n",
              " '__reduce__',\n",
              " '__reduce_ex__',\n",
              " '__repr__',\n",
              " '__rmul__',\n",
              " '__setattr__',\n",
              " '__sizeof__',\n",
              " '__str__',\n",
              " '__subclasshook__',\n",
              " 'count',\n",
              " 'index']"
            ]
          },
          "metadata": {},
          "execution_count": 13
        }
      ]
    },
    {
      "cell_type": "markdown",
      "source": [
        "#**Tuple Are More Efficient**\n",
        "- Since Python does not have to build tuple structures to be midifiable,they are simpler and more effiecent in terms of memory use and preformance than lists.\n",
        "- So in our program when we are making \"temporary variables\" we prefer tuples over lists.\n"
      ],
      "metadata": {
        "id": "Hn36ma5-5FS4"
      }
    },
    {
      "cell_type": "markdown",
      "source": [
        "#**Tuples and Assignment**\n",
        "We can also put on the left-hand side of an assignment statement We can even omit the parantheses\n"
      ],
      "metadata": {
        "id": "39o_9bou6Lrw"
      }
    },
    {
      "cell_type": "code",
      "source": [
        "(x,y)= (4,\"Friend\")\n",
        "print(y)\n",
        "print(x)"
      ],
      "metadata": {
        "colab": {
          "base_uri": "https://localhost:8080/"
        },
        "id": "6zySPj3c43Vh",
        "outputId": "28a2b9c3-e71d-47ce-f9c8-696e48aa11ec"
      },
      "execution_count": null,
      "outputs": [
        {
          "output_type": "stream",
          "name": "stdout",
          "text": [
            "Friend\n",
            "4\n"
          ]
        }
      ]
    },
    {
      "cell_type": "code",
      "source": [
        "(a,b) = (99,98)\n",
        "print(a)"
      ],
      "metadata": {
        "colab": {
          "base_uri": "https://localhost:8080/"
        },
        "id": "niiz9FST65vt",
        "outputId": "9d5ebdb9-beb9-4837-800c-be26c81e7e16"
      },
      "execution_count": null,
      "outputs": [
        {
          "output_type": "stream",
          "name": "stdout",
          "text": [
            "99\n"
          ]
        }
      ]
    },
    {
      "cell_type": "markdown",
      "source": [
        "####**The items() method in dictionaries returns a list of (key,value)tuples**"
      ],
      "metadata": {
        "id": "3l7uxml37MB2"
      }
    },
    {
      "cell_type": "code",
      "source": [
        "d = dict()\n",
        "d[\"shubh\"]= 5\n",
        "d[\"sachin\"]=4\n",
        "for (k,y)in d.items():\n",
        "  print(k,y)"
      ],
      "metadata": {
        "colab": {
          "base_uri": "https://localhost:8080/"
        },
        "id": "3_6SV0SV7GwF",
        "outputId": "a7a047e4-d626-4526-bbfd-50524ad87cbe"
      },
      "execution_count": null,
      "outputs": [
        {
          "output_type": "stream",
          "name": "stdout",
          "text": [
            "shubh 5\n",
            "sachin 4\n"
          ]
        }
      ]
    },
    {
      "cell_type": "code",
      "source": [
        "tups = d.items()\n",
        "print(tups)"
      ],
      "metadata": {
        "colab": {
          "base_uri": "https://localhost:8080/"
        },
        "id": "uVffULLZ8Mrh",
        "outputId": "81eaf030-f295-40f4-c43b-1449694f4002"
      },
      "execution_count": null,
      "outputs": [
        {
          "output_type": "stream",
          "name": "stdout",
          "text": [
            "dict_items([('shubh', 5), ('sachin', 4)])\n"
          ]
        }
      ]
    },
    {
      "cell_type": "markdown",
      "source": [
        "#**Tuples are Comparable**\n",
        "The comparison operators waork with tuple and other sequences. if the first item is equal. python goes on to the next element. and so on, Until it finds elements that differ.\n"
      ],
      "metadata": {
        "id": "xLF7zeEa8koD"
      }
    },
    {
      "cell_type": "code",
      "source": [
        "(0,1,2)<(6,5,3)\n",
        "\n",
        "\n"
      ],
      "metadata": {
        "colab": {
          "base_uri": "https://localhost:8080/"
        },
        "id": "0AIorBDz8c1K",
        "outputId": "d08f7bde-ee79-4bb3-bf23-24dec21da8d0"
      },
      "execution_count": null,
      "outputs": [
        {
          "output_type": "execute_result",
          "data": {
            "text/plain": [
              "True"
            ]
          },
          "metadata": {},
          "execution_count": 21
        }
      ]
    },
    {
      "cell_type": "code",
      "source": [
        "(4,4,4)>(5,5,5)"
      ],
      "metadata": {
        "colab": {
          "base_uri": "https://localhost:8080/"
        },
        "id": "_CC6Rrv6-a9G",
        "outputId": "d5143ff4-dd27-4f87-8484-5355d25302cc"
      },
      "execution_count": null,
      "outputs": [
        {
          "output_type": "execute_result",
          "data": {
            "text/plain": [
              "False"
            ]
          },
          "metadata": {},
          "execution_count": 22
        }
      ]
    },
    {
      "cell_type": "code",
      "source": [
        "(\"sadhana\",\"sandhya\")<(\"sandhya\",\"sadhana\")"
      ],
      "metadata": {
        "colab": {
          "base_uri": "https://localhost:8080/"
        },
        "id": "qSIzmnLv-0xn",
        "outputId": "9b2fe0c0-4c23-4069-db78-3df1ef08affe"
      },
      "execution_count": null,
      "outputs": [
        {
          "output_type": "execute_result",
          "data": {
            "text/plain": [
              "True"
            ]
          },
          "metadata": {},
          "execution_count": 23
        }
      ]
    },
    {
      "cell_type": "code",
      "source": [
        "(\"sanju\",\"shubham\")>(\"raja\",\"x\")"
      ],
      "metadata": {
        "colab": {
          "base_uri": "https://localhost:8080/"
        },
        "id": "rQ8j2cwJ-9n1",
        "outputId": "cf06345b-2cf0-4fff-ece9-ec60578653f5"
      },
      "execution_count": null,
      "outputs": [
        {
          "output_type": "execute_result",
          "data": {
            "text/plain": [
              "True"
            ]
          },
          "metadata": {},
          "execution_count": 24
        }
      ]
    },
    {
      "cell_type": "markdown",
      "source": [
        "#**Sorting Lines of Tuples**\n",
        "- ## *We can take advantages of the ability to sort a list of tuple to get a sorted version of a dictionary.**\n",
        "- ## *First we sort the dictionary by the key using the **items()**  method and **sorted()** function*"
      ],
      "metadata": {
        "id": "HDk-z4PE_JfY"
      }
    },
    {
      "cell_type": "code",
      "source": [
        "d = {'a':10,'b':5,'c':20}\n",
        "d.items()\n",
        "sorted(d.items())"
      ],
      "metadata": {
        "colab": {
          "base_uri": "https://localhost:8080/"
        },
        "id": "6nj6_uGK_FiP",
        "outputId": "256d2580-5ea0-4b11-acab-a7dff3d4a06f"
      },
      "execution_count": null,
      "outputs": [
        {
          "output_type": "execute_result",
          "data": {
            "text/plain": [
              "[('a', 10), ('b', 5), ('c', 20)]"
            ]
          },
          "metadata": {},
          "execution_count": 25
        }
      ]
    },
    {
      "cell_type": "markdown",
      "source": [
        "#**Using sorted()**\n",
        "##*We can do this even more directly using the built-in function sorted that takes a sequence as a parameter and returns a sorted sequence*"
      ],
      "metadata": {
        "id": "8XqFPEeQAaVc"
      }
    },
    {
      "cell_type": "code",
      "source": [
        "d = {'a':10, 'b':20, 'c':30}\n",
        "b\n",
        "for a, c in sorted(d.items()):\n",
        "  print(a, c)\n"
      ],
      "metadata": {
        "colab": {
          "base_uri": "https://localhost:8080/"
        },
        "id": "cH5rJxGTATv0",
        "outputId": "1cdbd782-6eca-4726-dec3-c0f6ff46dc7f"
      },
      "execution_count": null,
      "outputs": [
        {
          "output_type": "stream",
          "name": "stdout",
          "text": [
            "a 10\n",
            "b 20\n",
            "c 30\n"
          ]
        }
      ]
    },
    {
      "cell_type": "markdown",
      "source": [
        "# **Sort by Value Insread of Key**\n",
        "- If we could construct a list of tuple of the forn (value,key) we could sort by value\n",
        "- We do this with a for loop  that creates a list of tuples.\n"
      ],
      "metadata": {
        "id": "8_M0l-BFDB2k"
      }
    },
    {
      "cell_type": "code",
      "source": [
        "c= {\"a\":10,\"b\":5,\"c\":20}\n",
        "tmp = list()\n",
        "for k,v in c.items():\n",
        "  tmp.append((v,k))\n",
        "print(tmp)\n",
        "tmp = sorted(tmp, reverse=True)"
      ],
      "metadata": {
        "id": "DVVv4W_RCK29",
        "colab": {
          "base_uri": "https://localhost:8080/"
        },
        "outputId": "71a59cfb-3729-42da-fa2f-ade3143efd4e"
      },
      "execution_count": null,
      "outputs": [
        {
          "output_type": "stream",
          "name": "stdout",
          "text": [
            "[(10, 'a'), (5, 'b'), (20, 'c')]\n"
          ]
        }
      ]
    },
    {
      "cell_type": "code",
      "source": [
        "fhand = open(\"file name\")\n",
        "counts = dict()\n",
        "for line in fhand:\n",
        "  word = line.split()\n",
        "  for word in words:\n",
        "    counts[word] = counts.get(word,0)+1\n",
        "    "
      ],
      "metadata": {
        "id": "sLoDL4XgPs71"
      },
      "execution_count": null,
      "outputs": []
    },
    {
      "cell_type": "code",
      "source": [
        "lst = list()\n",
        "counts = dict()\n",
        "for key, val in counts.items():\n",
        "  newtup = (val, key)\n",
        "  lst.append(newtup)\n",
        "lst = sorted(lst,reverse=True)\n",
        "for val, key in lst[:10]:\n",
        "  print(key,val)\n"
      ],
      "metadata": {
        "id": "Y7HXgALoQRAC"
      },
      "execution_count": null,
      "outputs": []
    },
    {
      "cell_type": "code",
      "source": [
        "c = {'a':10,'b':1,'c':11}\n",
        "print(sorted([(v,k)for k,v in c.items()]))\n"
      ],
      "metadata": {
        "colab": {
          "base_uri": "https://localhost:8080/"
        },
        "id": "CR12htB6Qxky",
        "outputId": "8b2bd229-3865-4fbc-b7d1-61292e473e5e"
      },
      "execution_count": null,
      "outputs": [
        {
          "output_type": "stream",
          "name": "stdout",
          "text": [
            "[(1, 'b'), (10, 'a'), (11, 'c')]\n"
          ]
        }
      ]
    },
    {
      "cell_type": "markdown",
      "source": [
        "List comprehansion creats a dynemic list. in this case, we make a list of reversed tuples and then sort it."
      ],
      "metadata": {
        "id": "rCizT9HaSaFx"
      }
    },
    {
      "cell_type": "code",
      "source": [],
      "metadata": {
        "id": "ZvKqAyv7SWr3"
      },
      "execution_count": null,
      "outputs": []
    }
  ],
  "metadata": {
    "colab": {
      "provenance": [],
      "collapsed_sections": [],
      "mount_file_id": "1fYOzW_ggt8E2exAMQ1f1-Cn2BTmz9fdn",
      "authorship_tag": "ABX9TyMUpxGpZFjmyNWGL5dhJAIq",
      "include_colab_link": true
    },
    "kernelspec": {
      "display_name": "Python 3",
      "name": "python3"
    },
    "language_info": {
      "name": "python"
    }
  },
  "nbformat": 4,
  "nbformat_minor": 0
}